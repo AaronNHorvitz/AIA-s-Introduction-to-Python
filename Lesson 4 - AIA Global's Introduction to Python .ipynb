{
 "cells": [
  {
   "cell_type": "markdown",
   "metadata": {},
   "source": [
    "# Lesson 4 - Introduction to Python "
   ]
  },
  {
   "cell_type": "markdown",
   "metadata": {},
   "source": [
    "## Printing, Input, Common Escape Sequences, F-Strings"
   ]
  },
  {
   "cell_type": "markdown",
   "metadata": {},
   "source": [
    "### Printing Strings in Python\n",
    "The <b>print()</b> function prints a specified message to a screen, or other standard output device found in the parenthesis.\n",
    "The message can be a string, or any other object, the object will be converted into a string before written to the screen."
   ]
  },
  {
   "cell_type": "code",
   "execution_count": null,
   "metadata": {},
   "outputs": [],
   "source": [
    "print('Hello')"
   ]
  },
  {
   "cell_type": "markdown",
   "metadata": {},
   "source": [
    "The print function can use a comma as a separator to print more than one object or it can recieve one string as an argument. If you forget a comma or operator, Python will implcitly concatenate the strings. "
   ]
  },
  {
   "cell_type": "code",
   "execution_count": 35,
   "metadata": {},
   "outputs": [
    {
     "name": "stdout",
     "output_type": "stream",
     "text": [
      "Hello how are you?\n",
      "Hello how are you?\n",
      "Hello how are you?\n"
     ]
    }
   ],
   "source": [
    "print(\"Hello\"  , \"how are you?\")\n",
    "print(\"Hello \" + \"how are you?\")\n",
    "print(\"Hello \"   \"how are you?\")"
   ]
  },
  {
   "cell_type": "markdown",
   "metadata": {},
   "source": [
    "### The Input Function in Python"
   ]
  },
  {
   "cell_type": "markdown",
   "metadata": {},
   "source": [
    "### input()\n",
    "Python uses the <b>input()</b> function to accept data directly from the user.<br>\n",
    "<br>\n",
    "Here are three methods of using the input function."
   ]
  },
  {
   "cell_type": "markdown",
   "metadata": {},
   "source": [
    "<b>First method to get input.</b>"
   ]
  },
  {
   "cell_type": "code",
   "execution_count": 31,
   "metadata": {},
   "outputs": [
    {
     "name": "stdout",
     "output_type": "stream",
     "text": [
      "What is your name? Ben\n",
      "Ben\n"
     ]
    }
   ],
   "source": [
    "name = input('What is your name? ')\n",
    "print(name)"
   ]
  },
  {
   "cell_type": "markdown",
   "metadata": {},
   "source": [
    "<b>Second method to get input.</b>"
   ]
  },
  {
   "cell_type": "code",
   "execution_count": 32,
   "metadata": {},
   "outputs": [
    {
     "name": "stdout",
     "output_type": "stream",
     "text": [
      "What is your name?\n",
      "Ben\n",
      "Ben\n"
     ]
    }
   ],
   "source": [
    "print('What is your name?')\n",
    "name = input()\n",
    "print(name)"
   ]
  },
  {
   "cell_type": "markdown",
   "metadata": {},
   "source": [
    "<b>Third method to get input.</b>"
   ]
  },
  {
   "cell_type": "code",
   "execution_count": 33,
   "metadata": {},
   "outputs": [
    {
     "name": "stdout",
     "output_type": "stream",
     "text": [
      "What is your name? Ben\n",
      "Ben\n"
     ]
    }
   ],
   "source": [
    "print(input('What is your name? '))"
   ]
  },
  {
   "cell_type": "markdown",
   "metadata": {},
   "source": [
    "### Common Escape Sequences in Strings\n",
    "Strings can also have <b>common escape sequences</b> to include special characters in a string for printing.<br>\n",
    "<br>\n",
    "<b><i>\\n</i></b>      $\\;\\;\\;\\;\\;\\;\\;$New Line<br>\n",
    "<b><i>\\t</i></b>      $\\;\\;\\;\\;\\;\\;\\;$Tab<br>\n",
    "<b><i>\\r</i></b>      $\\;\\;\\;\\;\\;\\;\\;$Carriage Return<br>\n",
    "<b><i>\\\\\"</i></b>     $\\;\\;\\;\\;\\;\\;$Quotation mark in a double quoted string<br>\n",
    "<b><i>\\\\'</i></b>     $\\;\\;\\;\\;\\;\\;\\;$Quotation mark in a single quoted string<br>\n",
    "<b><i>\\\\\\\\</i></b>     $\\;\\;\\;\\;\\;\\;\\;$</b>Backslash<br>"
   ]
  },
  {
   "cell_type": "code",
   "execution_count": 4,
   "metadata": {},
   "outputs": [
    {
     "name": "stdout",
     "output_type": "stream",
     "text": [
      "This is the first sentence. \n",
      "This is the second sentence.\n"
     ]
    }
   ],
   "source": [
    "#Using \\n to create a new line between sentences. \n",
    "\n",
    "print('This is the first sentence. \\nThis is the second sentence.')"
   ]
  },
  {
   "cell_type": "code",
   "execution_count": 5,
   "metadata": {},
   "outputs": [
    {
     "name": "stdout",
     "output_type": "stream",
     "text": [
      "\tThis is the first sentence. \n",
      "\tThis is the second sentence.\n"
     ]
    }
   ],
   "source": [
    "#Using \\t and \\n to put new lines and tabs tabs between sentences.\n",
    "\n",
    "print('\\tThis is the first sentence. \\n\\tThis is the second sentence.')"
   ]
  },
  {
   "cell_type": "code",
   "execution_count": 6,
   "metadata": {},
   "outputs": [
    {
     "name": "stdout",
     "output_type": "stream",
     "text": [
      "This is the first sentence. \r",
      "This is the second sentence.\n"
     ]
    }
   ],
   "source": [
    "#Using \\r to return between sentences\n",
    "\n",
    "print('This is the first sentence. \\rThis is the second sentence.')"
   ]
  },
  {
   "cell_type": "code",
   "execution_count": 7,
   "metadata": {},
   "outputs": [
    {
     "name": "stdout",
     "output_type": "stream",
     "text": [
      "  \"This is the first sentence.\" \"This is the second sentence.\"  \n"
     ]
    }
   ],
   "source": [
    "#Using \\\" to put a quotation in a single quoted string.\n",
    "#Remember to put the original string inside single quotes! ' '.\n",
    "\n",
    "print('  \\\"This is the first sentence.\" \\\"This is the second sentence.\"  ')"
   ]
  },
  {
   "cell_type": "code",
   "execution_count": 8,
   "metadata": {},
   "outputs": [
    {
     "name": "stdout",
     "output_type": "stream",
     "text": [
      "  'This is the first sentence. 'This is the second sentence.'  \n"
     ]
    }
   ],
   "source": [
    "print(\"  \\'This is the first sentence. \\'This is the second sentence.'  \")"
   ]
  },
  {
   "cell_type": "code",
   "execution_count": 9,
   "metadata": {},
   "outputs": [
    {
     "name": "stdout",
     "output_type": "stream",
     "text": [
      "This is the first sentence. \\ This is the second sentence.\n"
     ]
    }
   ],
   "source": [
    "#Using \\\\ to put a backslash in the \n",
    "\n",
    "print('This is the first sentence. \\\\ This is the second sentence.')"
   ]
  },
  {
   "cell_type": "markdown",
   "metadata": {},
   "source": [
    "### Formatted String Literals\n",
    "<b>Formatted string literals</b> (also called <b>f-strings</b> for short) let you include the value of Python expressions inside a string by prefixing the string with <b>f</b> or <b>F</b> and writing expressions as {expression}."
   ]
  },
  {
   "cell_type": "code",
   "execution_count": 10,
   "metadata": {},
   "outputs": [],
   "source": [
    "#Here is the value of Pi out to 50 decimal places assigned as a float. \n",
    "\n",
    "pi = 3.14158999999999988261834005243144929409027099609375"
   ]
  },
  {
   "cell_type": "markdown",
   "metadata": {},
   "source": [
    "To use formatted string literals, begin a string with <b>f</b> or <b>F</b> before the opening quotation mark or triple quotation mark. Inside this string, you can write a Python expression between <b>{</b> and <b>}</b> characters that can refer to variables or literal values."
   ]
  },
  {
   "cell_type": "code",
   "execution_count": 11,
   "metadata": {},
   "outputs": [
    {
     "data": {
      "text/plain": [
       "'The value of pi is approximately 3.14159'"
      ]
     },
     "execution_count": 11,
     "metadata": {},
     "output_type": "execute_result"
    }
   ],
   "source": [
    "#Here is an example of using Pi in a formatted string literal. \n",
    "#The string literal will truncate the value of pi to five decimal places.\n",
    "\n",
    "f'The value of pi is approximately {pi}'"
   ]
  },
  {
   "cell_type": "code",
   "execution_count": 12,
   "metadata": {},
   "outputs": [
    {
     "name": "stdout",
     "output_type": "stream",
     "text": [
      "The value of pi is approximately 3.141590\n"
     ]
    }
   ],
   "source": [
    "#Here is an example of using the print statement to print out the string literal. \n",
    "\n",
    "print(f'The value of pi is approximately {pi:f}')"
   ]
  },
  {
   "cell_type": "code",
   "execution_count": 13,
   "metadata": {},
   "outputs": [
    {
     "name": "stdout",
     "output_type": "stream",
     "text": [
      "The value of pi is approximately 3.14159\n"
     ]
    }
   ],
   "source": [
    "#Assigning the string literal to the value x and then printing the value x. \n",
    "\n",
    "x = f'The value of pi is approximately {pi}'\n",
    "print(x)"
   ]
  },
  {
   "cell_type": "markdown",
   "metadata": {},
   "source": [
    "Putting a decimal before the number displays the number of decimal places. {pi:.1f}"
   ]
  },
  {
   "cell_type": "code",
   "execution_count": 16,
   "metadata": {},
   "outputs": [
    {
     "name": "stdout",
     "output_type": "stream",
     "text": [
      "The value of pi is approximately 3.1\n",
      "The value of pi is approximately 3.14\n",
      "The value of pi is approximately 3.142\n",
      "The value of pi is approximately 3.1416\n",
      "The value of pi is approximately 3.14159\n",
      "The value of pi is approximately 3.1415900000\n",
      "The value of pi is approximately 3.141590000000000\n",
      "The value of pi is approximately 3.14158999999999988262\n",
      "The value of pi is approximately 3.1415899999999998826183401\n",
      "The value of pi is approximately 3.141589999999999882618340052431\n",
      "The value of pi is approximately 3.14158999999999988261834005243144929\n",
      "The value of pi is approximately 3.1415899999999998826183400524314492940903\n"
     ]
    }
   ],
   "source": [
    "# putting a decimal before the number displays the number of decimal places. \n",
    "\n",
    "print(f'The value of pi is approximately {pi:.1f}')\n",
    "print(f'The value of pi is approximately {pi:.2f}')\n",
    "print(f'The value of pi is approximately {pi:.3f}')\n",
    "print(f'The value of pi is approximately {pi:.4f}')\n",
    "print(f'The value of pi is approximately {pi:.5f}')\n",
    "print(f'The value of pi is approximately {pi:.10f}')\n",
    "print(f'The value of pi is approximately {pi:.15f}')\n",
    "print(f'The value of pi is approximately {pi:.20f}')\n",
    "print(f'The value of pi is approximately {pi:.25f}')\n",
    "print(f'The value of pi is approximately {pi:.30f}')\n",
    "print(f'The value of pi is approximately {pi:.35f}')\n",
    "print(f'The value of pi is approximately {pi:.40f}')"
   ]
  },
  {
   "cell_type": "markdown",
   "metadata": {},
   "source": [
    "Puting the value before the number controls how many spaces it indents. "
   ]
  },
  {
   "cell_type": "code",
   "execution_count": 15,
   "metadata": {},
   "outputs": [
    {
     "name": "stdout",
     "output_type": "stream",
     "text": [
      "The value of pi is approximately 3.141590\n",
      "The value of pi is approximately 3.141590\n",
      "The value of pi is approximately 3.141590\n",
      "The value of pi is approximately 3.141590\n",
      "The value of pi is approximately 3.141590\n",
      "The value of pi is approximately   3.141590\n",
      "The value of pi is approximately        3.141590\n",
      "The value of pi is approximately             3.141590\n",
      "The value of pi is approximately                  3.141590\n",
      "The value of pi is approximately                       3.141590\n",
      "The value of pi is approximately                            3.141590\n",
      "The value of pi is approximately                                 3.141590\n"
     ]
    }
   ],
   "source": [
    "print(f'The value of pi is approximately {pi:1f}')\n",
    "print(f'The value of pi is approximately {pi:2f}')\n",
    "print(f'The value of pi is approximately {pi:3f}')\n",
    "print(f'The value of pi is approximately {pi:4f}')\n",
    "print(f'The value of pi is approximately {pi:5f}')\n",
    "print(f'The value of pi is approximately {pi:10f}')\n",
    "print(f'The value of pi is approximately {pi:15f}')\n",
    "print(f'The value of pi is approximately {pi:20f}')\n",
    "print(f'The value of pi is approximately {pi:25f}')\n",
    "print(f'The value of pi is approximately {pi:30f}')\n",
    "print(f'The value of pi is approximately {pi:35f}')\n",
    "print(f'The value of pi is approximately {pi:40f}')"
   ]
  },
  {
   "cell_type": "markdown",
   "metadata": {},
   "source": [
    "Passing an <b>integer</b> value is also useful for making columns line up properly. "
   ]
  },
  {
   "cell_type": "code",
   "execution_count": 17,
   "metadata": {},
   "outputs": [],
   "source": [
    "name_1 = 'Pi'\n",
    "name_2 = 'Champernowne Constant'\n",
    "name_3 = 'Exponential Growth Constant'\n",
    "\n",
    "Pi   = 3.1415899999999998826183400524314     #Value of Pi\n",
    "C_10 = 0.1234567891011121314151617181920     #Champernowne Constant\n",
    "e    = 2.7182818284590452353602874713526     #Euler's Number"
   ]
  },
  {
   "cell_type": "code",
   "execution_count": 18,
   "metadata": {},
   "outputs": [
    {
     "name": "stdout",
     "output_type": "stream",
     "text": [
      "The value of Pi                             is approximately   3.141590\n",
      "The value of Champernowne Constant          is approximately   0.123457\n",
      "The value of Exponential Growth Constant    is approximately   2.718282\n"
     ]
    }
   ],
   "source": [
    "#Lining up the columns properly in the print statement gives the following:\n",
    "\n",
    "print(f'The value of {name_1:30} is approximately {pi:10f}')\n",
    "print(f'The value of {name_2:30} is approximately {C_10:10f}')\n",
    "print(f'The value of {name_3:30} is approximately {e:10f}')"
   ]
  },
  {
   "cell_type": "markdown",
   "metadata": {},
   "source": [
    "### The Format Method\n",
    "The <b>str.format()</b> method of strings requires more manual effort. You’ll still use <b>{</b> and <b>}</b> to mark where a variable will be substituted and can provide detailed formatting directives, but you’ll also need to provide the information to be formatted."
   ]
  },
  {
   "cell_type": "code",
   "execution_count": 19,
   "metadata": {},
   "outputs": [],
   "source": [
    "#Here is the value of Pi out to 50 decimal places assigned as a float. \n",
    "\n",
    "Pi = 3.14158999999999988261834005243144929409027099609375"
   ]
  },
  {
   "cell_type": "code",
   "execution_count": 20,
   "metadata": {},
   "outputs": [
    {
     "data": {
      "text/plain": [
       "'The value of pi is approximately 3.14159'"
      ]
     },
     "execution_count": 20,
     "metadata": {},
     "output_type": "execute_result"
    }
   ],
   "source": [
    "#The format method will truncate the value of pi to six decimal places.\n",
    "\n",
    "'The value of pi is approximately {}'.format(Pi)"
   ]
  },
  {
   "cell_type": "code",
   "execution_count": 21,
   "metadata": {},
   "outputs": [
    {
     "name": "stdout",
     "output_type": "stream",
     "text": [
      "The value of pi is approximately 3.14159\n"
     ]
    }
   ],
   "source": [
    "#Here is an example of using the format method in a print statement.\n",
    " \n",
    "print('The value of pi is approximately {}'.format(Pi))"
   ]
  },
  {
   "cell_type": "code",
   "execution_count": 22,
   "metadata": {},
   "outputs": [
    {
     "name": "stdout",
     "output_type": "stream",
     "text": [
      "The value of pi is approximately 3.14159\n"
     ]
    }
   ],
   "source": [
    "#Here is an exmaple of assigning the format value to x and then printing the value of x. \n",
    "\n",
    "x = 'The value of pi is approximately {}'.format(Pi)\n",
    "print(x)"
   ]
  },
  {
   "cell_type": "markdown",
   "metadata": {},
   "source": [
    "Putting a <b>decimal</b> value after the <b>':'</b> will expand the number of spaces past the decimal point that are displayed. "
   ]
  },
  {
   "cell_type": "code",
   "execution_count": 23,
   "metadata": {},
   "outputs": [
    {
     "name": "stdout",
     "output_type": "stream",
     "text": [
      "The value of pi is approximately 3.1\n",
      "The value of pi is approximately 3.14\n",
      "The value of pi is approximately 3.142\n",
      "The value of pi is approximately 3.1416\n",
      "The value of pi is approximately 3.14159\n",
      "The value of pi is approximately 3.1415900000\n",
      "The value of pi is approximately 3.141590000000000\n",
      "The value of pi is approximately 3.14158999999999988262\n",
      "The value of pi is approximately 3.1415899999999998826183401\n",
      "The value of pi is approximately 3.141589999999999882618340052431\n",
      "The value of pi is approximately 3.14158999999999988261834005243144929\n",
      "The value of pi is approximately 3.1415899999999998826183400524314492940903\n"
     ]
    }
   ],
   "source": [
    "print('The value of pi is approximately {:.1f}'.format(Pi))\n",
    "print('The value of pi is approximately {:.2f}'.format(Pi))\n",
    "print('The value of pi is approximately {:.3f}'.format(Pi))\n",
    "print('The value of pi is approximately {:.4f}'.format(Pi))\n",
    "print('The value of pi is approximately {:.5f}'.format(Pi))\n",
    "print('The value of pi is approximately {:.10f}'.format(Pi))\n",
    "print('The value of pi is approximately {:.15f}'.format(Pi))\n",
    "print('The value of pi is approximately {:.20f}'.format(Pi))\n",
    "print('The value of pi is approximately {:.25f}'.format(Pi))\n",
    "print('The value of pi is approximately {:.30f}'.format(Pi))\n",
    "print('The value of pi is approximately {:.35f}'.format(Pi))\n",
    "print('The value of pi is approximately {:.40f}'.format(Pi))"
   ]
  },
  {
   "cell_type": "code",
   "execution_count": 24,
   "metadata": {},
   "outputs": [
    {
     "name": "stdout",
     "output_type": "stream",
     "text": [
      "The value of pi is approximately 3.141590\n",
      "The value of pi is approximately 3.141590\n",
      "The value of pi is approximately 3.141590\n",
      "The value of pi is approximately 3.141590\n",
      "The value of pi is approximately 3.141590\n",
      "The value of pi is approximately   3.141590\n",
      "The value of pi is approximately        3.141590\n",
      "The value of pi is approximately             3.141590\n",
      "The value of pi is approximately                  3.141590\n",
      "The value of pi is approximately                       3.141590\n",
      "The value of pi is approximately                            3.141590\n",
      "The value of pi is approximately                                     3.14\n"
     ]
    }
   ],
   "source": [
    "print('The value of pi is approximately {:1f}'.format(Pi))\n",
    "print('The value of pi is approximately {:2f}'.format(Pi))\n",
    "print('The value of pi is approximately {:3f}'.format(Pi))\n",
    "print('The value of pi is approximately {:4f}'.format(Pi))\n",
    "print('The value of pi is approximately {:5f}'.format(Pi))\n",
    "print('The value of pi is approximately {:10f}'.format(Pi))\n",
    "print('The value of pi is approximately {:15f}'.format(Pi))\n",
    "print('The value of pi is approximately {:20f}'.format(Pi))\n",
    "print('The value of pi is approximately {:25f}'.format(Pi))\n",
    "print('The value of pi is approximately {:30f}'.format(Pi))\n",
    "print('The value of pi is approximately {:35f}'.format(Pi))\n",
    "print('The value of pi is approximately {:40.2f}'.format(Pi))"
   ]
  },
  {
   "cell_type": "markdown",
   "metadata": {},
   "source": [
    "Passing an <b>integer</b> value is also useful for making columns line up properly. "
   ]
  },
  {
   "cell_type": "code",
   "execution_count": 26,
   "metadata": {},
   "outputs": [],
   "source": [
    "name_1 = 'Pi'\n",
    "name_2 = 'Champernowne Constant'\n",
    "name_3 = 'Exponential Growth Constant'\n",
    "\n",
    "Pi   = 3.1415899999999998826183400524314     #Value of Pi\n",
    "C_10 = 0.1234567891011121314151617181920     #Champernowne Constant\n",
    "e    = 2.7182818284590452353602874713526     #Euler's Number"
   ]
  },
  {
   "cell_type": "code",
   "execution_count": 27,
   "metadata": {},
   "outputs": [
    {
     "name": "stdout",
     "output_type": "stream",
     "text": [
      "The value of Pi                             is approximately   3.141590\n",
      "The value of Champernowne Constant          is approximately   0.123457\n",
      "The value of Exponential Growth Constant    is approximately   2.718282\n"
     ]
    }
   ],
   "source": [
    "print('The value of {:30} is approximately {:10f}'.format(name_1,Pi))\n",
    "print('The value of {:30} is approximately {:10f}'.format(name_2,C_10))\n",
    "print('The value of {:30} is approximately {:10f}'.format(name_3,e))"
   ]
  },
  {
   "cell_type": "markdown",
   "metadata": {},
   "source": [
    "The string methods also allow you to reverse the order of the strings by placing a <b>1</b> or a <b>0</b> between the brackets <b>{</b> and <b>}</b>. "
   ]
  },
  {
   "cell_type": "code",
   "execution_count": 29,
   "metadata": {},
   "outputs": [
    {
     "name": "stdout",
     "output_type": "stream",
     "text": [
      "We are the knights, the knights who say \"Ni!\"\n",
      "We are the Ni who say \"knights!\"\n"
     ]
    }
   ],
   "source": [
    "#Using a 1 or a 0 to change the order with the string method\n",
    "\n",
    "print('We are the {0}, the {0} who say \"{1}!\"'.format('knights', 'Ni'))\n",
    "print('We are the {1} who say \"{0}!\"'.format('knights', 'Ni'))"
   ]
  },
  {
   "cell_type": "markdown",
   "metadata": {},
   "source": [
    "### EXERCISE:\n",
    "Write code that asks the user for their first name, middle name, and then their last name. Then print their full name. "
   ]
  },
  {
   "cell_type": "code",
   "execution_count": 36,
   "metadata": {},
   "outputs": [
    {
     "name": "stdout",
     "output_type": "stream",
     "text": [
      "Please enter your first name.Ben\n",
      "Please enter your middle name.AIA\n",
      "Please enter your last name.Gonzales\n",
      "Your full name is:  Ben AIA Gonzales\n"
     ]
    }
   ],
   "source": [
    "first_name = input('Please enter your first name.')\n",
    "middle_name = input('Please enter your middle name.')\n",
    "last_name = input('Please enter your last name.')\n",
    "print('Your full name is: ', first_name, middle_name, last_name)"
   ]
  },
  {
   "cell_type": "code",
   "execution_count": null,
   "metadata": {},
   "outputs": [],
   "source": []
  }
 ],
 "metadata": {
  "kernelspec": {
   "display_name": "Python 3",
   "language": "python",
   "name": "python3"
  },
  "language_info": {
   "codemirror_mode": {
    "name": "ipython",
    "version": 3
   },
   "file_extension": ".py",
   "mimetype": "text/x-python",
   "name": "python",
   "nbconvert_exporter": "python",
   "pygments_lexer": "ipython3",
   "version": "3.7.6"
  }
 },
 "nbformat": 4,
 "nbformat_minor": 4
}
