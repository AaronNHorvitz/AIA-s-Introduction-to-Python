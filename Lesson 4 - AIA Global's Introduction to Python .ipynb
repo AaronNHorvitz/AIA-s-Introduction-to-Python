{
 "cells": [
  {
   "cell_type": "markdown",
   "metadata": {},
   "source": [
    "# Lesson 4 - Introduction to Python "
   ]
  },
  {
   "cell_type": "markdown",
   "metadata": {},
   "source": [
    "## Printing, Input, Common Escape Sequences, F-Strings"
   ]
  },
  {
   "cell_type": "markdown",
   "metadata": {},
   "source": [
    "### Printing Strings in Python\n",
    "The <b>print()</b> function prints a specified message to a screen, or other standard output device found in the parenthesis.\n",
    "The message can be a string, or any other object, the object will be converted into a string before written to the screen."
   ]
  },
  {
   "cell_type": "code",
   "execution_count": null,
   "metadata": {},
   "outputs": [],
   "source": [
    "print('Hello')"
   ]
  },
  {
   "cell_type": "markdown",
   "metadata": {},
   "source": [
    "The print function can use a comma as a separator to print more than one object or it can recieve one string as an argument. If you forget a comma or operator, Python will implcitly concatenate the strings. "
   ]
  },
  {
   "cell_type": "code",
   "execution_count": 35,
   "metadata": {},
   "outputs": [
    {
     "name": "stdout",
     "output_type": "stream",
     "text": [
      "Hello how are you?\n",
      "Hello how are you?\n",
      "Hello how are you?\n"
     ]
    }
   ],
   "source": [
    "print(\"Hello\"  , \"how are you?\")\n",
    "print(\"Hello \" + \"how are you?\")\n",
    "print(\"Hello \"   \"how are you?\")"
   ]
  },
  {
   "cell_type": "markdown",
   "metadata": {},
   "source": [
    "### The Input Function in Python"
   ]
  },
  {
   "cell_type": "markdown",
   "metadata": {},
   "source": [
    "### input()\n",
    "Python uses the <b>input()</b> function to accept data directly from the user.<br>\n",
    "<br>\n",
    "Here are three methods of using the input function."
   ]
  },
  {
   "cell_type": "markdown",
   "metadata": {},
   "source": [
    "<b>First method to get input.</b>"
   ]
  },
  {
   "cell_type": "code",
   "execution_count": 31,
   "metadata": {},
   "outputs": [
    {
     "name": "stdout",
     "output_type": "stream",
     "text": [
      "What is your name? Ben\n",
      "Ben\n"
     ]
    }
   ],
   "source": [
    "name = input('What is your name? ')\n",
    "print(name)"
   ]
  },
  {
   "cell_type": "markdown",
   "metadata": {},
   "source": [
    "<b>Second method to get input.</b>"
   ]
  },
  {
   "cell_type": "code",
   "execution_count": 32,
   "metadata": {},
   "outputs": [
    {
     "name": "stdout",
     "output_type": "stream",
     "text": [
      "What is your name?\n",
      "Ben\n",
      "Ben\n"
     ]
    }
   ],
   "source": [
    "print('What is your name?')\n",
    "name = input()\n",
    "print(name)"
   ]
  },
  {
   "cell_type": "markdown",
   "metadata": {},
   "source": [
    "<b>Third method to get input.</b>"
   ]
  },
  {
   "cell_type": "code",
   "execution_count": 33,
   "metadata": {},
   "outputs": [
    {
     "name": "stdout",
     "output_type": "stream",
     "text": [
      "What is your name? Ben\n",
      "Ben\n"
     ]
    }
   ],
   "source": [
    "print(input('What is your name? '))"
   ]
  },
  {
   "cell_type": "markdown",
   "metadata": {},
   "source": [
    "### Common Escape Sequences in Strings\n",
    "Strings can also have <b>common escape sequences</b> to include special characters in a string for printing.<br>\n",
    "<br>\n",
    "<b><i>\\n</i></b>      $\\;\\;\\;\\;\\;\\;\\;$New Line<br>\n",
    "<b><i>\\t</i></b>      $\\;\\;\\;\\;\\;\\;\\;$Tab<br>\n",
    "<b><i>\\r</i></b>      $\\;\\;\\;\\;\\;\\;\\;$Carriage Return<br>\n",
    "<b><i>\\\\\"</i></b>     $\\;\\;\\;\\;\\;\\;$Quotation mark in a double quoted string<br>\n",
    "<b><i>\\\\'</i></b>     $\\;\\;\\;\\;\\;\\;\\;$Quotation mark in a single quoted string<br>\n",
    "<b><i>\\\\\\\\</i></b>     $\\;\\;\\;\\;\\;\\;\\;$</b>Backslash<br>"
   ]
  },
  {
   "cell_type": "code",
   "execution_count": 4,
   "metadata": {},
   "outputs": [
    {
     "name": "stdout",
     "output_type": "stream",
     "text": [
      "This is the first sentence. \n",
      "This is the second sentence.\n"
     ]
    }
   ],
   "source": [
    "#Using \\n to create a new line between sentences. \n",
    "\n",
    "print('This is the first sentence. \\nThis is the second sentence.')"
   ]
  },
  {
   "cell_type": "code",
   "execution_count": 5,
   "metadata": {},
   "outputs": [
    {
     "name": "stdout",
     "output_type": "stream",
     "text": [
      "\tThis is the first sentence. \n",
      "\tThis is the second sentence.\n"
     ]
    }
   ],
   "source": [
    "#Using \\t and \\n to put new lines and tabs tabs between sentences.\n",
    "\n",
    "print('\\tThis is the first sentence. \\n\\tThis is the second sentence.')"
   ]
  },
  {
   "cell_type": "code",
   "execution_count": 6,
   "metadata": {},
   "outputs": [
    {
     "name": "stdout",
     "output_type": "stream",
     "text": [
      "This is the first sentence. \r",
      "This is the second sentence.\n"
     ]
    }
   ],
   "source": [
    "#Using \\r to return between sentences\n",
    "\n",
    "print('This is the first sentence. \\rThis is the second sentence.')"
   ]
  },
  {
   "cell_type": "code",
   "execution_count": 7,
   "metadata": {},
   "outputs": [
    {
     "name": "stdout",
     "output_type": "stream",
     "text": [
      "  \"This is the first sentence.\" \"This is the second sentence.\"  \n"
     ]
    }
   ],
   "source": [
    "#Using \\\" to put a quotation in a single quoted string.\n",
    "#Remember to put the original string inside single quotes! ' '.\n",
    "\n",
    "print('  \\\"This is the first sentence.\" \\\"This is the second sentence.\"  ')"
   ]
  },
  {
   "cell_type": "code",
   "execution_count": 8,
   "metadata": {},
   "outputs": [
    {
     "name": "stdout",
     "output_type": "stream",
     "text": [
      "  'This is the first sentence. 'This is the second sentence.'  \n"
     ]
    }
   ],
   "source": [
    "print(\"  \\'This is the first sentence. \\'This is the second sentence.'  \")"
   ]
  },
  {
   "cell_type": "code",
   "execution_count": 9,
   "metadata": {},
   "outputs": [
    {
     "name": "stdout",
     "output_type": "stream",
     "text": [
      "This is the first sentence. \\ This is the second sentence.\n"
     ]
    }
   ],
   "source": [
    "#Using \\\\ to put a backslash in the \n",
    "\n",
    "print('This is the first sentence. \\\\ This is the second sentence.')"
   ]
  },
  {
   "cell_type": "markdown",
   "metadata": {},
   "source": [
    "### Formatted String Literals\n",
    "<b>Formatted string literals</b> (also called <b>f-strings</b> for short) let you include the value of Python expressions inside a string by prefixing the string with <b>f</b> or <b>F</b> and writing expressions as {expression}."
   ]
  },
  {
   "cell_type": "code",
   "execution_count": 1,
   "metadata": {},
   "outputs": [],
   "source": [
    "pi = 3.14159"
   ]
  },
  {
   "cell_type": "markdown",
   "metadata": {},
   "source": [
    "To use formatted string literals, begin a string with <b>f</b> or <b>F</b> before the opening quotation mark or triple quotation mark. Inside this string, you can write a Python expression between <b>{</b> and <b>}</b> characters that can refer to variables or literal values."
   ]
  },
  {
   "cell_type": "markdown",
   "metadata": {},
   "source": [
    "Here is an example of using Pi in a formatted string literal. "
   ]
  },
  {
   "cell_type": "code",
   "execution_count": 2,
   "metadata": {},
   "outputs": [
    {
     "data": {
      "text/plain": [
       "'The value of pi is approximately 3.14159'"
      ]
     },
     "execution_count": 2,
     "metadata": {},
     "output_type": "execute_result"
    }
   ],
   "source": [
    "f'The value of pi is approximately {pi}'"
   ]
  },
  {
   "cell_type": "markdown",
   "metadata": {},
   "source": [
    "Here is an example of using the print statement to print out the string literal. "
   ]
  },
  {
   "cell_type": "code",
   "execution_count": 3,
   "metadata": {},
   "outputs": [
    {
     "name": "stdout",
     "output_type": "stream",
     "text": [
      "The value of pi is approximately 3.141590\n"
     ]
    }
   ],
   "source": [
    "print(f'The value of pi is approximately {pi:f}')"
   ]
  },
  {
   "cell_type": "markdown",
   "metadata": {},
   "source": [
    "Assigning the string literal to the value x and then printing the value x. "
   ]
  },
  {
   "cell_type": "code",
   "execution_count": 4,
   "metadata": {},
   "outputs": [
    {
     "name": "stdout",
     "output_type": "stream",
     "text": [
      "The value of pi is approximately 3.14159\n"
     ]
    }
   ],
   "source": [
    "x = f'The value of pi is approximately {pi}'\n",
    "print(x)"
   ]
  },
  {
   "cell_type": "markdown",
   "metadata": {},
   "source": [
    "Putting a decimal before the number displays the number of decimal places. {pi:.1f}"
   ]
  },
  {
   "cell_type": "markdown",
   "metadata": {},
   "source": [
    "### The Format Method\n",
    "The <b>str.format()</b> method of strings requires more manual effort. You’ll still use <b>{</b> and <b>}</b> to mark where a variable will be substituted and can provide detailed formatting directives, but you’ll also need to provide the information to be formatted."
   ]
  },
  {
   "cell_type": "code",
   "execution_count": 5,
   "metadata": {},
   "outputs": [],
   "source": [
    "Pi = 3.14159"
   ]
  },
  {
   "cell_type": "markdown",
   "metadata": {},
   "source": [
    "Here is an example of using Pi in with the formatted method."
   ]
  },
  {
   "cell_type": "code",
   "execution_count": 6,
   "metadata": {},
   "outputs": [
    {
     "data": {
      "text/plain": [
       "'The value of pi is approximately 3.14159'"
      ]
     },
     "execution_count": 6,
     "metadata": {},
     "output_type": "execute_result"
    }
   ],
   "source": [
    "'The value of pi is approximately {}'.format(Pi)"
   ]
  },
  {
   "cell_type": "markdown",
   "metadata": {},
   "source": [
    "Here is an example of using the format method in a print statement."
   ]
  },
  {
   "cell_type": "code",
   "execution_count": 7,
   "metadata": {},
   "outputs": [
    {
     "name": "stdout",
     "output_type": "stream",
     "text": [
      "The value of pi is approximately 3.14159\n"
     ]
    }
   ],
   "source": [
    "print('The value of pi is approximately {}'.format(Pi))"
   ]
  },
  {
   "cell_type": "markdown",
   "metadata": {},
   "source": [
    "Here is an exmaple of assigning the format value to x and then printing the value of x. "
   ]
  },
  {
   "cell_type": "code",
   "execution_count": 8,
   "metadata": {},
   "outputs": [
    {
     "name": "stdout",
     "output_type": "stream",
     "text": [
      "The value of pi is approximately 3.14159\n"
     ]
    }
   ],
   "source": [
    "x = 'The value of pi is approximately {}'.format(Pi)\n",
    "print(x)"
   ]
  },
  {
   "cell_type": "markdown",
   "metadata": {},
   "source": [
    "### EXERCISE:\n",
    "Write code that asks the user for their first name, middle name, and then their last name. Then print their full name. "
   ]
  },
  {
   "cell_type": "code",
   "execution_count": null,
   "metadata": {},
   "outputs": [],
   "source": [
    "first_name = input('Please enter your first name.')\n",
    "last_name = input('Please enter your last name.')\n",
    "print('Your full name is: ', first_name, last_name)"
   ]
  },
  {
   "cell_type": "code",
   "execution_count": null,
   "metadata": {},
   "outputs": [],
   "source": []
  },
  {
   "cell_type": "code",
   "execution_count": null,
   "metadata": {},
   "outputs": [],
   "source": []
  }
 ],
 "metadata": {
  "kernelspec": {
   "display_name": "Python 3",
   "language": "python",
   "name": "python3"
  },
  "language_info": {
   "codemirror_mode": {
    "name": "ipython",
    "version": 3
   },
   "file_extension": ".py",
   "mimetype": "text/x-python",
   "name": "python",
   "nbconvert_exporter": "python",
   "pygments_lexer": "ipython3",
   "version": "3.7.6"
  }
 },
 "nbformat": 4,
 "nbformat_minor": 4
}
