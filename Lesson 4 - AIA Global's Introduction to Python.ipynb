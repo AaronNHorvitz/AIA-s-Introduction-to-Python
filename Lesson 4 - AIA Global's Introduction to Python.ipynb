{
 "cells": [
  {
   "cell_type": "markdown",
   "metadata": {},
   "source": [
    "# Lesson 4 - Introduction to Python "
   ]
  },
  {
   "cell_type": "markdown",
   "metadata": {},
   "source": [
    "## Printing, Input, Common Escape Sequences, F-Strings"
   ]
  },
  {
   "cell_type": "markdown",
   "metadata": {},
   "source": [
    "### Printing Strings in Python\n",
    "The <b>print()</b> function prints a specified message to a screen, or other standard output device found in the parenthesis.\n",
    "The message can be a string, or any other object, the object will be converted into a string before written to the screen."
   ]
  },
  {
   "cell_type": "code",
   "execution_count": 1,
   "metadata": {
    "ExecuteTime": {
     "end_time": "2020-03-28T02:43:42.296103Z",
     "start_time": "2020-03-28T02:43:42.292114Z"
    }
   },
   "outputs": [
    {
     "name": "stdout",
     "output_type": "stream",
     "text": [
      "Hello\n"
     ]
    }
   ],
   "source": [
    "print('Hello')"
   ]
  },
  {
   "cell_type": "markdown",
   "metadata": {},
   "source": [
    "The print function can use a comma as a separator to print more than one object or it can recieve one string as an argument. If you forget a comma or operator, Python will implcitly concatenate the strings. "
   ]
  },
  {
   "cell_type": "code",
   "execution_count": 2,
   "metadata": {
    "ExecuteTime": {
     "end_time": "2020-03-28T02:43:42.599196Z",
     "start_time": "2020-03-28T02:43:42.596215Z"
    }
   },
   "outputs": [
    {
     "name": "stdout",
     "output_type": "stream",
     "text": [
      "Hello how are you?\n",
      "Hello how are you?\n",
      "Hello how are you?\n"
     ]
    }
   ],
   "source": [
    "print(\"Hello\"  , \"how are you?\")\n",
    "print(\"Hello \" + \"how are you?\")\n",
    "print(\"Hello \"   \"how are you?\")"
   ]
  },
  {
   "cell_type": "markdown",
   "metadata": {},
   "source": [
    "### The Input Function in Python"
   ]
  },
  {
   "cell_type": "markdown",
   "metadata": {},
   "source": [
    "### input()\n",
    "Python uses the <b>input()</b> function to accept data directly from the user.<br>\n",
    "<br>\n",
    "Here are three methods of using the input function."
   ]
  },
  {
   "cell_type": "markdown",
   "metadata": {},
   "source": [
    "<b>First method to get input.</b>"
   ]
  },
  {
   "cell_type": "code",
   "execution_count": 3,
   "metadata": {
    "ExecuteTime": {
     "end_time": "2020-03-28T02:43:43.405353Z",
     "start_time": "2020-03-28T02:43:43.245338Z"
    }
   },
   "outputs": [
    {
     "name": "stdout",
     "output_type": "stream",
     "text": [
      "What is your name? \n",
      "\n"
     ]
    }
   ],
   "source": [
    "name = input('What is your name? ')\n",
    "print(name)"
   ]
  },
  {
   "cell_type": "markdown",
   "metadata": {},
   "source": [
    "<b>Second method to get input.</b>"
   ]
  },
  {
   "cell_type": "code",
   "execution_count": 4,
   "metadata": {
    "ExecuteTime": {
     "end_time": "2020-03-28T02:43:43.909208Z",
     "start_time": "2020-03-28T02:43:43.747640Z"
    }
   },
   "outputs": [
    {
     "name": "stdout",
     "output_type": "stream",
     "text": [
      "What is your name?\n",
      "\n",
      "\n"
     ]
    }
   ],
   "source": [
    "print('What is your name?')\n",
    "name = input()\n",
    "print(name)"
   ]
  },
  {
   "cell_type": "markdown",
   "metadata": {},
   "source": [
    "<b>Third method to get input.</b>"
   ]
  },
  {
   "cell_type": "code",
   "execution_count": 5,
   "metadata": {
    "ExecuteTime": {
     "end_time": "2020-03-28T02:43:44.413553Z",
     "start_time": "2020-03-28T02:43:44.229948Z"
    }
   },
   "outputs": [
    {
     "name": "stdout",
     "output_type": "stream",
     "text": [
      "What is your name? \n",
      "\n"
     ]
    }
   ],
   "source": [
    "print(input('What is your name? '))"
   ]
  },
  {
   "cell_type": "markdown",
   "metadata": {},
   "source": [
    "### Common Escape Sequences in Strings\n",
    "Strings can also have <b>common escape sequences</b> to include special characters in a string for printing.<br>\n",
    "<br>\n",
    "<b><i>\\n</i></b>      $\\;\\;\\;\\;\\;\\;\\;$New Line<br>\n",
    "<b><i>\\t</i></b>      $\\;\\;\\;\\;\\;\\;\\;$Tab<br>\n",
    "<b><i>\\r</i></b>      $\\;\\;\\;\\;\\;\\;\\;$Carriage Return<br>\n",
    "<b><i>\\\\\"</i></b>     $\\;\\;\\;\\;\\;\\;$Quotation mark in a double quoted string<br>\n",
    "<b><i>\\\\'</i></b>     $\\;\\;\\;\\;\\;\\;\\;$Quotation mark in a single quoted string<br>\n",
    "<b><i>\\\\\\\\</i></b>     $\\;\\;\\;\\;\\;\\;\\;$</b>Backslash<br>"
   ]
  },
  {
   "cell_type": "code",
   "execution_count": 6,
   "metadata": {
    "ExecuteTime": {
     "end_time": "2020-03-28T02:43:44.735239Z",
     "start_time": "2020-03-28T02:43:44.732247Z"
    }
   },
   "outputs": [
    {
     "name": "stdout",
     "output_type": "stream",
     "text": [
      "This is the first sentence. \n",
      "This is the second sentence.\n"
     ]
    }
   ],
   "source": [
    "#Using \\n to create a new line between sentences. \n",
    "\n",
    "print('This is the first sentence. \\nThis is the second sentence.')"
   ]
  },
  {
   "cell_type": "code",
   "execution_count": 7,
   "metadata": {
    "ExecuteTime": {
     "end_time": "2020-03-28T02:43:44.919747Z",
     "start_time": "2020-03-28T02:43:44.915757Z"
    }
   },
   "outputs": [
    {
     "name": "stdout",
     "output_type": "stream",
     "text": [
      "\tThis is the first sentence. \n",
      "\tThis is the second sentence.\n"
     ]
    }
   ],
   "source": [
    "#Using \\t and \\n to put new lines and tabs tabs between sentences.\n",
    "\n",
    "print('\\tThis is the first sentence. \\n\\tThis is the second sentence.')"
   ]
  },
  {
   "cell_type": "code",
   "execution_count": 8,
   "metadata": {
    "ExecuteTime": {
     "end_time": "2020-03-28T02:43:45.079370Z",
     "start_time": "2020-03-28T02:43:45.076353Z"
    }
   },
   "outputs": [
    {
     "name": "stdout",
     "output_type": "stream",
     "text": [
      "This is the first sentence. \r",
      "This is the second sentence.\n"
     ]
    }
   ],
   "source": [
    "#Using \\r to return between sentences\n",
    "\n",
    "print('This is the first sentence. \\rThis is the second sentence.')"
   ]
  },
  {
   "cell_type": "code",
   "execution_count": 9,
   "metadata": {
    "ExecuteTime": {
     "end_time": "2020-03-28T02:43:45.262882Z",
     "start_time": "2020-03-28T02:43:45.259863Z"
    }
   },
   "outputs": [
    {
     "name": "stdout",
     "output_type": "stream",
     "text": [
      "  \"This is the first sentence.\" \"This is the second sentence.\"  \n"
     ]
    }
   ],
   "source": [
    "#Using \\\" to put a quotation in a single quoted string.\n",
    "#Remember to put the original string inside single quotes! ' '.\n",
    "\n",
    "print('  \\\"This is the first sentence.\" \\\"This is the second sentence.\"  ')"
   ]
  },
  {
   "cell_type": "code",
   "execution_count": 10,
   "metadata": {
    "ExecuteTime": {
     "end_time": "2020-03-28T02:43:45.423101Z",
     "start_time": "2020-03-28T02:43:45.420118Z"
    }
   },
   "outputs": [
    {
     "name": "stdout",
     "output_type": "stream",
     "text": [
      "  'This is the first sentence. 'This is the second sentence.'  \n"
     ]
    }
   ],
   "source": [
    "print(\"  \\'This is the first sentence. \\'This is the second sentence.'  \")"
   ]
  },
  {
   "cell_type": "code",
   "execution_count": 11,
   "metadata": {
    "ExecuteTime": {
     "end_time": "2020-03-28T02:43:45.584683Z",
     "start_time": "2020-03-28T02:43:45.581662Z"
    }
   },
   "outputs": [
    {
     "name": "stdout",
     "output_type": "stream",
     "text": [
      "This is the first sentence. \\ This is the second sentence.\n"
     ]
    }
   ],
   "source": [
    "#Using \\\\ to put a backslash in the \n",
    "\n",
    "print('This is the first sentence. \\\\ This is the second sentence.')"
   ]
  },
  {
   "cell_type": "markdown",
   "metadata": {},
   "source": [
    "### Formatted String Literals\n",
    "<b>Formatted string literals</b> (also called <b>f-strings</b> for short) let you include the value of Python expressions inside a string by prefixing the string with <b>f</b> or <b>F</b> and writing expressions as {expression}."
   ]
  },
  {
   "cell_type": "code",
   "execution_count": 12,
   "metadata": {
    "ExecuteTime": {
     "end_time": "2020-03-28T02:43:45.902673Z",
     "start_time": "2020-03-28T02:43:45.899710Z"
    }
   },
   "outputs": [],
   "source": [
    "pi = 3.14159"
   ]
  },
  {
   "cell_type": "markdown",
   "metadata": {},
   "source": [
    "To use formatted string literals, begin a string with <b>f</b> or <b>F</b> before the opening quotation mark or triple quotation mark. Inside this string, you can write a Python expression between <b>{</b> and <b>}</b> characters that can refer to variables or literal values."
   ]
  },
  {
   "cell_type": "markdown",
   "metadata": {},
   "source": [
    "Here is an example of using Pi in a formatted string literal. "
   ]
  },
  {
   "cell_type": "code",
   "execution_count": 13,
   "metadata": {
    "ExecuteTime": {
     "end_time": "2020-03-28T02:43:46.434567Z",
     "start_time": "2020-03-28T02:43:46.427550Z"
    }
   },
   "outputs": [
    {
     "data": {
      "text/plain": [
       "'The value of pi is approximately 3.14159'"
      ]
     },
     "execution_count": 13,
     "metadata": {},
     "output_type": "execute_result"
    }
   ],
   "source": [
    "f'The value of pi is approximately {pi}'"
   ]
  },
  {
   "cell_type": "markdown",
   "metadata": {},
   "source": [
    "Here is an example of using the print statement to print out the string literal. "
   ]
  },
  {
   "cell_type": "code",
   "execution_count": 14,
   "metadata": {
    "ExecuteTime": {
     "end_time": "2020-03-28T02:43:46.790966Z",
     "start_time": "2020-03-28T02:43:46.787942Z"
    }
   },
   "outputs": [
    {
     "name": "stdout",
     "output_type": "stream",
     "text": [
      "The value of pi is approximately 3.141590\n"
     ]
    }
   ],
   "source": [
    "print(f'The value of pi is approximately {pi:f}')"
   ]
  },
  {
   "cell_type": "markdown",
   "metadata": {},
   "source": [
    "Assigning the string literal to the value x and then printing the value x. "
   ]
  },
  {
   "cell_type": "code",
   "execution_count": 15,
   "metadata": {
    "ExecuteTime": {
     "end_time": "2020-03-28T02:43:47.374646Z",
     "start_time": "2020-03-28T02:43:47.371654Z"
    }
   },
   "outputs": [
    {
     "name": "stdout",
     "output_type": "stream",
     "text": [
      "The value of pi is approximately 3.14159\n"
     ]
    }
   ],
   "source": [
    "x = f'The value of pi is approximately {pi}'\n",
    "print(x)"
   ]
  },
  {
   "cell_type": "markdown",
   "metadata": {},
   "source": [
    "Putting a decimal before the number displays the number of decimal places. {pi:.1f}"
   ]
  },
  {
   "cell_type": "markdown",
   "metadata": {},
   "source": [
    "### The Format Method\n",
    "The <b>str.format()</b> method of strings requires more manual effort. You’ll still use <b>{</b> and <b>}</b> to mark where a variable will be substituted and can provide detailed formatting directives, but you’ll also need to provide the information to be formatted."
   ]
  },
  {
   "cell_type": "code",
   "execution_count": 16,
   "metadata": {
    "ExecuteTime": {
     "end_time": "2020-03-28T02:43:47.895139Z",
     "start_time": "2020-03-28T02:43:47.892122Z"
    }
   },
   "outputs": [],
   "source": [
    "Pi = 3.14159"
   ]
  },
  {
   "cell_type": "markdown",
   "metadata": {},
   "source": [
    "Here is an example of using Pi in with the formatted method."
   ]
  },
  {
   "cell_type": "code",
   "execution_count": 17,
   "metadata": {
    "ExecuteTime": {
     "end_time": "2020-03-28T02:43:48.264024Z",
     "start_time": "2020-03-28T02:43:48.260024Z"
    }
   },
   "outputs": [
    {
     "data": {
      "text/plain": [
       "'The value of pi is approximately 3.14159'"
      ]
     },
     "execution_count": 17,
     "metadata": {},
     "output_type": "execute_result"
    }
   ],
   "source": [
    "'The value of pi is approximately {}'.format(Pi)"
   ]
  },
  {
   "cell_type": "markdown",
   "metadata": {},
   "source": [
    "Here is an example of using the format method in a print statement."
   ]
  },
  {
   "cell_type": "code",
   "execution_count": 18,
   "metadata": {
    "ExecuteTime": {
     "end_time": "2020-03-28T02:43:48.623819Z",
     "start_time": "2020-03-28T02:43:48.619830Z"
    }
   },
   "outputs": [
    {
     "name": "stdout",
     "output_type": "stream",
     "text": [
      "The value of pi is approximately 3.14159\n"
     ]
    }
   ],
   "source": [
    "print('The value of pi is approximately {}'.format(Pi))"
   ]
  },
  {
   "cell_type": "markdown",
   "metadata": {},
   "source": [
    "Here is an exmaple of assigning the format value to x and then printing the value of x. "
   ]
  },
  {
   "cell_type": "code",
   "execution_count": 19,
   "metadata": {
    "ExecuteTime": {
     "end_time": "2020-03-28T02:43:48.967661Z",
     "start_time": "2020-03-28T02:43:48.964669Z"
    }
   },
   "outputs": [
    {
     "name": "stdout",
     "output_type": "stream",
     "text": [
      "The value of pi is approximately 3.14159\n"
     ]
    }
   ],
   "source": [
    "x = 'The value of pi is approximately {}'.format(Pi)\n",
    "print(x)"
   ]
  },
  {
   "cell_type": "markdown",
   "metadata": {},
   "source": [
    "### EXERCISE:\n",
    "Write code that asks the user for their first name, middle name, and then their last name. Then print their full name. "
   ]
  },
  {
   "cell_type": "code",
   "execution_count": 21,
   "metadata": {
    "ExecuteTime": {
     "end_time": "2020-03-28T02:44:05.237058Z",
     "start_time": "2020-03-28T02:44:00.731860Z"
    }
   },
   "outputs": [
    {
     "name": "stdout",
     "output_type": "stream",
     "text": [
      "Please enter your first name.Ben\n",
      "Please enter your last name.Gonzales\n",
      "Your full name is:  Ben Gonzales\n"
     ]
    }
   ],
   "source": [
    "first_name = input('Please enter your first name.')\n",
    "last_name = input('Please enter your last name.')\n",
    "print('Your full name is: ', first_name, last_name)"
   ]
  }
 ],
 "metadata": {
  "kernelspec": {
   "display_name": "Python 3",
   "language": "python",
   "name": "python3"
  },
  "language_info": {
   "codemirror_mode": {
    "name": "ipython",
    "version": 3
   },
   "file_extension": ".py",
   "mimetype": "text/x-python",
   "name": "python",
   "nbconvert_exporter": "python",
   "pygments_lexer": "ipython3",
   "version": "3.7.3"
  },
  "toc": {
   "base_numbering": 1,
   "nav_menu": {},
   "number_sections": true,
   "sideBar": true,
   "skip_h1_title": false,
   "title_cell": "Table of Contents",
   "title_sidebar": "Contents",
   "toc_cell": false,
   "toc_position": {},
   "toc_section_display": true,
   "toc_window_display": false
  },
  "varInspector": {
   "cols": {
    "lenName": 16,
    "lenType": 16,
    "lenVar": 40
   },
   "kernels_config": {
    "python": {
     "delete_cmd_postfix": "",
     "delete_cmd_prefix": "del ",
     "library": "var_list.py",
     "varRefreshCmd": "print(var_dic_list())"
    },
    "r": {
     "delete_cmd_postfix": ") ",
     "delete_cmd_prefix": "rm(",
     "library": "var_list.r",
     "varRefreshCmd": "cat(var_dic_list()) "
    }
   },
   "types_to_exclude": [
    "module",
    "function",
    "builtin_function_or_method",
    "instance",
    "_Feature"
   ],
   "window_display": false
  }
 },
 "nbformat": 4,
 "nbformat_minor": 4
}
