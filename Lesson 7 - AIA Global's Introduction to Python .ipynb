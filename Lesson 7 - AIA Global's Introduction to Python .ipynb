{
 "cells": [
  {
   "cell_type": "markdown",
   "metadata": {},
   "source": [
    "## Lesson 7 - Introduction to Python "
   ]
  },
  {
   "cell_type": "markdown",
   "metadata": {},
   "source": [
    "## Functions, Importing Modules, Math, and Numpy"
   ]
  },
  {
   "cell_type": "markdown",
   "metadata": {},
   "source": [
    "## Functions"
   ]
  },
  {
   "cell_type": "markdown",
   "metadata": {},
   "source": [
    "<p>Functions provide programmers with the ability to define and then use their own functions, as if they were built-in.  Each <b>function definition</b> takes the form:</p>\n",
    "<p><i><b><pre>def name of the funtion (list of formal parameters):</pre>\n",
    "    <pre><pre>body of function</pre></pre></b></i></p>\n",
    "A function is a block of code which only runs when it is called. You can pass data, known as parameters, into a function. A function can return data as a result. <b><i>As a rule of thumb, it's often useful to write a function when you will conduct an operation more than twice.</b></i>"
   ]
  },
  {
   "cell_type": "code",
   "execution_count": 1,
   "metadata": {
    "ExecuteTime": {
     "end_time": "2020-03-25T21:49:35.536335Z",
     "start_time": "2020-03-25T21:49:35.532332Z"
    }
   },
   "outputs": [],
   "source": [
    "def area(radius):\n",
    "    return pi*(radius**2)\n",
    "\n",
    "def circumferance(radius):\n",
    "    return 2*pi*radius\n",
    "\n",
    "def sphere_surface(radius):\n",
    "    return 4.0*area(radius)\n",
    "\n",
    "def sphere_volume(radius):\n",
    "    return (4.0/3.0)*pi*(radius**3)"
   ]
  },
  {
   "cell_type": "markdown",
   "metadata": {},
   "source": [
    "Next we assign the value of Pi"
   ]
  },
  {
   "cell_type": "code",
   "execution_count": 2,
   "metadata": {
    "ExecuteTime": {
     "end_time": "2020-03-25T21:49:36.451813Z",
     "start_time": "2020-03-25T21:49:36.449153Z"
    }
   },
   "outputs": [],
   "source": [
    "pi = 3.14159"
   ]
  },
  {
   "cell_type": "markdown",
   "metadata": {},
   "source": [
    "Given the radius, we can now use the functions above to calcualte the\n",
    "- area\n",
    "- circumferance\n",
    "- surface area of sphere\n",
    "- the volume of a sphere. "
   ]
  },
  {
   "cell_type": "markdown",
   "metadata": {},
   "source": [
    "Calculate the area"
   ]
  },
  {
   "cell_type": "code",
   "execution_count": 3,
   "metadata": {
    "ExecuteTime": {
     "end_time": "2020-03-25T21:49:38.032964Z",
     "start_time": "2020-03-25T21:49:38.024988Z"
    }
   },
   "outputs": [
    {
     "data": {
      "text/plain": [
       "1256.636"
      ]
     },
     "execution_count": 3,
     "metadata": {},
     "output_type": "execute_result"
    }
   ],
   "source": [
    "area(20)"
   ]
  },
  {
   "cell_type": "markdown",
   "metadata": {},
   "source": [
    "Calculate the cirumferance"
   ]
  },
  {
   "cell_type": "code",
   "execution_count": 4,
   "metadata": {
    "ExecuteTime": {
     "end_time": "2020-03-25T21:49:39.501698Z",
     "start_time": "2020-03-25T21:49:39.497708Z"
    }
   },
   "outputs": [
    {
     "data": {
      "text/plain": [
       "125.6636"
      ]
     },
     "execution_count": 4,
     "metadata": {},
     "output_type": "execute_result"
    }
   ],
   "source": [
    "circumferance(20)"
   ]
  },
  {
   "cell_type": "markdown",
   "metadata": {},
   "source": [
    "Calculate the surface area of a sphere"
   ]
  },
  {
   "cell_type": "code",
   "execution_count": 5,
   "metadata": {
    "ExecuteTime": {
     "end_time": "2020-03-25T21:49:40.341445Z",
     "start_time": "2020-03-25T21:49:40.337452Z"
    }
   },
   "outputs": [
    {
     "data": {
      "text/plain": [
       "5026.544"
      ]
     },
     "execution_count": 5,
     "metadata": {},
     "output_type": "execute_result"
    }
   ],
   "source": [
    "sphere_surface(20)"
   ]
  },
  {
   "cell_type": "markdown",
   "metadata": {},
   "source": [
    "Calculate the volume of a sphere"
   ]
  },
  {
   "cell_type": "code",
   "execution_count": 6,
   "metadata": {
    "ExecuteTime": {
     "end_time": "2020-03-25T21:49:40.685117Z",
     "start_time": "2020-03-25T21:49:40.681136Z"
    }
   },
   "outputs": [
    {
     "data": {
      "text/plain": [
       "33510.29333333333"
      ]
     },
     "execution_count": 6,
     "metadata": {},
     "output_type": "execute_result"
    }
   ],
   "source": [
    "sphere_volume(20)"
   ]
  },
  {
   "cell_type": "markdown",
   "metadata": {},
   "source": [
    "We can also assign these as variables and print the values of each.  "
   ]
  },
  {
   "cell_type": "code",
   "execution_count": 7,
   "metadata": {
    "ExecuteTime": {
     "end_time": "2020-03-25T21:49:41.550806Z",
     "start_time": "2020-03-25T21:49:41.544813Z"
    }
   },
   "outputs": [
    {
     "name": "stdout",
     "output_type": "stream",
     "text": [
      "Area:  1256.636\n",
      "Circumferance:  125.6636\n",
      "Surface Area:  5026.544\n",
      "Volumne:  33510.29333333333\n"
     ]
    }
   ],
   "source": [
    "pi = 3.14159\n",
    "radius = 20\n",
    "\n",
    "area_val          = area(radius)\n",
    "circumferance_val = circumferance(radius)\n",
    "surface_area_val  = sphere_surface(radius)\n",
    "sphere_volume_val = sphere_volume(radius)\n",
    "\n",
    "print('Area: ',area_val)\n",
    "print('Circumferance: ',circumferance_val)\n",
    "print('Surface Area: ',surface_area_val)\n",
    "print('Volumne: ', sphere_volume_val)"
   ]
  },
  {
   "cell_type": "markdown",
   "metadata": {},
   "source": [
    "## Importing Modules\n"
   ]
  },
  {
   "cell_type": "markdown",
   "metadata": {},
   "source": [
    "## This is the heart and soul of Python! It will allow you take advantage of a massive amount of open source software and leverage a host of functionalities in a single space to perform all sorts of tasks from machine learning to web design.<br><br>"
   ]
  },
  {
   "cell_type": "markdown",
   "metadata": {},
   "source": [
    "A <b>module</b> is a <b>.py</b> file containing Python definitions and statements. Within a class. To make use of the functions in a module, you'll need to import the module with an import statement. An import statement is made up of the import keyword along with the name of the module.  For this exercise, we will practice with a module named <b>math</b>\n",
    "<br>\n",
    "<br>\n",
    "The  <b>math</b> module allows us to conduct a host of various mathematical functions through Python.  For more docutentation, please refer to this link: <br><br>\n",
    "https://docs.python.org/3/library/math.html#power-and-logarithmic-functions\n"
   ]
  },
  {
   "cell_type": "markdown",
   "metadata": {},
   "source": [
    "## Importing Math "
   ]
  },
  {
   "cell_type": "code",
   "execution_count": 12,
   "metadata": {
    "ExecuteTime": {
     "end_time": "2020-03-25T22:09:44.285241Z",
     "start_time": "2020-03-25T22:09:44.281220Z"
    }
   },
   "outputs": [],
   "source": [
    "import math"
   ]
  },
  {
   "cell_type": "markdown",
   "metadata": {},
   "source": [
    "Here is an example of using the math module.  Let's say you want to take 2 to the power of 3. The math module provides this functionality. This is just an exmaple, because this functionlitiy is also native to the Python language. "
   ]
  },
  {
   "cell_type": "markdown",
   "metadata": {},
   "source": [
    "Power Function in math"
   ]
  },
  {
   "cell_type": "code",
   "execution_count": 13,
   "metadata": {
    "ExecuteTime": {
     "end_time": "2020-03-25T22:09:45.835514Z",
     "start_time": "2020-03-25T22:09:45.832521Z"
    }
   },
   "outputs": [
    {
     "data": {
      "text/plain": [
       "8.0"
      ]
     },
     "execution_count": 13,
     "metadata": {},
     "output_type": "execute_result"
    }
   ],
   "source": [
    "math.pow(2,3)"
   ]
  },
  {
   "cell_type": "markdown",
   "metadata": {},
   "source": [
    "Square Root Function in math"
   ]
  },
  {
   "cell_type": "code",
   "execution_count": 14,
   "metadata": {
    "ExecuteTime": {
     "end_time": "2020-03-25T22:09:46.923806Z",
     "start_time": "2020-03-25T22:09:46.919793Z"
    }
   },
   "outputs": [
    {
     "data": {
      "text/plain": [
       "2.0"
      ]
     },
     "execution_count": 14,
     "metadata": {},
     "output_type": "execute_result"
    }
   ],
   "source": [
    "math.sqrt(4)"
   ]
  },
  {
   "cell_type": "markdown",
   "metadata": {},
   "source": [
    "### SPECIAL NOTE:  You can abbreviate the name of the module when you import it. Abbreviation makes coding easier, because you will not need to spell out \"math\" each time you want to call a function within the math module.\n",
    "In this case, we will imprort math as mt.  That way we just need to write out mt instead of math each time we call a function "
   ]
  },
  {
   "cell_type": "code",
   "execution_count": 15,
   "metadata": {
    "ExecuteTime": {
     "end_time": "2020-03-25T22:09:48.075934Z",
     "start_time": "2020-03-25T22:09:48.071945Z"
    }
   },
   "outputs": [],
   "source": [
    "import math as mt"
   ]
  },
  {
   "cell_type": "code",
   "execution_count": 16,
   "metadata": {
    "ExecuteTime": {
     "end_time": "2020-03-25T22:09:48.276052Z",
     "start_time": "2020-03-25T22:09:48.273060Z"
    }
   },
   "outputs": [],
   "source": [
    "power = mt.pow(2,3)"
   ]
  },
  {
   "cell_type": "code",
   "execution_count": 17,
   "metadata": {
    "ExecuteTime": {
     "end_time": "2020-03-25T22:09:48.459204Z",
     "start_time": "2020-03-25T22:09:48.456187Z"
    }
   },
   "outputs": [],
   "source": [
    "squaer = mt.sqrt(4)"
   ]
  },
  {
   "cell_type": "markdown",
   "metadata": {},
   "source": [
    "#### Using the exponent function in the math module within a for loop"
   ]
  },
  {
   "cell_type": "code",
   "execution_count": 18,
   "metadata": {
    "ExecuteTime": {
     "end_time": "2020-03-25T22:09:49.324650Z",
     "start_time": "2020-03-25T22:09:49.319639Z"
    }
   },
   "outputs": [
    {
     "name": "stdout",
     "output_type": "stream",
     "text": [
      "The exponent of 0 is:     1.0.\n",
      "The exponent of 1 is:     2.718281828459045.\n",
      "The exponent of 2 is:     7.38905609893065.\n",
      "The exponent of 3 is:     20.085536923187668.\n",
      "The exponent of 4 is:     54.598150033144236.\n",
      "The exponent of 5 is:     148.4131591025766.\n",
      "The exponent of 6 is:     403.4287934927351.\n",
      "The exponent of 7 is:     1096.6331584284585.\n",
      "The exponent of 8 is:     2980.9579870417283.\n",
      "The exponent of 9 is:     8103.083927575384.\n",
      "The exponent of 10 is:     22026.465794806718.\n"
     ]
    }
   ],
   "source": [
    "x_list = [0,1,2,3,4,5,6,7,8,9,10]\n",
    "\n",
    "for number in x_list:\n",
    "    exponent = mt.exp(number)\n",
    "    print('The exponent of {} is:     {}.'.format(number,exponent))"
   ]
  },
  {
   "cell_type": "code",
   "execution_count": 70,
   "metadata": {},
   "outputs": [
    {
     "name": "stdout",
     "output_type": "stream",
     "text": [
      "<bound method circle.area of <__main__.circle object at 0x0000014A67088748>>\n",
      "<bound method circle.circumferance of <__main__.circle object at 0x0000014A67088748>>\n",
      "<bound method circle.sphere_surface of <__main__.circle object at 0x0000014A67088748>>\n",
      "<bound method circle.sphere_volume of <__main__.circle object at 0x0000014A67088748>>\n"
     ]
    }
   ],
   "source": [
    "print(pizza.area)\n",
    "print(pizza.circumferance)\n",
    "print(pizza.sphere_surface)\n",
    "print(pizza.sphere_volume)"
   ]
  },
  {
   "cell_type": "markdown",
   "metadata": {},
   "source": [
    "## Numpy"
   ]
  },
  {
   "cell_type": "markdown",
   "metadata": {},
   "source": [
    "It is essential to learn the libraries <b>NumPy</b> and <b>Pandas</b>for effectively loading, storing, and manipulating in-memory data in Python. Data can include, images, sound, numerical measures, financial data, etc. <b>NumPy</b> helps us manipulate and better understand all data as arrays and numbers, and <b>Math</b> provides additional methods for calculation as well. <b>Matplotlib</b> makes it possible to visualize data in Python. The later will be discussed in the next section."
   ]
  },
  {
   "cell_type": "markdown",
   "metadata": {},
   "source": [
    "This is the correct way to import Numpy. "
   ]
  },
  {
   "cell_type": "code",
   "execution_count": 19,
   "metadata": {
    "ExecuteTime": {
     "end_time": "2020-03-25T22:14:50.127142Z",
     "start_time": "2020-03-25T22:14:50.124180Z"
    }
   },
   "outputs": [],
   "source": [
    "import numpy"
   ]
  },
  {
   "cell_type": "markdown",
   "metadata": {},
   "source": [
    "For simplicity we can import <b>numpy</b> as <b>np</b>, so we do not have to type the <b>\"numpy\"</b> every time we access a function within it.  We will only have to type <b>\"np\"</b>"
   ]
  },
  {
   "cell_type": "code",
   "execution_count": 20,
   "metadata": {
    "ExecuteTime": {
     "end_time": "2020-03-25T22:14:50.946388Z",
     "start_time": "2020-03-25T22:14:50.943367Z"
    }
   },
   "outputs": [],
   "source": [
    "import numpy as np"
   ]
  },
  {
   "cell_type": "markdown",
   "metadata": {},
   "source": [
    "### What is an array\n",
    "Numpy is fantastic for doing arithmatic with arrays, and all forms of Linear Algebra.  What is an array?  An array is an orderly arrangement (often in rows, columns or a matrix) that is most commonly used as a visual tool for demonstrating multiplication and division."
   ]
  },
  {
   "cell_type": "markdown",
   "metadata": {
    "ExecuteTime": {
     "end_time": "2020-03-25T22:22:32.159281Z",
     "start_time": "2020-03-25T22:22:32.151300Z"
    }
   },
   "source": [
    "<b>In mathematics</b> - In mathematics, a matrix or matrices are a rectangular arrays of numbers, symbols, or expressions, \n",
    "arranged in rows and columns.\n",
    "\n",
    "<b>In Computer Science</b> - In computer science, an array data structure, or simply an array, is a data structure consisting of a collection of elements (values or variables), each identified by at least one array index or key. An array is stored such that the position of each element can be computed from its index tuple by a mathematical formula.The simplest type of data structure is a linear array, also called one-dimensional array.\n",
    "\n",
    "</pre>\n",
    "\n"
   ]
  },
  {
   "attachments": {
    "image.png": {
     "image/png": "[encoded data removed]"
    }
   },
   "cell_type": "markdown",
   "metadata": {},
   "source": [
    "![image.png](attachment:image.png)"
   ]
  },
  {
   "cell_type": "markdown",
   "metadata": {},
   "source": [
    "<pre>\n",
    "<font face = \"Helvetica\" size = \"3\">\n",
    "<font size=\"5\"><b>Creating a NumPy N-dimensional Array</b></font>\n",
    "\n",
    "NumPy is fantastic for creating and manipulating arrays.  This exmaple creates a Python list of 3 floating point value, \n",
    "then it creates an ndarray from the list and access the arrays' shape and data type.\n",
    "\n",
    "</pre>"
   ]
  },
  {
   "cell_type": "markdown",
   "metadata": {},
   "source": [
    "Create a number list"
   ]
  },
  {
   "cell_type": "code",
   "execution_count": 26,
   "metadata": {
    "ExecuteTime": {
     "end_time": "2020-03-25T22:28:13.474003Z",
     "start_time": "2020-03-25T22:28:13.471832Z"
    }
   },
   "outputs": [],
   "source": [
    "float_number_list = [1.0, 2.0, 3.0]"
   ]
  },
  {
   "cell_type": "markdown",
   "metadata": {},
   "source": [
    "### Calling Numpy as NP to use a function within the Numpy class\n",
    "Create a number an array with the number list and display the array with a print statement.  "
   ]
  },
  {
   "cell_type": "code",
   "execution_count": 27,
   "metadata": {
    "ExecuteTime": {
     "end_time": "2020-03-25T22:28:13.812066Z",
     "start_time": "2020-03-25T22:28:13.808079Z"
    }
   },
   "outputs": [
    {
     "name": "stdout",
     "output_type": "stream",
     "text": [
      "[1. 2. 3.]\n"
     ]
    }
   ],
   "source": [
    "#create array\n",
    "a = np.array(float_number_list)\n",
    "\n",
    "#display array\n",
    "print(a)"
   ]
  },
  {
   "cell_type": "markdown",
   "metadata": {},
   "source": [
    "Notice that Numpy assigns a period following all float values. This is not the case with integer values. <br><br>\n",
    "Now lets create and assign three lists of integers instead of float values.  "
   ]
  },
  {
   "cell_type": "code",
   "execution_count": 30,
   "metadata": {
    "ExecuteTime": {
     "end_time": "2020-03-25T22:29:23.364772Z",
     "start_time": "2020-03-25T22:29:23.359797Z"
    }
   },
   "outputs": [
    {
     "name": "stdout",
     "output_type": "stream",
     "text": [
      "[[1 2 3]\n",
      " [4 5 6]\n",
      " [6 7 8]]\n"
     ]
    }
   ],
   "source": [
    "list1 = [1, 2, 3]\n",
    "list2 = [4, 5, 6]\n",
    "list3 = [6, 7, 8]\n",
    "\n",
    "numbers = [list1, list2, list3]\n",
    "\n",
    "array = np.array(numbers)\n",
    "\n",
    "print(array)"
   ]
  },
  {
   "cell_type": "markdown",
   "metadata": {},
   "source": [
    "We can also put the lists directly into the array. "
   ]
  },
  {
   "cell_type": "code",
   "execution_count": 31,
   "metadata": {
    "ExecuteTime": {
     "end_time": "2020-03-25T22:30:06.459861Z",
     "start_time": "2020-03-25T22:30:06.454874Z"
    }
   },
   "outputs": [
    {
     "name": "stdout",
     "output_type": "stream",
     "text": [
      "[[1 2 3]\n",
      " [4 5 6]\n",
      " [6 7 8]]\n"
     ]
    }
   ],
   "source": [
    "array = np.array([[1, 2, 3],[4, 5, 6],[6, 7, 8]])\n",
    "\n",
    "print(array)"
   ]
  },
  {
   "cell_type": "markdown",
   "metadata": {},
   "source": [
    "### np.full() \n",
    "We can also use what is called a <b>fill value</b> to create an array with a specific value using <b>np.full()</b>"
   ]
  },
  {
   "cell_type": "markdown",
   "metadata": {},
   "source": [
    "Here are three 5 x 5 arrays filled with 0's, None values, and 2's."
   ]
  },
  {
   "cell_type": "code",
   "execution_count": 40,
   "metadata": {
    "ExecuteTime": {
     "end_time": "2020-03-25T22:44:28.117804Z",
     "start_time": "2020-03-25T22:44:28.109828Z"
    }
   },
   "outputs": [
    {
     "name": "stdout",
     "output_type": "stream",
     "text": [
      "\n",
      "None Array\n",
      "\n",
      "[[0 0 0 0 0]\n",
      " [0 0 0 0 0]\n",
      " [0 0 0 0 0]\n",
      " [0 0 0 0 0]\n",
      " [0 0 0 0 0]]\n",
      "\n",
      "Zeros Array\n",
      "\n",
      "[[None None None None None]\n",
      " [None None None None None]\n",
      " [None None None None None]\n",
      " [None None None None None]\n",
      " [None None None None None]]\n",
      "\n",
      "Twos Array\n",
      "\n",
      "[[2 2 2 2 2]\n",
      " [2 2 2 2 2]\n",
      " [2 2 2 2 2]\n",
      " [2 2 2 2 2]\n",
      " [2 2 2 2 2]]\n",
      "\n",
      "Letters A Array\n",
      "\n",
      "[['A' 'A' 'A' 'A' 'A']\n",
      " ['A' 'A' 'A' 'A' 'A']\n",
      " ['A' 'A' 'A' 'A' 'A']\n",
      " ['A' 'A' 'A' 'A' 'A']\n",
      " ['A' 'A' 'A' 'A' 'A']]\n"
     ]
    }
   ],
   "source": [
    "none_array = np.full([5,5], 0)\n",
    "zero_array = np.full([5,5],None)\n",
    "twos_array = np.full([5,5], 2)\n",
    "letters_A_array = np.full([5,5],'A')\n",
    "\n",
    "print('\\nNone Array\\n')\n",
    "print(none_array)\n",
    "print('\\nZeros Array\\n')\n",
    "print(zero_array)\n",
    "print('\\nTwos Array\\n')\n",
    "print(twos_array)\n",
    "print('\\nLetters A Array\\n')\n",
    "print(letters_A_array)"
   ]
  },
  {
   "cell_type": "code",
   "execution_count": 42,
   "metadata": {
    "ExecuteTime": {
     "end_time": "2020-03-25T22:48:34.187222Z",
     "start_time": "2020-03-25T22:48:34.182235Z"
    }
   },
   "outputs": [
    {
     "data": {
      "text/plain": [
       "array([[0., 0., 0.],\n",
       "       [0., 0., 0.],\n",
       "       [0., 0., 0.],\n",
       "       [0., 0., 0.]])"
      ]
     },
     "execution_count": 42,
     "metadata": {},
     "output_type": "execute_result"
    }
   ],
   "source": [
    "np.zeros([4,3])"
   ]
  },
  {
   "cell_type": "markdown",
   "metadata": {},
   "source": [
    "<b>Matrix Scaling/Multiplication (Dot Product)</b>"
   ]
  },
  {
   "cell_type": "code",
   "execution_count": 47,
   "metadata": {
    "ExecuteTime": {
     "end_time": "2020-03-25T23:14:39.185680Z",
     "start_time": "2020-03-25T23:14:39.180694Z"
    }
   },
   "outputs": [
    {
     "name": "stdout",
     "output_type": "stream",
     "text": [
      "\n",
      "Twos Array\n",
      "\n",
      "[[2 2 2 2 2]\n",
      " [2 2 2 2 2]\n",
      " [2 2 2 2 2]\n",
      " [2 2 2 2 2]\n",
      " [2 2 2 2 2]]\n",
      "\n",
      "Threess Array\n",
      "\n",
      "[[3 3 3 3 3]\n",
      " [3 3 3 3 3]\n",
      " [3 3 3 3 3]\n",
      " [3 3 3 3 3]\n",
      " [3 3 3 3 3]]\n"
     ]
    }
   ],
   "source": [
    "twos_array = np.full([5,5], 2)\n",
    "threes_array = np.full([5,5], 3)\n",
    "\n",
    "print('\\nTwos Array\\n')\n",
    "print(twos_array)\n",
    "print('\\nThreess Array\\n')\n",
    "print(threes_array )"
   ]
  },
  {
   "cell_type": "markdown",
   "metadata": {},
   "source": [
    "<b>Scaler:</b> Scale the matric by multiplying each value by 2, which will make each avlue a 6."
   ]
  },
  {
   "cell_type": "code",
   "execution_count": 48,
   "metadata": {
    "ExecuteTime": {
     "end_time": "2020-03-25T23:15:24.560427Z",
     "start_time": "2020-03-25T23:15:24.556443Z"
    }
   },
   "outputs": [
    {
     "name": "stdout",
     "output_type": "stream",
     "text": [
      "[[6 6 6 6 6]\n",
      " [6 6 6 6 6]\n",
      " [6 6 6 6 6]\n",
      " [6 6 6 6 6]\n",
      " [6 6 6 6 6]]\n"
     ]
    }
   ],
   "source": [
    "scalar = 2*threes_array\n",
    "print(scalar)"
   ]
  },
  {
   "cell_type": "markdown",
   "metadata": {},
   "source": [
    "<b>Dot Product / Matrix Multiplication</b>:"
   ]
  },
  {
   "cell_type": "code",
   "execution_count": 49,
   "metadata": {
    "ExecuteTime": {
     "end_time": "2020-03-25T23:16:02.497446Z",
     "start_time": "2020-03-25T23:16:02.492455Z"
    }
   },
   "outputs": [
    {
     "name": "stdout",
     "output_type": "stream",
     "text": [
      "[[30 30 30 30 30]\n",
      " [30 30 30 30 30]\n",
      " [30 30 30 30 30]\n",
      " [30 30 30 30 30]\n",
      " [30 30 30 30 30]]\n"
     ]
    }
   ],
   "source": [
    "M = np.dot(threes_array, twos_array)\n",
    "print(M)"
   ]
  },
  {
   "cell_type": "markdown",
   "metadata": {},
   "source": [
    "<b>Addition</b>"
   ]
  },
  {
   "cell_type": "code",
   "execution_count": 50,
   "metadata": {
    "ExecuteTime": {
     "end_time": "2020-03-25T23:16:25.847095Z",
     "start_time": "2020-03-25T23:16:25.845080Z"
    }
   },
   "outputs": [
    {
     "name": "stdout",
     "output_type": "stream",
     "text": [
      "[[5 5 5 5 5]\n",
      " [5 5 5 5 5]\n",
      " [5 5 5 5 5]\n",
      " [5 5 5 5 5]\n",
      " [5 5 5 5 5]]\n"
     ]
    }
   ],
   "source": [
    "addition = twos_array + threes_array\n",
    "print(addition)"
   ]
  },
  {
   "cell_type": "markdown",
   "metadata": {},
   "source": [
    "<b>Subtraction</b>"
   ]
  },
  {
   "cell_type": "code",
   "execution_count": 52,
   "metadata": {
    "ExecuteTime": {
     "end_time": "2020-03-25T23:17:35.457396Z",
     "start_time": "2020-03-25T23:17:35.453442Z"
    }
   },
   "outputs": [
    {
     "name": "stdout",
     "output_type": "stream",
     "text": [
      "[[1 1 1 1 1]\n",
      " [1 1 1 1 1]\n",
      " [1 1 1 1 1]\n",
      " [1 1 1 1 1]\n",
      " [1 1 1 1 1]]\n"
     ]
    }
   ],
   "source": [
    "subtraction = threes_array - twos_array\n",
    "print(subtraction)"
   ]
  },
  {
   "cell_type": "markdown",
   "metadata": {},
   "source": [
    "### Here are some common function on Numpy arrays.\n",
    "- <b>ndim()</b>       Number of dimensions\n",
    "- <b>shape()</b>      The size of each dimension\n",
    "- <b>size()</b>       The total size of the array\n"
   ]
  },
  {
   "cell_type": "markdown",
   "metadata": {},
   "source": [
    "<b>ndim()</b> Gives the number of dimensions in the array"
   ]
  },
  {
   "cell_type": "code",
   "execution_count": 58,
   "metadata": {
    "ExecuteTime": {
     "end_time": "2020-03-25T23:25:30.648986Z",
     "start_time": "2020-03-25T23:25:30.644997Z"
    }
   },
   "outputs": [
    {
     "data": {
      "text/plain": [
       "2"
      ]
     },
     "execution_count": 58,
     "metadata": {},
     "output_type": "execute_result"
    }
   ],
   "source": [
    "np.ndim(twos_array)"
   ]
  },
  {
   "cell_type": "markdown",
   "metadata": {},
   "source": [
    "<b>shape()</b> Gives the size of each dimension in the array."
   ]
  },
  {
   "cell_type": "code",
   "execution_count": 59,
   "metadata": {
    "ExecuteTime": {
     "end_time": "2020-03-25T23:25:32.056839Z",
     "start_time": "2020-03-25T23:25:32.052850Z"
    }
   },
   "outputs": [
    {
     "data": {
      "text/plain": [
       "(5, 5)"
      ]
     },
     "execution_count": 59,
     "metadata": {},
     "output_type": "execute_result"
    }
   ],
   "source": [
    "np.shape(twos_array)"
   ]
  },
  {
   "cell_type": "markdown",
   "metadata": {},
   "source": [
    "<b>size()</b> The total size of the array"
   ]
  },
  {
   "cell_type": "code",
   "execution_count": 60,
   "metadata": {
    "ExecuteTime": {
     "end_time": "2020-03-25T23:25:42.297615Z",
     "start_time": "2020-03-25T23:25:42.292629Z"
    }
   },
   "outputs": [
    {
     "data": {
      "text/plain": [
       "25"
      ]
     },
     "execution_count": 60,
     "metadata": {},
     "output_type": "execute_result"
    }
   ],
   "source": [
    "np.size(twos_array)"
   ]
  },
  {
   "cell_type": "code",
   "execution_count": null,
   "metadata": {},
   "outputs": [],
   "source": []
  }
 ],
 "metadata": {
  "kernelspec": {
   "display_name": "Python 3",
   "language": "python",
   "name": "python3"
  },
  "language_info": {
   "codemirror_mode": {
    "name": "ipython",
    "version": 3
   },
   "file_extension": ".py",
   "mimetype": "text/x-python",
   "name": "python",
   "nbconvert_exporter": "python",
   "pygments_lexer": "ipython3",
   "version": "3.7.3"
  },
  "toc": {
   "base_numbering": 1,
   "nav_menu": {},
   "number_sections": true,
   "sideBar": true,
   "skip_h1_title": false,
   "title_cell": "Table of Contents",
   "title_sidebar": "Contents",
   "toc_cell": false,
   "toc_position": {},
   "toc_section_display": true,
   "toc_window_display": false
  },
  "varInspector": {
   "cols": {
    "lenName": 16,
    "lenType": 16,
    "lenVar": 40
   },
   "kernels_config": {
    "python": {
     "delete_cmd_postfix": "",
     "delete_cmd_prefix": "del ",
     "library": "var_list.py",
     "varRefreshCmd": "print(var_dic_list())"
    },
    "r": {
     "delete_cmd_postfix": ") ",
     "delete_cmd_prefix": "rm(",
     "library": "var_list.r",
     "varRefreshCmd": "cat(var_dic_list()) "
    }
   },
   "types_to_exclude": [
    "module",
    "function",
    "builtin_function_or_method",
    "instance",
    "_Feature"
   ],
   "window_display": false
  }
 },
 "nbformat": 4,
 "nbformat_minor": 4
}
