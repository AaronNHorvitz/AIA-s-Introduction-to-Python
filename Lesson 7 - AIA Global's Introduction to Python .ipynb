{
 "cells": [
  {
   "cell_type": "markdown",
   "metadata": {},
   "source": [
    "## Lesson 7 - Introduction to Python "
   ]
  },
  {
   "cell_type": "markdown",
   "metadata": {},
   "source": [
    "## Functions, Lambda, Recursion, Importing Modules"
   ]
  },
  {
   "cell_type": "markdown",
   "metadata": {},
   "source": [
    "## Functions"
   ]
  },
  {
   "cell_type": "markdown",
   "metadata": {},
   "source": [
    "<p>Functions provide programmers with the ability to define and then use their own functions, as if they were built-in.  Each <b>function definition</b> takes the form:</p>\n",
    "<p><i><b><pre>def name of the funtion (list of formal parameters):</pre>\n",
    "    <pre><pre>body of function</pre></pre></b></i></p>\n",
    "A function is a block of code which only runs when it is called. You can pass data, known as parameters, into a function. A function can return data as a result. <b><i>As a rule of thumb, it's often useful to write a function when you will conduct an operation more than twice.</b></i>"
   ]
  },
  {
   "cell_type": "code",
   "execution_count": 1,
   "metadata": {
    "ExecuteTime": {
     "end_time": "2020-03-28T03:57:32.345046Z",
     "start_time": "2020-03-28T03:57:32.341366Z"
    }
   },
   "outputs": [],
   "source": [
    "def area(radius):\n",
    "    return pi*(radius**2)\n",
    "\n",
    "def circumferance(radius):\n",
    "    return 2*pi*radius\n",
    "\n",
    "def sphere_surface(radius):\n",
    "    return 4.0*area(radius)\n",
    "\n",
    "def sphere_volume(radius):\n",
    "    return (4.0/3.0)*pi*(radius**3)"
   ]
  },
  {
   "cell_type": "markdown",
   "metadata": {},
   "source": [
    "Next we assign the value of Pi"
   ]
  },
  {
   "cell_type": "code",
   "execution_count": 2,
   "metadata": {
    "ExecuteTime": {
     "end_time": "2020-03-28T03:57:32.952732Z",
     "start_time": "2020-03-28T03:57:32.948742Z"
    }
   },
   "outputs": [],
   "source": [
    "pi = 3.14159"
   ]
  },
  {
   "cell_type": "markdown",
   "metadata": {},
   "source": [
    "Given the radius, we can now use the functions above to calcualte the\n",
    "- area\n",
    "- circumferance\n",
    "- surface area of sphere\n",
    "- the volume of a sphere. "
   ]
  },
  {
   "cell_type": "markdown",
   "metadata": {},
   "source": [
    "Calculate the area"
   ]
  },
  {
   "cell_type": "code",
   "execution_count": 3,
   "metadata": {
    "ExecuteTime": {
     "end_time": "2020-03-28T03:57:33.460406Z",
     "start_time": "2020-03-28T03:57:33.452429Z"
    }
   },
   "outputs": [
    {
     "data": {
      "text/plain": [
       "1256.636"
      ]
     },
     "execution_count": 3,
     "metadata": {},
     "output_type": "execute_result"
    }
   ],
   "source": [
    "area(20)"
   ]
  },
  {
   "cell_type": "markdown",
   "metadata": {},
   "source": [
    "Calculate the cirumferance"
   ]
  },
  {
   "cell_type": "code",
   "execution_count": 4,
   "metadata": {
    "ExecuteTime": {
     "end_time": "2020-03-28T03:57:33.762566Z",
     "start_time": "2020-03-28T03:57:33.758577Z"
    }
   },
   "outputs": [
    {
     "data": {
      "text/plain": [
       "125.6636"
      ]
     },
     "execution_count": 4,
     "metadata": {},
     "output_type": "execute_result"
    }
   ],
   "source": [
    "circumferance(20)"
   ]
  },
  {
   "cell_type": "markdown",
   "metadata": {},
   "source": [
    "Calculate the surface area of a sphere"
   ]
  },
  {
   "cell_type": "code",
   "execution_count": 5,
   "metadata": {
    "ExecuteTime": {
     "end_time": "2020-03-28T03:57:34.096673Z",
     "start_time": "2020-03-28T03:57:34.092707Z"
    }
   },
   "outputs": [
    {
     "data": {
      "text/plain": [
       "5026.544"
      ]
     },
     "execution_count": 5,
     "metadata": {},
     "output_type": "execute_result"
    }
   ],
   "source": [
    "sphere_surface(20)"
   ]
  },
  {
   "cell_type": "markdown",
   "metadata": {},
   "source": [
    "Calculate the volume of a sphere"
   ]
  },
  {
   "cell_type": "code",
   "execution_count": 6,
   "metadata": {
    "ExecuteTime": {
     "end_time": "2020-03-28T03:57:34.464689Z",
     "start_time": "2020-03-28T03:57:34.460732Z"
    }
   },
   "outputs": [
    {
     "data": {
      "text/plain": [
       "33510.29333333333"
      ]
     },
     "execution_count": 6,
     "metadata": {},
     "output_type": "execute_result"
    }
   ],
   "source": [
    "sphere_volume(20)"
   ]
  },
  {
   "cell_type": "markdown",
   "metadata": {},
   "source": [
    "We can also assign these as variables and print the values of each.  "
   ]
  },
  {
   "cell_type": "code",
   "execution_count": 7,
   "metadata": {
    "ExecuteTime": {
     "end_time": "2020-03-28T03:57:34.769902Z",
     "start_time": "2020-03-28T03:57:34.764918Z"
    }
   },
   "outputs": [
    {
     "name": "stdout",
     "output_type": "stream",
     "text": [
      "Area:  1256.636\n",
      "Circumferance:  125.6636\n",
      "Surface Area:  5026.544\n",
      "Volumne:  33510.29333333333\n"
     ]
    }
   ],
   "source": [
    "pi = 3.14159\n",
    "radius = 20\n",
    "\n",
    "area_val          = area(radius)\n",
    "circumferance_val = circumferance(radius)\n",
    "surface_area_val  = sphere_surface(radius)\n",
    "sphere_volume_val = sphere_volume(radius)\n",
    "\n",
    "print('Area: ',area_val)\n",
    "print('Circumferance: ',circumferance_val)\n",
    "print('Surface Area: ',surface_area_val)\n",
    "print('Volumne: ', sphere_volume_val)"
   ]
  },
  {
   "cell_type": "markdown",
   "metadata": {},
   "source": [
    "## Lambda Function"
   ]
  },
  {
   "cell_type": "markdown",
   "metadata": {},
   "source": [
    "Lambda expressions (or lambda functions) are essentially blocks of code that can be assigned to variables, passed as an argument, or returned from a function call, in languages that support high-order functions. They have been part of programming languages for quite some time."
   ]
  },
  {
   "cell_type": "code",
   "execution_count": 8,
   "metadata": {
    "ExecuteTime": {
     "end_time": "2020-03-28T03:57:35.288048Z",
     "start_time": "2020-03-28T03:57:35.285055Z"
    }
   },
   "outputs": [],
   "source": [
    "def add_ten(n):\n",
    "    \n",
    "    result = n+10\n",
    "    return result"
   ]
  },
  {
   "cell_type": "code",
   "execution_count": 9,
   "metadata": {
    "ExecuteTime": {
     "end_time": "2020-03-28T03:57:35.473628Z",
     "start_time": "2020-03-28T03:57:35.468642Z"
    }
   },
   "outputs": [
    {
     "data": {
      "text/plain": [
       "15"
      ]
     },
     "execution_count": 9,
     "metadata": {},
     "output_type": "execute_result"
    }
   ],
   "source": [
    "add_ten(5)"
   ]
  },
  {
   "cell_type": "markdown",
   "metadata": {},
   "source": [
    "A lambda function that adds 10 to the number passed in as an argument, and prints the result:"
   ]
  },
  {
   "cell_type": "code",
   "execution_count": 10,
   "metadata": {
    "ExecuteTime": {
     "end_time": "2020-03-28T03:57:35.793803Z",
     "start_time": "2020-03-28T03:57:35.789817Z"
    }
   },
   "outputs": [],
   "source": [
    "add_ten = lambda a : a + 10"
   ]
  },
  {
   "cell_type": "code",
   "execution_count": 11,
   "metadata": {
    "ExecuteTime": {
     "end_time": "2020-03-28T03:57:35.953345Z",
     "start_time": "2020-03-28T03:57:35.948390Z"
    }
   },
   "outputs": [
    {
     "data": {
      "text/plain": [
       "15"
      ]
     },
     "execution_count": 11,
     "metadata": {},
     "output_type": "execute_result"
    }
   ],
   "source": [
    "add_ten(5)"
   ]
  },
  {
   "cell_type": "markdown",
   "metadata": {},
   "source": [
    "A lambda function that multiplies argument a with argument b and print the result:"
   ]
  },
  {
   "cell_type": "code",
   "execution_count": 12,
   "metadata": {
    "ExecuteTime": {
     "end_time": "2020-03-28T03:57:36.296459Z",
     "start_time": "2020-03-28T03:57:36.292470Z"
    }
   },
   "outputs": [],
   "source": [
    "multiply_two_variables = lambda a, b : a * b"
   ]
  },
  {
   "cell_type": "code",
   "execution_count": 13,
   "metadata": {
    "ExecuteTime": {
     "end_time": "2020-03-28T03:57:36.433063Z",
     "start_time": "2020-03-28T03:57:36.429105Z"
    }
   },
   "outputs": [
    {
     "data": {
      "text/plain": [
       "30"
      ]
     },
     "execution_count": 13,
     "metadata": {},
     "output_type": "execute_result"
    }
   ],
   "source": [
    "multiply_two_variables(5,6)"
   ]
  },
  {
   "cell_type": "markdown",
   "metadata": {},
   "source": [
    "### Lambda functions used as anonymous functions inside other functions"
   ]
  },
  {
   "cell_type": "code",
   "execution_count": 14,
   "metadata": {
    "ExecuteTime": {
     "end_time": "2020-03-28T03:57:36.778172Z",
     "start_time": "2020-03-28T03:57:36.774183Z"
    }
   },
   "outputs": [],
   "source": [
    "def myfunc(n):\n",
    "    result = lambda a : a * n\n",
    "    return result"
   ]
  },
  {
   "cell_type": "code",
   "execution_count": 15,
   "metadata": {
    "ExecuteTime": {
     "end_time": "2020-03-28T03:57:36.937713Z",
     "start_time": "2020-03-28T03:57:36.932763Z"
    }
   },
   "outputs": [
    {
     "data": {
      "text/plain": [
       "22"
      ]
     },
     "execution_count": 15,
     "metadata": {},
     "output_type": "execute_result"
    }
   ],
   "source": [
    "mydoubler = myfunc(2)\n",
    "mydoubler(11)"
   ]
  },
  {
   "cell_type": "markdown",
   "metadata": {},
   "source": [
    "## Recursion\n",
    "Recursion is an algorithm, in which a function calls itself at least once.  It normally returns the return value of this function call. "
   ]
  },
  {
   "cell_type": "markdown",
   "metadata": {},
   "source": [
    "<b>EXAMPLE:</b> One of the most famous examples of a recursive process is the <b>Fibonacci sequence, </b> \"such that each number is the sum of the two preceding ones, starting from 0 and 1.\" <Wikipedia>"
   ]
  },
  {
   "cell_type": "code",
   "execution_count": 16,
   "metadata": {
    "ExecuteTime": {
     "end_time": "2020-03-28T03:57:37.440401Z",
     "start_time": "2020-03-28T03:57:37.436418Z"
    }
   },
   "outputs": [],
   "source": [
    "def fib(n):\n",
    "    \"\"\" \n",
    "    Assumes n int >= 0\n",
    "    Returns Fibonacci of n\"\"\"\n",
    "    \n",
    "    if n == 0 or n == 1:\n",
    "        return 1\n",
    "    else: \n",
    "        return fib(n-1) + fib(n-2)"
   ]
  },
  {
   "cell_type": "code",
   "execution_count": 17,
   "metadata": {
    "ExecuteTime": {
     "end_time": "2020-03-28T03:57:37.608918Z",
     "start_time": "2020-03-28T03:57:37.604967Z"
    }
   },
   "outputs": [],
   "source": [
    "n0 = fib(0)\n",
    "n1 = fib(1)\n",
    "n2 = fib(2)\n",
    "n3 = fib(3)\n",
    "n4 = fib(4)\n",
    "n5 = fib(5)\n",
    "n6 = fib(6)\n",
    "n7 = fib(7)"
   ]
  },
  {
   "cell_type": "code",
   "execution_count": 18,
   "metadata": {
    "ExecuteTime": {
     "end_time": "2020-03-28T03:57:37.768527Z",
     "start_time": "2020-03-28T03:57:37.764503Z"
    }
   },
   "outputs": [
    {
     "name": "stdout",
     "output_type": "stream",
     "text": [
      "1 1 2 3 5 8 13 21\n"
     ]
    }
   ],
   "source": [
    "print(n0, n1, n2, n3, n4, n5, n6, n7)"
   ]
  },
  {
   "cell_type": "markdown",
   "metadata": {},
   "source": [
    "## Importing Modules\n"
   ]
  },
  {
   "cell_type": "markdown",
   "metadata": {},
   "source": [
    "## This is the heart and soul of Python! It will allow you take advantage of a massive amount of open source software and leverage a host of functionalities in a single space to perform all sorts of tasks from machine learning to web design.<br><br>"
   ]
  },
  {
   "cell_type": "markdown",
   "metadata": {},
   "source": [
    "A <b>module</b> is a <b>.py</b> file containing Python definitions and statements. Within a class. To make use of the functions in a module, you'll need to import the module with an import statement. An import statement is made up of the import keyword along with the name of the module.  For this exercise, we will practice with a module named <b>math</b>\n",
    "<br>\n",
    "<br>\n",
    "The  <b>math</b> module allows us to conduct a host of various mathematical functions through Python.  For more docutentation, please refer to this link: <br><br>\n",
    "https://docs.python.org/3/library/math.html#power-and-logarithmic-functions\n"
   ]
  },
  {
   "cell_type": "markdown",
   "metadata": {},
   "source": [
    "## Importing Math "
   ]
  },
  {
   "cell_type": "code",
   "execution_count": 19,
   "metadata": {
    "ExecuteTime": {
     "end_time": "2020-03-28T03:57:38.632208Z",
     "start_time": "2020-03-28T03:57:38.628234Z"
    }
   },
   "outputs": [],
   "source": [
    "import math"
   ]
  },
  {
   "cell_type": "markdown",
   "metadata": {},
   "source": [
    "Here is an example of using the math module.  Let's say you want to take 2 to the power of 3. The math module provides this functionality. This is just an exmaple, because this functionlitiy is also native to the Python language. "
   ]
  },
  {
   "cell_type": "markdown",
   "metadata": {},
   "source": [
    "Power Function in math"
   ]
  },
  {
   "cell_type": "code",
   "execution_count": 20,
   "metadata": {
    "ExecuteTime": {
     "end_time": "2020-03-28T03:57:39.176890Z",
     "start_time": "2020-03-28T03:57:39.172933Z"
    }
   },
   "outputs": [
    {
     "data": {
      "text/plain": [
       "8.0"
      ]
     },
     "execution_count": 20,
     "metadata": {},
     "output_type": "execute_result"
    }
   ],
   "source": [
    "math.pow(2,3)"
   ]
  },
  {
   "cell_type": "markdown",
   "metadata": {},
   "source": [
    "Square Root Function in math"
   ]
  },
  {
   "cell_type": "code",
   "execution_count": 21,
   "metadata": {
    "ExecuteTime": {
     "end_time": "2020-03-28T03:57:39.521084Z",
     "start_time": "2020-03-28T03:57:39.517140Z"
    }
   },
   "outputs": [
    {
     "data": {
      "text/plain": [
       "2.0"
      ]
     },
     "execution_count": 21,
     "metadata": {},
     "output_type": "execute_result"
    }
   ],
   "source": [
    "math.sqrt(4)"
   ]
  },
  {
   "cell_type": "markdown",
   "metadata": {},
   "source": [
    "### SPECIAL NOTE:  You can abbreviate the name of the module when you import it. Abbreviation makes coding easier, because you will not need to spell out \"math\" each time you want to call a function within the math module.\n",
    "In this case, we will imprort math as mt.  That way we just need to write out mt instead of math each time we call a function "
   ]
  },
  {
   "cell_type": "code",
   "execution_count": 22,
   "metadata": {
    "ExecuteTime": {
     "end_time": "2020-03-28T03:57:39.856188Z",
     "start_time": "2020-03-28T03:57:39.853227Z"
    }
   },
   "outputs": [],
   "source": [
    "import math as mt"
   ]
  },
  {
   "cell_type": "code",
   "execution_count": 23,
   "metadata": {
    "ExecuteTime": {
     "end_time": "2020-03-28T03:57:40.024510Z",
     "start_time": "2020-03-28T03:57:40.021482Z"
    }
   },
   "outputs": [],
   "source": [
    "power = mt.pow(2,3)"
   ]
  },
  {
   "cell_type": "code",
   "execution_count": 24,
   "metadata": {
    "ExecuteTime": {
     "end_time": "2020-03-28T03:57:40.200005Z",
     "start_time": "2020-03-28T03:57:40.197013Z"
    }
   },
   "outputs": [],
   "source": [
    "squaer = mt.sqrt(4)"
   ]
  },
  {
   "cell_type": "markdown",
   "metadata": {},
   "source": [
    "#### Using the exponent function in the math module within a for loop"
   ]
  },
  {
   "cell_type": "code",
   "execution_count": 25,
   "metadata": {
    "ExecuteTime": {
     "end_time": "2020-03-28T03:57:40.528160Z",
     "start_time": "2020-03-28T03:57:40.525136Z"
    }
   },
   "outputs": [
    {
     "name": "stdout",
     "output_type": "stream",
     "text": [
      "The exponent of 0 is:     1.0.\n",
      "The exponent of 1 is:     2.718281828459045.\n",
      "The exponent of 2 is:     7.38905609893065.\n",
      "The exponent of 3 is:     20.085536923187668.\n",
      "The exponent of 4 is:     54.598150033144236.\n",
      "The exponent of 5 is:     148.4131591025766.\n",
      "The exponent of 6 is:     403.4287934927351.\n",
      "The exponent of 7 is:     1096.6331584284585.\n",
      "The exponent of 8 is:     2980.9579870417283.\n",
      "The exponent of 9 is:     8103.083927575384.\n",
      "The exponent of 10 is:     22026.465794806718.\n"
     ]
    }
   ],
   "source": [
    "x_list = [0,1,2,3,4,5,6,7,8,9,10]\n",
    "\n",
    "for number in x_list:\n",
    "    exponent = mt.exp(number)\n",
    "    print('The exponent of {} is:     {}.'.format(number,exponent))"
   ]
  },
  {
   "cell_type": "markdown",
   "metadata": {
    "heading_collapsed": true
   },
   "source": [
    "## Exercise\n",
    "\n",
    "Create a Python list with the first 10 values of the fibonacci sequence, starting from 0 and going to 9. Then print the list.\n",
    "\n",
    "<b>HINT:</b> Use the recursive code from the Fibonacci <b>fib</b> above to build the list. Use <b>.append()</b> to append new items to a list."
   ]
  },
  {
   "cell_type": "code",
   "execution_count": 26,
   "metadata": {
    "ExecuteTime": {
     "end_time": "2020-03-28T03:57:40.889195Z",
     "start_time": "2020-03-28T03:57:40.885205Z"
    },
    "hidden": true
   },
   "outputs": [],
   "source": [
    "def fib(n):\n",
    "    \"\"\" \n",
    "    Assumes n int >= 0\n",
    "    Returns Fibonacci of n\"\"\"\n",
    "    \n",
    "    if n == 0 or n == 1:\n",
    "        return 1\n",
    "    else: \n",
    "        return fib(n-1) + fib(n-2)\n",
    "    "
   ]
  },
  {
   "cell_type": "markdown",
   "metadata": {
    "hidden": true
   },
   "source": [
    "<b>ANSWER:</b>"
   ]
  },
  {
   "cell_type": "code",
   "execution_count": 27,
   "metadata": {
    "ExecuteTime": {
     "end_time": "2020-03-28T03:57:41.233242Z",
     "start_time": "2020-03-28T03:57:41.229253Z"
    },
    "hidden": true
   },
   "outputs": [
    {
     "name": "stdout",
     "output_type": "stream",
     "text": [
      "[1, 1, 2, 3, 5, 8, 13, 21, 34, 55]\n"
     ]
    }
   ],
   "source": [
    "fib_list = []\n",
    "\n",
    "for n in range(0,10):\n",
    "    fib_number = fib(n)\n",
    "    \n",
    "    fib_list.append(fib_number)  \n",
    "\n",
    "print(fib_list)"
   ]
  }
 ],
 "metadata": {
  "kernelspec": {
   "display_name": "Python 3",
   "language": "python",
   "name": "python3"
  },
  "language_info": {
   "codemirror_mode": {
    "name": "ipython",
    "version": 3
   },
   "file_extension": ".py",
   "mimetype": "text/x-python",
   "name": "python",
   "nbconvert_exporter": "python",
   "pygments_lexer": "ipython3",
   "version": "3.7.3"
  },
  "toc": {
   "base_numbering": 1,
   "nav_menu": {},
   "number_sections": true,
   "sideBar": true,
   "skip_h1_title": false,
   "title_cell": "Table of Contents",
   "title_sidebar": "Contents",
   "toc_cell": false,
   "toc_position": {},
   "toc_section_display": true,
   "toc_window_display": false
  },
  "varInspector": {
   "cols": {
    "lenName": 16,
    "lenType": 16,
    "lenVar": 40
   },
   "kernels_config": {
    "python": {
     "delete_cmd_postfix": "",
     "delete_cmd_prefix": "del ",
     "library": "var_list.py",
     "varRefreshCmd": "print(var_dic_list())"
    },
    "r": {
     "delete_cmd_postfix": ") ",
     "delete_cmd_prefix": "rm(",
     "library": "var_list.r",
     "varRefreshCmd": "cat(var_dic_list()) "
    }
   },
   "types_to_exclude": [
    "module",
    "function",
    "builtin_function_or_method",
    "instance",
    "_Feature"
   ],
   "window_display": false
  }
 },
 "nbformat": 4,
 "nbformat_minor": 4
}
