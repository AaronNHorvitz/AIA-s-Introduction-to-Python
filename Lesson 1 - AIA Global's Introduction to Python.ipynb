{
 "cells": [
  {
   "cell_type": "markdown",
   "metadata": {},
   "source": [
    "# Lesson 1 - Introduction to Python"
   ]
  },
  {
   "cell_type": "markdown",
   "metadata": {},
   "source": [
    " ## The Basic Elements of Python"
   ]
  },
  {
   "cell_type": "markdown",
   "metadata": {},
   "source": [
    "The <b>command</b>, often called a <b>statement</b> instructs the interpreter to do something. "
   ]
  },
  {
   "cell_type": "code",
   "execution_count": 1,
   "metadata": {
    "ExecuteTime": {
     "end_time": "2020-03-28T02:09:21.207265Z",
     "start_time": "2020-03-28T02:09:21.203284Z"
    }
   },
   "outputs": [
    {
     "name": "stdout",
     "output_type": "stream",
     "text": [
      "Python rules!\n",
      "and R does not!\n",
      "Python rules, and R does not!\n"
     ]
    }
   ],
   "source": [
    "print('Python rules!')\n",
    "print('and R does not!')\n",
    "print('Python rules,','and R does not!')"
   ]
  },
  {
   "cell_type": "markdown",
   "metadata": {},
   "source": [
    "Hashes that look like this <b>#</b>, allow you to make comments around code that the interpreter will ignore. "
   ]
  },
  {
   "cell_type": "code",
   "execution_count": 2,
   "metadata": {
    "ExecuteTime": {
     "end_time": "2020-03-28T02:09:21.535001Z",
     "start_time": "2020-03-28T02:09:21.531034Z"
    }
   },
   "outputs": [
    {
     "name": "stdout",
     "output_type": "stream",
     "text": [
      "Python rules!\n",
      "and R does not!\n",
      "Python rules, and R does not!\n"
     ]
    }
   ],
   "source": [
    "#Here are my comments about this code in Python\n",
    "#I can write anything I want here, and the code will execute the same way each time. \n",
    "\n",
    "\n",
    "print('Python rules!')\n",
    "print('and R does not!')\n",
    "print('Python rules,','and R does not!')"
   ]
  },
  {
   "cell_type": "markdown",
   "metadata": {},
   "source": [
    "### Objects, Expressions, and Numerical Types"
   ]
  },
  {
   "cell_type": "markdown",
   "metadata": {},
   "source": [
    "<b>Objects</b> are the core things that Python programs manipulate.  Every object has a <b>type</b> that defines the kind of things that programs can do with that object. \n",
    "\n",
    "Types are either scalar or non-scalar.\n",
    "\n",
    "- <b>Scalar</b> objects that can't be divided</il> - Simple object types.\n",
    "- <b>Non-scalar</b> objects have an internal structure and they can be divided.</il> - Complex object types.\n",
    "</n>\n",
    "\n",
    "There are four types of <b>scalar</b> ojbects:\n",
    "\n",
    "- <b>int</b> is used to represent integers\n",
    "- <b>float</b> is used to represent real numbers\n",
    "- <b>bool</b> is used to represent the <b>Boolean</b> values <b>true</b> and <b>false</b> \n",
    "- <b>None</b> is a type with a single value that will be covered more later on."
   ]
  },
  {
   "cell_type": "markdown",
   "metadata": {},
   "source": [
    "<b>Operators</b> are used to perform operations on variables and values. <b>Expressions</b> are representations of value.  <b>Statements</b> are complete lines. <b>Objects</b> and <b>operators</b> can be combined to form <b>expressions</b>, each of which evaluates to an <b>object</b> of some kind. These are also called <b>operands</b>.  Things that an <b>operator</b> operates on is an <b>operand</b>.\n",
    "\n",
    "- <b><i>3 + 2    </i></b>     is an <b>expression</b> that denotes the object<b><i> 5 </i> </b> of type <b>int</b>, that uses the operator <b><i>+</i></b>\n",
    "- <b><i>3.0 + 2.0    </i></b> is an <b>expression</b> that denotes the object<b><i> 5 </i> </b> of type <b>float</b>, that uses the operator <b><i>+</i></b>"
   ]
  },
  {
   "cell_type": "code",
   "execution_count": 3,
   "metadata": {
    "ExecuteTime": {
     "end_time": "2020-03-28T02:09:22.178836Z",
     "start_time": "2020-03-28T02:09:22.171824Z"
    }
   },
   "outputs": [
    {
     "data": {
      "text/plain": [
       "5"
      ]
     },
     "execution_count": 3,
     "metadata": {},
     "output_type": "execute_result"
    }
   ],
   "source": [
    "3+2"
   ]
  },
  {
   "cell_type": "code",
   "execution_count": 4,
   "metadata": {
    "ExecuteTime": {
     "end_time": "2020-03-28T02:09:22.335422Z",
     "start_time": "2020-03-28T02:09:22.331427Z"
    }
   },
   "outputs": [
    {
     "data": {
      "text/plain": [
       "5.0"
      ]
     },
     "execution_count": 4,
     "metadata": {},
     "output_type": "execute_result"
    }
   ],
   "source": [
    "3.0+2.0"
   ]
  },
  {
   "cell_type": "markdown",
   "metadata": {},
   "source": [
    "The <b>type</b> function returns the variable type."
   ]
  },
  {
   "cell_type": "code",
   "execution_count": 5,
   "metadata": {
    "ExecuteTime": {
     "end_time": "2020-03-28T02:09:22.680459Z",
     "start_time": "2020-03-28T02:09:22.676898Z"
    }
   },
   "outputs": [
    {
     "data": {
      "text/plain": [
       "int"
      ]
     },
     "execution_count": 5,
     "metadata": {},
     "output_type": "execute_result"
    }
   ],
   "source": [
    "type(3)"
   ]
  },
  {
   "cell_type": "code",
   "execution_count": 6,
   "metadata": {
    "ExecuteTime": {
     "end_time": "2020-03-28T02:09:22.839032Z",
     "start_time": "2020-03-28T02:09:22.835043Z"
    }
   },
   "outputs": [
    {
     "data": {
      "text/plain": [
       "float"
      ]
     },
     "execution_count": 6,
     "metadata": {},
     "output_type": "execute_result"
    }
   ],
   "source": [
    "type(3.0)"
   ]
  },
  {
   "cell_type": "markdown",
   "metadata": {},
   "source": [
    "### Variables and Assignment"
   ]
  },
  {
   "cell_type": "markdown",
   "metadata": {},
   "source": [
    "<b>Variables</b> provide a way to associate names with objects.  Consider the following code:<br>"
   ]
  },
  {
   "cell_type": "code",
   "execution_count": 7,
   "metadata": {
    "ExecuteTime": {
     "end_time": "2020-03-28T02:09:23.326674Z",
     "start_time": "2020-03-28T02:09:23.323685Z"
    }
   },
   "outputs": [],
   "source": [
    "pi     = 3\n",
    "radius = 11\n",
    "area   = pi * (radius**2)  # ** means to the power of 2\n",
    "\n",
    "\n",
    "#Then change the value of the variable radius. \n",
    "radius = 14"
   ]
  },
  {
   "cell_type": "markdown",
   "metadata": {},
   "source": [
    "This code first binds the names pi and radius to different objects of type int that are equal to 3 and 11.  It then binds the name area to a third object of type int wich is the value of the expression.  That happens to be qual to 363.  When the code executes radius = 14, the name radius is rebound to a differnt object of type int.  So it has no affect on the value to which the original area was bound. "
   ]
  },
  {
   "cell_type": "code",
   "execution_count": 8,
   "metadata": {
    "ExecuteTime": {
     "end_time": "2020-03-28T02:09:23.648268Z",
     "start_time": "2020-03-28T02:09:23.643849Z"
    }
   },
   "outputs": [
    {
     "name": "stdout",
     "output_type": "stream",
     "text": [
      "pi:     3\n",
      "radius: 14\n",
      "area:   363\n"
     ]
    }
   ],
   "source": [
    "print('pi:    ',pi)\n",
    "print('radius:',radius)\n",
    "print('area:  ',area)"
   ]
  },
  {
   "cell_type": "markdown",
   "metadata": {},
   "source": [
    "### Multiple Variable Assignments\n",
    "#### Assigning mulple variables\n",
    "Python allows for you to assign multple variables at once. "
   ]
  },
  {
   "cell_type": "code",
   "execution_count": 9,
   "metadata": {
    "ExecuteTime": {
     "end_time": "2020-03-28T02:09:23.990984Z",
     "start_time": "2020-03-28T02:09:23.987019Z"
    }
   },
   "outputs": [],
   "source": [
    "x,y = 2,3"
   ]
  },
  {
   "cell_type": "markdown",
   "metadata": {},
   "source": [
    "This code binds x to 2 and y to 3.  All of the expressions expressions on the right-hand side of the assignment are evaluated before any bindings are changed.  This is convenient since it allows you to use multiple assignments to swap the bindings of two variables. "
   ]
  },
  {
   "cell_type": "code",
   "execution_count": 10,
   "metadata": {
    "ExecuteTime": {
     "end_time": "2020-03-28T02:09:24.312206Z",
     "start_time": "2020-03-28T02:09:24.307194Z"
    }
   },
   "outputs": [
    {
     "name": "stdout",
     "output_type": "stream",
     "text": [
      "x =  2\n",
      "y =  3\n"
     ]
    }
   ],
   "source": [
    "print('x = ', x)\n",
    "print('y = ', y)"
   ]
  },
  {
   "cell_type": "markdown",
   "metadata": {},
   "source": [
    "#### Swap the variables and print them."
   ]
  },
  {
   "cell_type": "code",
   "execution_count": 11,
   "metadata": {
    "ExecuteTime": {
     "end_time": "2020-03-28T02:09:24.654793Z",
     "start_time": "2020-03-28T02:09:24.651797Z"
    }
   },
   "outputs": [
    {
     "name": "stdout",
     "output_type": "stream",
     "text": [
      "x =  3\n",
      "y =  2\n"
     ]
    }
   ],
   "source": [
    "x,y = y,x\n",
    "\n",
    "print('x = ', x)\n",
    "print('y = ', y)"
   ]
  },
  {
   "cell_type": "markdown",
   "metadata": {},
   "source": [
    "<b> IMPORTANT: </b>  An assignment statement associates the name to the left of the  <b>=</b>  symbol with the object denoted by the expression to the right of the <b>=</b>.  However, an object can have one, more than one, or no name associated with it.<br> \n",
    "<br>\n",
    "<b> IMPORTANT: </b>  Variable names can contain uppercase and lowercase letters, digits, or an underscore, but they cannot start with a digit.<br> \n",
    "<br>\n",
    "<b> IMPORTANT: </b>  The variable names can't be a <b>reserved word</b>.  The reserved words are:<br>\n",
    "<br>\n",
    "<br>\n",
    "Python is case sensitive\n",
    "\n",
    "<i>and, as, assert, break, class, continue, def, del, elif, else, except, False, finally, for, from, global, if, import, in, is, lambda, nonlocal, None, not, or, pass, raise, return, True, try, while, with, and yield. "
   ]
  },
  {
   "cell_type": "markdown",
   "metadata": {},
   "source": [
    "### Comparison Operators\n",
    "EQUAL:$\\;\\;\\;\\;\\;\\;\\;\\;\\;\\;\\;\\;\\;$<b>i == j</b> $\\;\\;\\;\\;\\;\\;\\;$Compares i and j. If they are <b>EQUAL</b> it returns <b>True</b>.  Otherwise it returns <b>False</b><br>\n",
    "NOT-EQUAL$:\\;\\;\\;\\;\\;\\;\\;$<b>i !=   j</b> $\\;\\;\\;\\;\\;\\;\\;$Compares i and j. If they are <b>NOT EQUAL</b> it returns <b>True</b>.  Otherwise it returns <b>False</b><br>\n",
    "<br>\n",
    "GREATER-THAN$:\\;\\;$<b>i >   j</b> $\\;\\;\\;\\;\\;\\;\\;$Compares i and j. If i is <b>GREATER THAN</b> j it returns <b>True</b>.  Otherwise it returns <b>False</b><br>\n",
    "AT-LEAST$:\\;\\;\\;\\;\\;\\;\\;\\;\\;$<b>i >=   j</b> $\\;\\;\\;\\;\\;\\;\\;$Compares i and j. If i is <b>GREATER THAN OR EQUAL TO</b> j it returns <b>True</b>.  Otherwise it returns <b>False</b><br>\n",
    "<br>\n",
    "LESS-THAN$:\\;\\;\\;\\;\\;\\;\\;\\;$<b>i <   j</b> $\\;\\;\\;\\;\\;\\;\\;$Compares i and j. If i is <b>LESS THAN</b> j it returns <b>True</b>.  Otherwise it returns <b>False</b><br>\n",
    "AT-MOST$:\\;\\;\\;\\;\\;\\;\\;\\;\\;\\;\\;\\;$<b>i <=   j</b> $\\;\\;\\;\\;\\;$Compares i and j. If i is <b>LESS THAN OR EQUAL TO</b> j it returns <b>True</b>.  Otherwise it returns <b>False</b><br>"
   ]
  },
  {
   "cell_type": "code",
   "execution_count": 12,
   "metadata": {
    "ExecuteTime": {
     "end_time": "2020-03-28T02:09:25.174712Z",
     "start_time": "2020-03-28T02:09:25.171703Z"
    }
   },
   "outputs": [],
   "source": [
    "#Assign the i and j variables interger values and perform the comaprison operations.\n",
    "\n",
    "i = 6\n",
    "j = 4\n",
    "\n",
    "i,j = 6,4"
   ]
  },
  {
   "cell_type": "code",
   "execution_count": 13,
   "metadata": {
    "ExecuteTime": {
     "end_time": "2020-03-28T02:09:25.344839Z",
     "start_time": "2020-03-28T02:09:25.339853Z"
    }
   },
   "outputs": [
    {
     "data": {
      "text/plain": [
       "False"
      ]
     },
     "execution_count": 13,
     "metadata": {},
     "output_type": "execute_result"
    }
   ],
   "source": [
    "i == j"
   ]
  },
  {
   "cell_type": "code",
   "execution_count": 14,
   "metadata": {
    "ExecuteTime": {
     "end_time": "2020-03-28T02:09:25.518368Z",
     "start_time": "2020-03-28T02:09:25.515376Z"
    }
   },
   "outputs": [
    {
     "data": {
      "text/plain": [
       "True"
      ]
     },
     "execution_count": 14,
     "metadata": {},
     "output_type": "execute_result"
    }
   ],
   "source": [
    "i != j"
   ]
  },
  {
   "cell_type": "code",
   "execution_count": 15,
   "metadata": {
    "ExecuteTime": {
     "end_time": "2020-03-28T02:09:25.679965Z",
     "start_time": "2020-03-28T02:09:25.675945Z"
    }
   },
   "outputs": [
    {
     "data": {
      "text/plain": [
       "True"
      ]
     },
     "execution_count": 15,
     "metadata": {},
     "output_type": "execute_result"
    }
   ],
   "source": [
    "i > j"
   ]
  },
  {
   "cell_type": "code",
   "execution_count": 16,
   "metadata": {
    "ExecuteTime": {
     "end_time": "2020-03-28T02:09:25.864440Z",
     "start_time": "2020-03-28T02:09:25.859453Z"
    }
   },
   "outputs": [
    {
     "data": {
      "text/plain": [
       "True"
      ]
     },
     "execution_count": 16,
     "metadata": {},
     "output_type": "execute_result"
    }
   ],
   "source": [
    "i >= j"
   ]
  },
  {
   "cell_type": "markdown",
   "metadata": {},
   "source": [
    "Assign the boolean output to a variable called <b>result<b>."
   ]
  },
  {
   "cell_type": "code",
   "execution_count": 17,
   "metadata": {
    "ExecuteTime": {
     "end_time": "2020-03-28T02:09:26.206393Z",
     "start_time": "2020-03-28T02:09:26.202552Z"
    }
   },
   "outputs": [
    {
     "name": "stdout",
     "output_type": "stream",
     "text": [
      "True\n"
     ]
    }
   ],
   "source": [
    "result = (i >= j)\n",
    "print(result)"
   ]
  },
  {
   "cell_type": "code",
   "execution_count": 18,
   "metadata": {
    "ExecuteTime": {
     "end_time": "2020-03-28T02:09:26.367667Z",
     "start_time": "2020-03-28T02:09:26.363709Z"
    }
   },
   "outputs": [
    {
     "name": "stdout",
     "output_type": "stream",
     "text": [
      "False\n"
     ]
    }
   ],
   "source": [
    "result = (i < j)\n",
    "print(result)"
   ]
  },
  {
   "cell_type": "markdown",
   "metadata": {},
   "source": [
    "### Operators on objects of type int and float \n",
    "\n",
    "SUM:$\\;\\;\\;\\;\\;\\;\\;\\;\\;\\;\\;\\;\\;\\;\\;\\;\\;\\;\\;\\;\\;\\;\\;\\;\\;\\;\\;\\;\\;\\;\\;$<b>i + j</b> $\\;\\;\\;\\;\\;\\;\\;\\;$The sum of i and j. If i and j are both of type int, the result is an int.  If either of them is a float, the result is a float<br>\n",
    "\n",
    "DIFFERENCE:$\\;\\;\\;\\;\\;\\;\\;\\;\\;\\;\\;\\;\\;\\;\\;\\;\\;\\;\\;\\;$<b>i - j</b> $\\;\\;\\;\\;\\;\\;\\;$ This is i minus j. If i and j are both of type int, the result is an int.  If either of them is a float, the result is a float.<br>\n",
    "\n",
    "PRODUCT:$\\;\\;\\;\\;\\;\\;\\;\\;\\;\\;\\;\\;\\;\\;\\;\\;\\;\\;\\;\\;\\;\\;\\;\\;$<b>i * j</b> $\\;\\;\\;\\;\\;\\;\\;$ The product of i and j. If i and j are both of type int, the result is an int.  If either of them is a float, the result is a float.<br>\n",
    "\n",
    "FLOAT DIVISION:$\\;\\;\\;\\;\\;\\;\\;\\;\\;\\;\\;\\;\\;\\;\\;\\;$<b>i / j</b> $\\;\\;\\;\\;\\;\\;\\;$ The / operator performs floating point division. For example, the value of 6/4 is 1.5.  If j == 0, an error occures.\n",
    "\n",
    "INTEGER DIVISION:$\\;\\;\\;\\;\\;\\;\\;\\;\\;\\;\\;\\;$<b>i // j</b> $\\;\\;\\;\\;\\;\\;\\;$ The // operator performs integer division. For example, the value of 6//2 is the int 3 and the value of 6//4 is the int 1. $\\;\\;\\;\\;\\;\\;\\;\\;\\;\\;\\;\\;\\;\\;\\;\\;\\;\\;\\;\\;\\;\\;\\;\\;\\;\\;\\;\\;\\;\\;\\;\\;\\;\\;\\;\\;\\;\\;\\;\\;\\;\\;\\;\\;\\;\\;\\;\\;\\;\\;\\;\\;$If either i or j is float, then it behaves like the / operator. \n",
    "\n",
    "MODULUS:$\\;\\;\\;\\;\\;\\;\\;\\;\\;\\;\\;\\;\\;\\;\\;\\;\\;\\;\\;\\;\\;\\;\\;$<b>i % j</b> $\\;\\;\\;\\;\\;\\;$ The % operator provides the remainder when int i is divided by int j. It is often pronounced \"i mod j\" $\\;\\;\\;\\;\\;\\;\\;\\;\\;\\;\\;\\;\\;\\;\\;\\;\\;\\;\\;\\;\\;\\;\\;\\;\\;\\;\\;\\;\\;\\;\\;\\;\\;\\;\\;\\;\\;\\;\\;\\;\\;\\;\\;\\;\\;\\;\\;\\;\\;\\;\\;$For example, 6 mod 4 is qual to 2.  4 goes into 6 only one time with a remainder of 2.<br>\n",
    "\n",
    "POWER:$\\;\\;\\;\\;\\;\\;\\;\\;\\;\\;\\;\\;\\;\\;\\;\\;\\;\\;\\;\\;\\;\\;\\;\\;\\;\\;\\;$<b>i ** j</b> $\\;\\;\\;\\;\\;\\;$ The ** gives i to the power of j.  If i and j are both of type int, the result is an int.  If either of them is a float, the result $\\;\\;\\;\\;\\;\\;\\;\\;\\;\\;\\;\\;\\;\\;\\;\\;\\;\\;\\;\\;\\;\\;\\;\\;\\;\\;\\;\\;\\;\\;\\;\\;\\;\\;\\;\\;\\;\\;\\;\\;\\;\\;\\;\\;\\;\\;\\;\\;\\;\\;\\;$is afloat.\" .<br>\n"
   ]
  },
  {
   "cell_type": "code",
   "execution_count": 19,
   "metadata": {
    "ExecuteTime": {
     "end_time": "2020-03-28T02:09:26.728595Z",
     "start_time": "2020-03-28T02:09:26.722579Z"
    }
   },
   "outputs": [
    {
     "name": "stdout",
     "output_type": "stream",
     "text": [
      "10\n",
      "10.0\n",
      "10.0\n"
     ]
    }
   ],
   "source": [
    "#SUM\n",
    "\n",
    "i,j = 6,4        #Integer Values\n",
    "result = i+j\n",
    "print(result)\n",
    "\n",
    "i,j = 6.0,4.0    #Float Values\n",
    "result = i+j\n",
    "print(result)\n",
    "\n",
    "i,j = 6,4.0      #Integer and Float Values \n",
    "result = i+j\n",
    "print(result)"
   ]
  },
  {
   "cell_type": "code",
   "execution_count": 20,
   "metadata": {
    "ExecuteTime": {
     "end_time": "2020-03-28T02:09:26.912607Z",
     "start_time": "2020-03-28T02:09:26.907652Z"
    }
   },
   "outputs": [
    {
     "name": "stdout",
     "output_type": "stream",
     "text": [
      "2\n",
      "2.0\n",
      "2.0\n"
     ]
    }
   ],
   "source": [
    "#DIFFERENCE\n",
    "\n",
    "i,j = 6,4        #Integer Values\n",
    "result = i-j\n",
    "print(result)\n",
    "\n",
    "i,j = 6.0,4.0    #Float Values\n",
    "result = i-j\n",
    "print(result)\n",
    "\n",
    "i,j = 6,4.0      #Integer and Float Values \n",
    "result = i-j\n",
    "print(result)"
   ]
  },
  {
   "cell_type": "code",
   "execution_count": 21,
   "metadata": {
    "ExecuteTime": {
     "end_time": "2020-03-28T02:09:27.071746Z",
     "start_time": "2020-03-28T02:09:27.067781Z"
    }
   },
   "outputs": [
    {
     "name": "stdout",
     "output_type": "stream",
     "text": [
      "24\n",
      "24.0\n",
      "24.0\n"
     ]
    }
   ],
   "source": [
    "#PRODUCT\n",
    "\n",
    "i,j = 6,4        #Integer Values   \n",
    "result = i*j\n",
    "print(result)\n",
    "\n",
    "i,j = 6.0,4.0    #Float Values\n",
    "result = i*j\n",
    "print(result)\n",
    "\n",
    "i,j = 6,4.0      #Integer and Float Values \n",
    "result = i*j\n",
    "print(result)"
   ]
  },
  {
   "cell_type": "code",
   "execution_count": 22,
   "metadata": {
    "ExecuteTime": {
     "end_time": "2020-03-28T02:09:27.255015Z",
     "start_time": "2020-03-28T02:09:27.250994Z"
    }
   },
   "outputs": [
    {
     "name": "stdout",
     "output_type": "stream",
     "text": [
      "1.5\n",
      "1.5\n"
     ]
    }
   ],
   "source": [
    "#FLOAT DIVISION\n",
    "\n",
    "i,j = 6,4        #Integer Values   \n",
    "result = i/j\n",
    "print(result)\n",
    "\n",
    "i,j = 6.0,4.0    #Float Values\n",
    "result = i/j\n",
    "print(result)"
   ]
  },
  {
   "cell_type": "code",
   "execution_count": 23,
   "metadata": {
    "ExecuteTime": {
     "end_time": "2020-03-28T02:09:27.431535Z",
     "start_time": "2020-03-28T02:09:27.427546Z"
    }
   },
   "outputs": [
    {
     "name": "stdout",
     "output_type": "stream",
     "text": [
      "1\n",
      "1.0\n"
     ]
    }
   ],
   "source": [
    "#INTEGER DIVISION\n",
    "\n",
    "i,j = 6,4        #Integer Values   \n",
    "result = i//j\n",
    "print(result)\n",
    "\n",
    "i,j = 6.0,4.0    #Float Values\n",
    "result = i//j\n",
    "print(result)"
   ]
  },
  {
   "cell_type": "code",
   "execution_count": 24,
   "metadata": {
    "ExecuteTime": {
     "end_time": "2020-03-28T02:09:27.600087Z",
     "start_time": "2020-03-28T02:09:27.595100Z"
    }
   },
   "outputs": [
    {
     "name": "stdout",
     "output_type": "stream",
     "text": [
      "1296\n",
      "1296.0\n",
      "1296.0\n"
     ]
    }
   ],
   "source": [
    "#POWER\n",
    "\n",
    "i,j = 6,4        #Integer Values   \n",
    "result = i**j\n",
    "print(result)\n",
    "\n",
    "i,j = 6.0,4.0    #Float Values\n",
    "result = i**j\n",
    "print(result)\n",
    "\n",
    "i,j = 6,4.0      #Integer and Float Values \n",
    "result = i**j\n",
    "print(result)"
   ]
  },
  {
   "cell_type": "markdown",
   "metadata": {},
   "source": [
    "The <b>Modulus Operator % </b> operator provides the remainder when int i is divided by int j. It is often pronounced \"i mod j\" \n",
    "<br>\n",
    "<br>For example, 6 mod 4 is qual to 2.   \n",
    "<br>4 goes into 6 only one time with a remainder of 2."
   ]
  },
  {
   "cell_type": "code",
   "execution_count": 25,
   "metadata": {
    "ExecuteTime": {
     "end_time": "2020-03-28T02:09:27.936810Z",
     "start_time": "2020-03-28T02:09:27.932005Z"
    }
   },
   "outputs": [
    {
     "name": "stdout",
     "output_type": "stream",
     "text": [
      "2\n",
      "2.0\n",
      "2.0\n"
     ]
    }
   ],
   "source": [
    "#MODULUS\n",
    "\n",
    "i,j = 6,4        #Integer Values   \n",
    "result = i%j\n",
    "print(result)\n",
    "\n",
    "i,j = 6.0,4.0    #Float Values\n",
    "result = i%j\n",
    "print(result)\n",
    "\n",
    "i,j = 6,4.0      #Integer and Float Values \n",
    "result = i%j\n",
    "print(result)"
   ]
  },
  {
   "cell_type": "markdown",
   "metadata": {},
   "source": [
    "### EXERCISE 1:\n",
    "\n",
    "Write a piece of code that compares the integer values a and b. <b>a = 1.0 and b = 2</b>. You want to check if a is greater than b. Then print the type of each variable."
   ]
  },
  {
   "cell_type": "code",
   "execution_count": 26,
   "metadata": {
    "ExecuteTime": {
     "end_time": "2020-03-28T02:09:28.280288Z",
     "start_time": "2020-03-28T02:09:28.275302Z"
    }
   },
   "outputs": [
    {
     "data": {
      "text/plain": [
       "float"
      ]
     },
     "execution_count": 26,
     "metadata": {},
     "output_type": "execute_result"
    }
   ],
   "source": [
    "a = 1.0\n",
    "b = 2\n",
    "a > b\n",
    "type(a)\n"
   ]
  },
  {
   "cell_type": "code",
   "execution_count": 27,
   "metadata": {
    "ExecuteTime": {
     "end_time": "2020-03-28T02:09:28.463828Z",
     "start_time": "2020-03-28T02:09:28.460254Z"
    }
   },
   "outputs": [
    {
     "data": {
      "text/plain": [
       "float"
      ]
     },
     "execution_count": 27,
     "metadata": {},
     "output_type": "execute_result"
    }
   ],
   "source": [
    "type(a)"
   ]
  },
  {
   "cell_type": "code",
   "execution_count": 28,
   "metadata": {
    "ExecuteTime": {
     "end_time": "2020-03-28T02:09:28.638892Z",
     "start_time": "2020-03-28T02:09:28.634902Z"
    }
   },
   "outputs": [
    {
     "data": {
      "text/plain": [
       "int"
      ]
     },
     "execution_count": 28,
     "metadata": {},
     "output_type": "execute_result"
    }
   ],
   "source": [
    "type(b)"
   ]
  },
  {
   "cell_type": "markdown",
   "metadata": {
    "heading_collapsed": true
   },
   "source": [
    "### EXERCISE 2:\n",
    "Assign the variable <b>answer</b> to the remainder of 2 to the power of 3 divided by 7.  Then print the answer. \n",
    "HINT: Use the modulus operator %.\n"
   ]
  },
  {
   "cell_type": "code",
   "execution_count": 29,
   "metadata": {
    "ExecuteTime": {
     "end_time": "2020-03-28T02:09:30.640456Z",
     "start_time": "2020-03-28T02:09:30.635462Z"
    },
    "hidden": true
   },
   "outputs": [
    {
     "name": "stdout",
     "output_type": "stream",
     "text": [
      "1\n"
     ]
    }
   ],
   "source": [
    "answer = 2**3%7\n",
    "print(answer)"
   ]
  }
 ],
 "metadata": {
  "kernelspec": {
   "display_name": "Python 3",
   "language": "python",
   "name": "python3"
  },
  "language_info": {
   "codemirror_mode": {
    "name": "ipython",
    "version": 3
   },
   "file_extension": ".py",
   "mimetype": "text/x-python",
   "name": "python",
   "nbconvert_exporter": "python",
   "pygments_lexer": "ipython3",
   "version": "3.7.3"
  },
  "toc": {
   "base_numbering": 1,
   "nav_menu": {},
   "number_sections": true,
   "sideBar": true,
   "skip_h1_title": false,
   "title_cell": "Table of Contents",
   "title_sidebar": "Contents",
   "toc_cell": false,
   "toc_position": {},
   "toc_section_display": true,
   "toc_window_display": false
  },
  "varInspector": {
   "cols": {
    "lenName": 16,
    "lenType": 16,
    "lenVar": 40
   },
   "kernels_config": {
    "python": {
     "delete_cmd_postfix": "",
     "delete_cmd_prefix": "del ",
     "library": "var_list.py",
     "varRefreshCmd": "print(var_dic_list())"
    },
    "r": {
     "delete_cmd_postfix": ") ",
     "delete_cmd_prefix": "rm(",
     "library": "var_list.r",
     "varRefreshCmd": "cat(var_dic_list()) "
    }
   },
   "types_to_exclude": [
    "module",
    "function",
    "builtin_function_or_method",
    "instance",
    "_Feature"
   ],
   "window_display": false
  }
 },
 "nbformat": 4,
 "nbformat_minor": 4
}
