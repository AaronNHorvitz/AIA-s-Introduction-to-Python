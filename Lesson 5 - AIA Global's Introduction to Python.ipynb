{
 "cells": [
  {
   "cell_type": "markdown",
   "metadata": {},
   "source": [
    "# Lesson 5 - Introduction to Python "
   ]
  },
  {
   "cell_type": "markdown",
   "metadata": {},
   "source": [
    "## While Loops and For Loops"
   ]
  },
  {
   "cell_type": "markdown",
   "metadata": {},
   "source": [
    "## Iteration and Loops\n",
    "When we want a program to do the same things many times, we can use <b>iteration</b>. This is typically done using <b>while</b> loops and <b>for</b> loops. "
   ]
  },
  {
   "cell_type": "markdown",
   "metadata": {},
   "source": [
    "### How many times to print the letter X using an IF statement.\n",
    "Please consider the example code below using if statements. "
   ]
  },
  {
   "cell_type": "code",
   "execution_count": 2,
   "metadata": {},
   "outputs": [
    {
     "name": "stdout",
     "output_type": "stream",
     "text": [
      "How many times should I print the letter X?2\n",
      "XX\n"
     ]
    }
   ],
   "source": [
    "number_times    = int(input('How many times should I print the letter X?'))\n",
    "\n",
    "to_print = ''\n",
    "\n",
    "if number_times   == 1:\n",
    "    to_print = 'X'\n",
    "elif number_times == 2:\n",
    "    to_print = 'XX'\n",
    "elif number_times == 3:\n",
    "    to_print = 'XXXX'\n",
    "elif number_times == 4:\n",
    "    to_print = 'XXXXX'\n",
    "elif number_times == 5:\n",
    "    to_print = 'XXXXXX'\n",
    "elif number_times == 6:\n",
    "    to_print = 'XXXXXXX'\n",
    "elif number_times == 7:\n",
    "    to_print = 'XXXXXXXX'\n",
    "elif number_times == 8:\n",
    "    to_print = 'XXXXXXXXX'\n",
    "elif number_times == 9:\n",
    "    to_print = 'XXXXXXXXXX'\n",
    "elif number_times == 10:\n",
    "    to_print = 'XXXXXXXXXXX'\n",
    "\n",
    "\n",
    "print(to_print)"
   ]
  },
  {
   "cell_type": "markdown",
   "metadata": {},
   "source": [
    "### While Loop\n",
    "We can accomplish the same task by writting the following code above using a while loop. <br><b>The while loop continues wile the condition is true. </b>"
   ]
  },
  {
   "cell_type": "markdown",
   "metadata": {},
   "source": [
    "##### Countdown to blast off with a while loop!"
   ]
  },
  {
   "cell_type": "code",
   "execution_count": 32,
   "metadata": {},
   "outputs": [
    {
     "name": "stdout",
     "output_type": "stream",
     "text": [
      "10\n",
      "9\n",
      "8\n",
      "7\n",
      "6\n",
      "5\n",
      "4\n",
      "3\n",
      "2\n",
      "1\n",
      "BLAST OFF!\n"
     ]
    }
   ],
   "source": [
    "# example of a while loop\n",
    "\n",
    "countdown = 10\n",
    "\n",
    "while countdown > 0:  #condition to be true\n",
    "    print(countdown)\n",
    "    countdown = countdown - 1\n",
    "    \n",
    "print('BLAST OFF!')\n",
    "    "
   ]
  },
  {
   "cell_type": "markdown",
   "metadata": {},
   "source": [
    "### How many times to print the letter X using a WHILE LOOP"
   ]
  },
  {
   "cell_type": "code",
   "execution_count": 3,
   "metadata": {},
   "outputs": [
    {
     "name": "stdout",
     "output_type": "stream",
     "text": [
      "How many times should I print the letter X?3\n",
      "XXX\n"
     ]
    }
   ],
   "source": [
    "# accomplish the same thing above as the if statement. \n",
    "\n",
    "number_times  = int(input('How many times should I print the letter X?'))\n",
    "\n",
    "to_print = ''\n",
    "\n",
    "while (number_times != 0):\n",
    "    \n",
    "    to_print = to_print +'X'\n",
    "    \n",
    "    number_times = number_times - 1  \n",
    "    \n",
    "print(to_print)   "
   ]
  },
  {
   "cell_type": "markdown",
   "metadata": {},
   "source": [
    "### Using the += , -= or *= sign in a while loop\n",
    "\n",
    "Python provides a neat shorthand trick to count values while iterating<br>\n",
    "<b>number = number + 1</b> is the same as <b>number += 1</b>"
   ]
  },
  {
   "cell_type": "code",
   "execution_count": 7,
   "metadata": {},
   "outputs": [
    {
     "name": "stdout",
     "output_type": "stream",
     "text": [
      "1\n",
      "1\n"
     ]
    }
   ],
   "source": [
    "# using the formal way\n",
    "number = 0\n",
    "number = number + 1\n",
    "print(number)\n",
    "\n",
    "# faster way\n",
    "number = 0\n",
    "number += 1\n",
    "print(number)"
   ]
  },
  {
   "cell_type": "markdown",
   "metadata": {},
   "source": [
    "### For Loop and Range\n",
    "The for loop iterates through a series of numbers established by the <b>range</b> function or over a squence such as lists, tuples, and dictionaries, which will be discussed in later lessons. <br><br>The range function has the following parameters.  The format is the following:\n",
    "<b>range(start,stop,step)</b>\n",
    "\n",
    "- <b>start</b>  -- OPTIONAL integer number specifying at which position to start. Default is 0\n",
    "- <b>stop</b>   -- REQUIRED integer number specifiying at which position to end. \n",
    "- <b>step</b>   -- OPTIONAL number specifying the incrementation.  Default is 1. \n",
    "\n",
    "NOTE:  The only required variable is the stop variable.  However, the default for stop and step are set to 0 and 1 respectively."
   ]
  },
  {
   "cell_type": "markdown",
   "metadata": {},
   "source": [
    "##### Countdown to blast off with a for loop!"
   ]
  },
  {
   "cell_type": "code",
   "execution_count": 31,
   "metadata": {},
   "outputs": [
    {
     "name": "stdout",
     "output_type": "stream",
     "text": [
      "10\n",
      "9\n",
      "8\n",
      "7\n",
      "6\n",
      "5\n",
      "4\n",
      "3\n",
      "2\n",
      "1\n",
      "BLAST OFF!\n"
     ]
    }
   ],
   "source": [
    "for countdown in range(10,0,-1):\n",
    "    print(countdown)\n",
    "print('BLAST OFF!')"
   ]
  },
  {
   "cell_type": "markdown",
   "metadata": {},
   "source": [
    "Stepping by 2"
   ]
  },
  {
   "cell_type": "code",
   "execution_count": 33,
   "metadata": {},
   "outputs": [
    {
     "name": "stdout",
     "output_type": "stream",
     "text": [
      "0\n",
      "2\n",
      "4\n",
      "6\n",
      "8\n",
      "10\n"
     ]
    }
   ],
   "source": [
    "# stepping by 2\n",
    "\n",
    "for number in range(0,11,2):\n",
    "    print(number)"
   ]
  },
  {
   "cell_type": "markdown",
   "metadata": {},
   "source": [
    "The numbers in the range function must be integers!"
   ]
  },
  {
   "cell_type": "code",
   "execution_count": 35,
   "metadata": {},
   "outputs": [
    {
     "ename": "TypeError",
     "evalue": "'float' object cannot be interpreted as an integer",
     "output_type": "error",
     "traceback": [
      "\u001b[1;31m---------------------------------------------------------------------------\u001b[0m",
      "\u001b[1;31mTypeError\u001b[0m                                 Traceback (most recent call last)",
      "\u001b[1;32m<ipython-input-35-9fc533bdadee>\u001b[0m in \u001b[0;36m<module>\u001b[1;34m\u001b[0m\n\u001b[1;32m----> 1\u001b[1;33m \u001b[1;32mfor\u001b[0m \u001b[0mnumber\u001b[0m \u001b[1;32min\u001b[0m \u001b[0mrange\u001b[0m\u001b[1;33m(\u001b[0m\u001b[1;36m0\u001b[0m\u001b[1;33m,\u001b[0m\u001b[1;36m11\u001b[0m\u001b[1;33m,\u001b[0m\u001b[1;36m0.2\u001b[0m\u001b[1;33m)\u001b[0m\u001b[1;33m:\u001b[0m\u001b[1;33m\u001b[0m\u001b[1;33m\u001b[0m\u001b[0m\n\u001b[0m\u001b[0;32m      2\u001b[0m     \u001b[0mprint\u001b[0m\u001b[1;33m(\u001b[0m\u001b[0mnumber\u001b[0m\u001b[1;33m)\u001b[0m\u001b[1;33m\u001b[0m\u001b[1;33m\u001b[0m\u001b[0m\n",
      "\u001b[1;31mTypeError\u001b[0m: 'float' object cannot be interpreted as an integer"
     ]
    }
   ],
   "source": [
    "for number in range(0,11,0.2):\n",
    "    print(number)"
   ]
  },
  {
   "cell_type": "markdown",
   "metadata": {},
   "source": [
    "### How many times to print the letter X using a FOR LOOP"
   ]
  },
  {
   "cell_type": "code",
   "execution_count": 27,
   "metadata": {},
   "outputs": [
    {
     "name": "stdout",
     "output_type": "stream",
     "text": [
      "How many times should I print the letter X?5\n",
      "XXXXX\n"
     ]
    }
   ],
   "source": [
    "number_times    = int(input('How many times should I print the letter X?'))\n",
    "\n",
    "to_print = ''\n",
    "\n",
    "start = 0\n",
    "stop  = number_times\n",
    "step  = 1\n",
    "\n",
    "for n in range(start, stop, step):\n",
    "    \n",
    "    to_print = to_print +'X'\n",
    "    \n",
    "print(to_print) "
   ]
  },
  {
   "cell_type": "markdown",
   "metadata": {},
   "source": [
    "### Using the Break Statement\n",
    "Using the <b>break</b> statement we can stop a for loop or a while loop. "
   ]
  },
  {
   "cell_type": "markdown",
   "metadata": {},
   "source": [
    "##### Aborting the rocket launch with a break statement in a while loop."
   ]
  },
  {
   "cell_type": "code",
   "execution_count": 44,
   "metadata": {},
   "outputs": [
    {
     "name": "stdout",
     "output_type": "stream",
     "text": [
      "10\n",
      "9\n",
      "8\n",
      "7\n",
      "6\n",
      "5\n",
      "4\n",
      "3\n",
      "Awe... The rocket launch was aborted.\n"
     ]
    }
   ],
   "source": [
    "countdown = 10\n",
    "\n",
    "while countdown > 0:  #condition to be true\n",
    "    print(countdown)\n",
    "    if countdown == 3:\n",
    "        print('Awe... The rocket launch was aborted.')\n",
    "        break\n",
    "    countdown -= 1\n"
   ]
  },
  {
   "cell_type": "markdown",
   "metadata": {},
   "source": [
    "##### Aborting the rocket launch with a break statement in a for loop."
   ]
  },
  {
   "cell_type": "code",
   "execution_count": 40,
   "metadata": {},
   "outputs": [
    {
     "name": "stdout",
     "output_type": "stream",
     "text": [
      "10\n",
      "9\n",
      "8\n",
      "7\n",
      "6\n",
      "5\n",
      "4\n",
      "3\n",
      "Awe... The rocket launch was aborted.\n"
     ]
    }
   ],
   "source": [
    "# stopping a while loop\n",
    "\n",
    "for countdown in range(10,0,-1):\n",
    "    \n",
    "    print(countdown)\n",
    "    \n",
    "    if countdown == 3:\n",
    "        print('Awe... The rocket launch was aborted.')\n",
    "        break\n"
   ]
  },
  {
   "cell_type": "markdown",
   "metadata": {
    "heading_collapsed": true
   },
   "source": [
    "## EXERCISE:   \n",
    "Write a for loop that iterates through the numbers 1 through 10, and only prints only the even numbers. <br>Hint: Use the modulus operator <b>%</b> to determine if the number is even or odd.  <br><br><b> 4 % 2 = 0</b><br><b>  3 % 2 = 1  </b>"
   ]
  },
  {
   "cell_type": "code",
   "execution_count": 4,
   "metadata": {
    "ExecuteTime": {
     "end_time": "2020-03-28T03:13:05.176700Z",
     "start_time": "2020-03-28T03:13:05.171713Z"
    },
    "hidden": true
   },
   "outputs": [
    {
     "name": "stdout",
     "output_type": "stream",
     "text": [
      "2\n",
      "4\n",
      "6\n",
      "8\n",
      "10\n"
     ]
    }
   ],
   "source": [
    "for n in range(1,11):\n",
    "    \n",
    "    if n%2 == 0:\n",
    "        print(n)\n"
   ]
  }
 ],
 "metadata": {
  "kernelspec": {
   "display_name": "Python 3",
   "language": "python",
   "name": "python3"
  },
  "language_info": {
   "codemirror_mode": {
    "name": "ipython",
    "version": 3
   },
   "file_extension": ".py",
   "mimetype": "text/x-python",
   "name": "python",
   "nbconvert_exporter": "python",
   "pygments_lexer": "ipython3",
   "version": "3.7.3"
  },
  "toc": {
   "base_numbering": 1,
   "nav_menu": {},
   "number_sections": true,
   "sideBar": true,
   "skip_h1_title": false,
   "title_cell": "Table of Contents",
   "title_sidebar": "Contents",
   "toc_cell": false,
   "toc_position": {},
   "toc_section_display": true,
   "toc_window_display": false
  },
  "varInspector": {
   "cols": {
    "lenName": 16,
    "lenType": 16,
    "lenVar": 40
   },
   "kernels_config": {
    "python": {
     "delete_cmd_postfix": "",
     "delete_cmd_prefix": "del ",
     "library": "var_list.py",
     "varRefreshCmd": "print(var_dic_list())"
    },
    "r": {
     "delete_cmd_postfix": ") ",
     "delete_cmd_prefix": "rm(",
     "library": "var_list.r",
     "varRefreshCmd": "cat(var_dic_list()) "
    }
   },
   "types_to_exclude": [
    "module",
    "function",
    "builtin_function_or_method",
    "instance",
    "_Feature"
   ],
   "window_display": false
  }
 },
 "nbformat": 4,
 "nbformat_minor": 4
}
