{
 "cells": [
  {
   "cell_type": "markdown",
   "metadata": {},
   "source": [
    "# Lesson 3 - Introduction to Python "
   ]
  },
  {
   "cell_type": "markdown",
   "metadata": {},
   "source": [
    "## Strings, Types, and Built in Functions"
   ]
  },
  {
   "cell_type": "markdown",
   "metadata": {},
   "source": [
    "### Strings\n",
    "Objects of type <b>string</b> are used to represent characters.  Literals of type str can be written either using single or double quotes, eg. 'abc' or \"abc\".  The literal '123' denotes a string of three characters, not the number one hundred and twenty three.  Here is an example:"
   ]
  },
  {
   "cell_type": "code",
   "execution_count": 1,
   "metadata": {
    "ExecuteTime": {
     "end_time": "2020-03-28T02:26:44.702606Z",
     "start_time": "2020-03-28T02:26:44.693614Z"
    }
   },
   "outputs": [
    {
     "data": {
      "text/plain": [
       "'a'"
      ]
     },
     "execution_count": 1,
     "metadata": {},
     "output_type": "execute_result"
    }
   ],
   "source": [
    "'a'"
   ]
  },
  {
   "cell_type": "markdown",
   "metadata": {},
   "source": [
    "Write the multplication expression 3 times 4. "
   ]
  },
  {
   "cell_type": "code",
   "execution_count": 2,
   "metadata": {
    "ExecuteTime": {
     "end_time": "2020-03-28T02:26:44.856218Z",
     "start_time": "2020-03-28T02:26:44.852229Z"
    }
   },
   "outputs": [
    {
     "data": {
      "text/plain": [
       "12"
      ]
     },
     "execution_count": 2,
     "metadata": {},
     "output_type": "execute_result"
    }
   ],
   "source": [
    "3*4"
   ]
  },
  {
   "cell_type": "markdown",
   "metadata": {},
   "source": [
    "The operator + is said to be <b>overloaded</b>:  It has different meanings depending on the types of objects it is applied to. For example, it means additions when it is applied to two numbers, and concatenation when applied to two strings. The operator * is also overloaded.  It means multplication when its operands are both numbers.  When applied to an int or a str, it becomes a <b>repetition operator</b>."
   ]
  },
  {
   "cell_type": "markdown",
   "metadata": {},
   "source": [
    "Put the same multipliation expression in quotations:"
   ]
  },
  {
   "cell_type": "code",
   "execution_count": 3,
   "metadata": {
    "ExecuteTime": {
     "end_time": "2020-03-28T02:26:45.175082Z",
     "start_time": "2020-03-28T02:26:45.171094Z"
    }
   },
   "outputs": [
    {
     "data": {
      "text/plain": [
       "'3*4'"
      ]
     },
     "execution_count": 3,
     "metadata": {},
     "output_type": "execute_result"
    }
   ],
   "source": [
    "'3*4'"
   ]
  },
  {
   "cell_type": "markdown",
   "metadata": {
    "ExecuteTime": {
     "end_time": "2020-03-28T02:28:31.384965Z",
     "start_time": "2020-03-28T02:28:31.380977Z"
    }
   },
   "source": [
    "Now multply 3 times a. "
   ]
  },
  {
   "cell_type": "code",
   "execution_count": 27,
   "metadata": {
    "ExecuteTime": {
     "end_time": "2020-03-28T02:28:43.048467Z",
     "start_time": "2020-03-28T02:28:43.044510Z"
    }
   },
   "outputs": [
    {
     "data": {
      "text/plain": [
       "'aaa'"
      ]
     },
     "execution_count": 27,
     "metadata": {},
     "output_type": "execute_result"
    }
   ],
   "source": [
    "3*'a'"
   ]
  },
  {
   "cell_type": "code",
   "execution_count": 28,
   "metadata": {
    "ExecuteTime": {
     "end_time": "2020-03-28T02:28:44.999676Z",
     "start_time": "2020-03-28T02:28:44.995685Z"
    }
   },
   "outputs": [
    {
     "data": {
      "text/plain": [
       "7"
      ]
     },
     "execution_count": 28,
     "metadata": {},
     "output_type": "execute_result"
    }
   ],
   "source": [
    "3+4"
   ]
  },
  {
   "cell_type": "code",
   "execution_count": 29,
   "metadata": {
    "ExecuteTime": {
     "end_time": "2020-03-28T02:28:46.007496Z",
     "start_time": "2020-03-28T02:28:46.003508Z"
    }
   },
   "outputs": [
    {
     "data": {
      "text/plain": [
       "'Ben'"
      ]
     },
     "execution_count": 29,
     "metadata": {},
     "output_type": "execute_result"
    }
   ],
   "source": [
    "'Ben'"
   ]
  },
  {
   "cell_type": "code",
   "execution_count": 30,
   "metadata": {
    "ExecuteTime": {
     "end_time": "2020-03-28T02:28:46.208958Z",
     "start_time": "2020-03-28T02:28:46.204971Z"
    }
   },
   "outputs": [
    {
     "data": {
      "text/plain": [
       "'BenBen'"
      ]
     },
     "execution_count": 30,
     "metadata": {},
     "output_type": "execute_result"
    }
   ],
   "source": [
    "'Ben'+'Ben'"
   ]
  },
  {
   "cell_type": "code",
   "execution_count": 31,
   "metadata": {
    "ExecuteTime": {
     "end_time": "2020-03-28T02:28:46.871761Z",
     "start_time": "2020-03-28T02:28:46.867772Z"
    }
   },
   "outputs": [
    {
     "data": {
      "text/plain": [
       "'BenBenBen'"
      ]
     },
     "execution_count": 31,
     "metadata": {},
     "output_type": "execute_result"
    }
   ],
   "source": [
    "3*'Ben'"
   ]
  },
  {
   "cell_type": "markdown",
   "metadata": {},
   "source": [
    "## Built In Functions\n",
    "<b>function</b> is a reusable unit of code that performs a specific task.  A <b>Built-in Functions</b> Python provides many built in functions that do common tasks like getting input data from the user and printing output data to the consol. When you <b>call a function</b> you code the name of the function followed by a pair of parentheses.  Within the parenthesis, you code any <b>arguments</b> that the function requires, and you seperate multiple arguments with commas.<br>\n",
    "<br>\n",
    "In this section we will look at three common functions. They are:\n",
    "\n",
    "\n",
    "- int()\n",
    "- type()\n",
    "- round()\n",
    "\n",
    "For a full list of built in functions, follow this link here:\n",
    "https://docs.python.org/3/library/functions.html\n"
   ]
  },
  {
   "cell_type": "markdown",
   "metadata": {},
   "source": [
    "### type()\n",
    "A quick review from Lesson 1 -- The <b>type()</b> function returns the variable type."
   ]
  },
  {
   "cell_type": "markdown",
   "metadata": {},
   "source": [
    "<b>Integer</b>"
   ]
  },
  {
   "cell_type": "code",
   "execution_count": 32,
   "metadata": {
    "ExecuteTime": {
     "end_time": "2020-03-28T02:29:04.128010Z",
     "start_time": "2020-03-28T02:29:04.124020Z"
    }
   },
   "outputs": [
    {
     "data": {
      "text/plain": [
       "int"
      ]
     },
     "execution_count": 32,
     "metadata": {},
     "output_type": "execute_result"
    }
   ],
   "source": [
    "type(1)"
   ]
  },
  {
   "cell_type": "markdown",
   "metadata": {},
   "source": [
    "<b>Float</b>"
   ]
  },
  {
   "cell_type": "code",
   "execution_count": 33,
   "metadata": {
    "ExecuteTime": {
     "end_time": "2020-03-28T02:29:16.489489Z",
     "start_time": "2020-03-28T02:29:16.484504Z"
    }
   },
   "outputs": [
    {
     "data": {
      "text/plain": [
       "float"
      ]
     },
     "execution_count": 33,
     "metadata": {},
     "output_type": "execute_result"
    }
   ],
   "source": [
    "type(1.0)"
   ]
  },
  {
   "cell_type": "markdown",
   "metadata": {},
   "source": [
    "<b>String</b>"
   ]
  },
  {
   "cell_type": "code",
   "execution_count": 11,
   "metadata": {
    "ExecuteTime": {
     "end_time": "2020-03-28T02:26:47.351393Z",
     "start_time": "2020-03-28T02:26:47.347405Z"
    }
   },
   "outputs": [
    {
     "data": {
      "text/plain": [
       "str"
      ]
     },
     "execution_count": 11,
     "metadata": {},
     "output_type": "execute_result"
    }
   ],
   "source": [
    "type('1')"
   ]
  },
  {
   "cell_type": "markdown",
   "metadata": {},
   "source": [
    "<b>Boolean</b>"
   ]
  },
  {
   "cell_type": "code",
   "execution_count": 34,
   "metadata": {
    "ExecuteTime": {
     "end_time": "2020-03-28T02:35:53.716190Z",
     "start_time": "2020-03-28T02:35:53.711232Z"
    }
   },
   "outputs": [
    {
     "data": {
      "text/plain": [
       "bool"
      ]
     },
     "execution_count": 34,
     "metadata": {},
     "output_type": "execute_result"
    }
   ],
   "source": [
    "type(True)\n"
   ]
  },
  {
   "cell_type": "markdown",
   "metadata": {},
   "source": [
    "### Type Conversion\n",
    "<b>Type conversions</b> (also called <b>type casts</b>) are also used in Python code.  We use the name of a type to convert values to that type.  So, for example, the value of <b>int('3')*4 is 12</b>. When a float is converted to an int, the number is <b><i>truncated (not rounded)</i></b>, e.g., the value of <b>int(3.9)</b> is the int <b>3</b>."
   ]
  },
  {
   "cell_type": "code",
   "execution_count": 13,
   "metadata": {
    "ExecuteTime": {
     "end_time": "2020-03-28T02:26:47.855970Z",
     "start_time": "2020-03-28T02:26:47.851983Z"
    }
   },
   "outputs": [
    {
     "data": {
      "text/plain": [
       "3"
      ]
     },
     "execution_count": 13,
     "metadata": {},
     "output_type": "execute_result"
    }
   ],
   "source": [
    "# cast a float to an int\n",
    "\n",
    "int(3.0)"
   ]
  },
  {
   "cell_type": "code",
   "execution_count": 14,
   "metadata": {
    "ExecuteTime": {
     "end_time": "2020-03-28T02:26:48.039894Z",
     "start_time": "2020-03-28T02:26:48.035907Z"
    }
   },
   "outputs": [
    {
     "data": {
      "text/plain": [
       "3.0"
      ]
     },
     "execution_count": 14,
     "metadata": {},
     "output_type": "execute_result"
    }
   ],
   "source": [
    "# cast an int to a float\n",
    "\n",
    "float(3)"
   ]
  },
  {
   "cell_type": "code",
   "execution_count": 15,
   "metadata": {
    "ExecuteTime": {
     "end_time": "2020-03-28T02:26:48.200011Z",
     "start_time": "2020-03-28T02:26:48.195026Z"
    }
   },
   "outputs": [
    {
     "data": {
      "text/plain": [
       "15"
      ]
     },
     "execution_count": 15,
     "metadata": {},
     "output_type": "execute_result"
    }
   ],
   "source": [
    "# can do mathematical operations within the type cast\n",
    "\n",
    "int(3.9*4)"
   ]
  },
  {
   "cell_type": "markdown",
   "metadata": {},
   "source": [
    "### Type Checking\n",
    "<b>Type checking</b> is the process of verifying and enforcing constraints of types.  Rather than let the programs respond in unrepdictable ways, Python will generate an error that stops execution.  Let's look at the following line of code as an example. Each will generate an error. "
   ]
  },
  {
   "cell_type": "code",
   "execution_count": 16,
   "metadata": {
    "ExecuteTime": {
     "end_time": "2020-03-28T02:26:48.589129Z",
     "start_time": "2020-03-28T02:26:48.540230Z"
    }
   },
   "outputs": [
    {
     "ename": "NameError",
     "evalue": "name 'a' is not defined",
     "output_type": "error",
     "traceback": [
      "\u001b[1;31m---------------------------------------------------------------------------\u001b[0m",
      "\u001b[1;31mNameError\u001b[0m                                 Traceback (most recent call last)",
      "\u001b[1;32m<ipython-input-16-c9875beab26e>\u001b[0m in \u001b[0;36m<module>\u001b[1;34m\u001b[0m\n\u001b[0;32m      1\u001b[0m \u001b[1;31m#Add two strings together\u001b[0m\u001b[1;33m\u001b[0m\u001b[1;33m\u001b[0m\u001b[1;33m\u001b[0m\u001b[0m\n\u001b[1;32m----> 2\u001b[1;33m \u001b[0ma\u001b[0m\u001b[1;33m\u001b[0m\u001b[1;33m\u001b[0m\u001b[0m\n\u001b[0m",
      "\u001b[1;31mNameError\u001b[0m: name 'a' is not defined"
     ]
    }
   ],
   "source": [
    "#Add two strings together\n",
    "a"
   ]
  },
  {
   "cell_type": "code",
   "execution_count": 17,
   "metadata": {
    "ExecuteTime": {
     "end_time": "2020-03-28T02:26:48.721810Z",
     "start_time": "2020-03-28T02:26:48.715826Z"
    }
   },
   "outputs": [
    {
     "ename": "TypeError",
     "evalue": "can't multiply sequence by non-int of type 'str'",
     "output_type": "error",
     "traceback": [
      "\u001b[1;31m---------------------------------------------------------------------------\u001b[0m",
      "\u001b[1;31mTypeError\u001b[0m                                 Traceback (most recent call last)",
      "\u001b[1;32m<ipython-input-17-16c4cba560f9>\u001b[0m in \u001b[0;36m<module>\u001b[1;34m\u001b[0m\n\u001b[1;32m----> 1\u001b[1;33m \u001b[1;34m'a'\u001b[0m\u001b[1;33m*\u001b[0m\u001b[1;34m'a'\u001b[0m\u001b[1;33m\u001b[0m\u001b[1;33m\u001b[0m\u001b[0m\n\u001b[0m",
      "\u001b[1;31mTypeError\u001b[0m: can't multiply sequence by non-int of type 'str'"
     ]
    }
   ],
   "source": [
    "'a'*'a'"
   ]
  },
  {
   "cell_type": "markdown",
   "metadata": {},
   "source": [
    "### round()\n",
    "\n",
    "Python uses the <b>round()</b> function to the number of decimal digits in the digits argument.  Here are some important rules to remember: \n",
    "- If not digits are specified, it rounds the number to the nearest integer.  \n",
    "- <b>round()</b> will round off to the ceiling integer if the decimal value is greater than or equal to 5. \n",
    "- <b>round()</b> will round off to the floor integer if the decimal value is less than 5. \n",
    "\n",
    "<br>\n",
    "<br>\n",
    "<b>round(number, number of digits)</b>\n",
    "<br>\n",
    "<br>\n",
    " if a decimal number is given , then it will round off to the ceil integer after that if decimal value has >=5 , and it will round off to the floor integer if decimal is <5"
   ]
  },
  {
   "cell_type": "code",
   "execution_count": 18,
   "metadata": {
    "ExecuteTime": {
     "end_time": "2020-03-28T02:26:49.087798Z",
     "start_time": "2020-03-28T02:26:49.082810Z"
    }
   },
   "outputs": [
    {
     "data": {
      "text/plain": [
       "15.77"
      ]
     },
     "execution_count": 18,
     "metadata": {},
     "output_type": "execute_result"
    }
   ],
   "source": [
    "#Here is an example of using the round function to two decimal places.\n",
    "\n",
    "round(15.7666,2) "
   ]
  },
  {
   "cell_type": "code",
   "execution_count": 19,
   "metadata": {
    "ExecuteTime": {
     "end_time": "2020-03-28T02:26:49.672177Z",
     "start_time": "2020-03-28T02:26:49.667190Z"
    }
   },
   "outputs": [
    {
     "data": {
      "text/plain": [
       "16"
      ]
     },
     "execution_count": 19,
     "metadata": {},
     "output_type": "execute_result"
    }
   ],
   "source": [
    "#Here is an example of using the round function when no digits are specified. It rounds to the nearest intgeger.\n",
    "\n",
    "round(15.7666) "
   ]
  },
  {
   "cell_type": "code",
   "execution_count": 20,
   "metadata": {
    "ExecuteTime": {
     "end_time": "2020-03-28T02:26:49.847181Z",
     "start_time": "2020-03-28T02:26:49.843168Z"
    }
   },
   "outputs": [
    {
     "name": "stdout",
     "output_type": "stream",
     "text": [
      "15.77\n"
     ]
    }
   ],
   "source": [
    "#Assigning the results of the round function to the value x and then printing the value x. \n",
    "\n",
    "x = round(15.7666,2) \n",
    "print(x)"
   ]
  },
  {
   "cell_type": "code",
   "execution_count": 21,
   "metadata": {
    "ExecuteTime": {
     "end_time": "2020-03-28T02:26:50.007402Z",
     "start_time": "2020-03-28T02:26:50.003198Z"
    }
   },
   "outputs": [
    {
     "data": {
      "text/plain": [
       "2.67"
      ]
     },
     "execution_count": 21,
     "metadata": {},
     "output_type": "execute_result"
    }
   ],
   "source": [
    "#When the (ndigit+1)th digit is =5 \n",
    "\n",
    "round(2.665, 2)"
   ]
  },
  {
   "cell_type": "code",
   "execution_count": 22,
   "metadata": {
    "ExecuteTime": {
     "end_time": "2020-03-28T02:26:50.168016Z",
     "start_time": "2020-03-28T02:26:50.162997Z"
    }
   },
   "outputs": [
    {
     "data": {
      "text/plain": [
       "2.68"
      ]
     },
     "execution_count": 22,
     "metadata": {},
     "output_type": "execute_result"
    }
   ],
   "source": [
    "#When the (ndigit+1)th digit is >=5 \n",
    "\n",
    "round(2.676, 2)  "
   ]
  },
  {
   "cell_type": "code",
   "execution_count": 23,
   "metadata": {
    "ExecuteTime": {
     "end_time": "2020-03-28T02:26:50.351342Z",
     "start_time": "2020-03-28T02:26:50.347354Z"
    }
   },
   "outputs": [
    {
     "data": {
      "text/plain": [
       "2.67"
      ]
     },
     "execution_count": 23,
     "metadata": {},
     "output_type": "execute_result"
    }
   ],
   "source": [
    "#When the (ndigit+1)th digit is <5  \n",
    "\n",
    "round(2.673, 2)"
   ]
  },
  {
   "cell_type": "markdown",
   "metadata": {},
   "source": [
    "### EXERCISE 1:\n",
    "If you add an integer to a float in Python, what variable type will you get?"
   ]
  },
  {
   "cell_type": "code",
   "execution_count": 24,
   "metadata": {
    "ExecuteTime": {
     "end_time": "2020-03-28T02:26:50.696002Z",
     "start_time": "2020-03-28T02:26:50.692014Z"
    }
   },
   "outputs": [
    {
     "data": {
      "text/plain": [
       "float"
      ]
     },
     "execution_count": 24,
     "metadata": {},
     "output_type": "execute_result"
    }
   ],
   "source": [
    "# answer\n",
    "\n",
    "x = 2.0 + 1\n",
    "type(x)"
   ]
  },
  {
   "cell_type": "markdown",
   "metadata": {},
   "source": [
    "### EXERCISE 2:\n",
    "Given the following variables and formula, alculate the miles per gallon (mpg), rounded to two decimal places.\n",
    "\n",
    "<b>miles_driven = 150.25<br>\n",
    "gallons_used = 5.875<br>\n",
    "\n",
    "mpg = miles_driven/ gallons_used</b>\n",
    "\n",
    "\n"
   ]
  },
  {
   "cell_type": "code",
   "execution_count": 25,
   "metadata": {
    "ExecuteTime": {
     "end_time": "2020-03-28T02:26:51.040023Z",
     "start_time": "2020-03-28T02:26:51.035038Z"
    }
   },
   "outputs": [
    {
     "name": "stdout",
     "output_type": "stream",
     "text": [
      "25.57\n"
     ]
    }
   ],
   "source": [
    "#establish the variables\n",
    "miles_driven = 150.25\n",
    "gallons_used = 5.875\n",
    "\n",
    "mpg = round(miles_driven / gallons_used,2)\n",
    "\n",
    "print(mpg)"
   ]
  }
 ],
 "metadata": {
  "kernelspec": {
   "display_name": "Python 3",
   "language": "python",
   "name": "python3"
  },
  "language_info": {
   "codemirror_mode": {
    "name": "ipython",
    "version": 3
   },
   "file_extension": ".py",
   "mimetype": "text/x-python",
   "name": "python",
   "nbconvert_exporter": "python",
   "pygments_lexer": "ipython3",
   "version": "3.7.3"
  },
  "toc": {
   "base_numbering": 1,
   "nav_menu": {},
   "number_sections": true,
   "sideBar": true,
   "skip_h1_title": false,
   "title_cell": "Table of Contents",
   "title_sidebar": "Contents",
   "toc_cell": false,
   "toc_position": {},
   "toc_section_display": true,
   "toc_window_display": false
  },
  "varInspector": {
   "cols": {
    "lenName": 16,
    "lenType": 16,
    "lenVar": 40
   },
   "kernels_config": {
    "python": {
     "delete_cmd_postfix": "",
     "delete_cmd_prefix": "del ",
     "library": "var_list.py",
     "varRefreshCmd": "print(var_dic_list())"
    },
    "r": {
     "delete_cmd_postfix": ") ",
     "delete_cmd_prefix": "rm(",
     "library": "var_list.r",
     "varRefreshCmd": "cat(var_dic_list()) "
    }
   },
   "types_to_exclude": [
    "module",
    "function",
    "builtin_function_or_method",
    "instance",
    "_Feature"
   ],
   "window_display": false
  }
 },
 "nbformat": 4,
 "nbformat_minor": 4
}
