{
 "cells": [
  {
   "cell_type": "markdown",
   "metadata": {},
   "source": [
    "## Lesson 6 - Introduction to Python "
   ]
  },
  {
   "cell_type": "markdown",
   "metadata": {},
   "source": [
    "## Lists, Tuples, Dictionaries, and Aliasing"
   ]
  },
  {
   "cell_type": "markdown",
   "metadata": {},
   "source": [
    "A <b>list</b> is an ordered sequence of values, where each value is identified by an index that starts with 0.  The syntax for expressing literals of type list is similiar to that used for tuples; the difference is that we use square brackets rather than parentheses.  The empty list is written as [].  "
   ]
  },
  {
   "cell_type": "markdown",
   "metadata": {},
   "source": [
    "#### Indexing:  \n",
    "An item can be accessed in numerical order, starting at 0. This is important, because most things in Ptyhon start with an index at 0 and not 1! The list can contain many items.  Here is how to put items in a list."
   ]
  },
  {
   "cell_type": "code",
   "execution_count": 80,
   "metadata": {},
   "outputs": [],
   "source": [
    "list_of_items = ['I','did', 'it', 'all', 4, 'for the AIA']"
   ]
  },
  {
   "cell_type": "markdown",
   "metadata": {},
   "source": [
    "Accessing the items at index 0."
   ]
  },
  {
   "cell_type": "code",
   "execution_count": 6,
   "metadata": {},
   "outputs": [
    {
     "data": {
      "text/plain": [
       "'I'"
      ]
     },
     "execution_count": 6,
     "metadata": {},
     "output_type": "execute_result"
    }
   ],
   "source": [
    "list_of_items[0]"
   ]
  },
  {
   "cell_type": "markdown",
   "metadata": {},
   "source": [
    "Accessing the items at index 1."
   ]
  },
  {
   "cell_type": "code",
   "execution_count": 7,
   "metadata": {},
   "outputs": [
    {
     "data": {
      "text/plain": [
       "'did'"
      ]
     },
     "execution_count": 7,
     "metadata": {},
     "output_type": "execute_result"
    }
   ],
   "source": [
    "list_of_items[1]"
   ]
  },
  {
   "cell_type": "markdown",
   "metadata": {},
   "source": [
    "Accessing the items at index 5."
   ]
  },
  {
   "cell_type": "code",
   "execution_count": 8,
   "metadata": {},
   "outputs": [
    {
     "data": {
      "text/plain": [
       "'for the AIA'"
      ]
     },
     "execution_count": 8,
     "metadata": {},
     "output_type": "execute_result"
    }
   ],
   "source": [
    "list_of_items[5]"
   ]
  },
  {
   "cell_type": "markdown",
   "metadata": {},
   "source": [
    "### A Special Note On Negative Indexing\n",
    "Negative indexing means beginning from the end, -1 refers to the last item, -2 refers to the second last item etc."
   ]
  },
  {
   "cell_type": "code",
   "execution_count": 79,
   "metadata": {},
   "outputs": [
    {
     "name": "stdout",
     "output_type": "stream",
     "text": [
      "for the AIA\n",
      "4\n"
     ]
    }
   ],
   "source": [
    "print(list_of_items[-1])\n",
    "print(list_of_items[-2])"
   ]
  },
  {
   "cell_type": "markdown",
   "metadata": {},
   "source": [
    "## Range of Indexes\n",
    "You can specify a range of indexes by specifying where to start and where to end the range. <br><br><b>IMPORTANT:</b> The first value is inclusive, and second value in the index is always exclusive. "
   ]
  },
  {
   "cell_type": "code",
   "execution_count": 86,
   "metadata": {},
   "outputs": [
    {
     "data": {
      "text/plain": [
       "['it', 'all']"
      ]
     },
     "execution_count": 86,
     "metadata": {},
     "output_type": "execute_result"
    }
   ],
   "source": [
    "list_of_items[2:4]"
   ]
  },
  {
   "cell_type": "markdown",
   "metadata": {},
   "source": [
    "The first value is inclusive, and second value in the index is always exclusive. So this code produces the same value."
   ]
  },
  {
   "cell_type": "code",
   "execution_count": 89,
   "metadata": {},
   "outputs": [
    {
     "data": {
      "text/plain": [
       "['it']"
      ]
     },
     "execution_count": 89,
     "metadata": {},
     "output_type": "execute_result"
    }
   ],
   "source": [
    "list_of_items[2:3]"
   ]
  },
  {
   "cell_type": "markdown",
   "metadata": {},
   "source": [
    "## For loops and lists\n",
    "Use a for loop to access each items in the list"
   ]
  },
  {
   "cell_type": "code",
   "execution_count": 9,
   "metadata": {},
   "outputs": [
    {
     "name": "stdout",
     "output_type": "stream",
     "text": [
      "I\n",
      "did\n",
      "it\n",
      "all\n",
      "4\n",
      "for the AIA\n"
     ]
    }
   ],
   "source": [
    "for item in list_of_items:\n",
    "    print(item)"
   ]
  },
  {
   "cell_type": "markdown",
   "metadata": {},
   "source": [
    "### Empty Lists\n",
    "This is how to declare an empty list"
   ]
  },
  {
   "cell_type": "code",
   "execution_count": 10,
   "metadata": {},
   "outputs": [],
   "source": [
    "empty_list = []"
   ]
  },
  {
   "cell_type": "code",
   "execution_count": 11,
   "metadata": {},
   "outputs": [
    {
     "data": {
      "text/plain": [
       "[]"
      ]
     },
     "execution_count": 11,
     "metadata": {},
     "output_type": "execute_result"
    }
   ],
   "source": [
    "empty_list"
   ]
  },
  {
   "cell_type": "markdown",
   "metadata": {},
   "source": [
    "### Lists of Lists\n",
    "Lists can be composed of lists of lists."
   ]
  },
  {
   "cell_type": "code",
   "execution_count": 32,
   "metadata": {},
   "outputs": [],
   "source": [
    "evens = [2, 4, 6]\n",
    "odds  = [1, 3, 5]\n",
    "\n",
    "numbers1 = [evens, odds]\n",
    "numbers2 = [[2, 4, 6], [1, 3, 5]]"
   ]
  },
  {
   "cell_type": "code",
   "execution_count": 33,
   "metadata": {},
   "outputs": [
    {
     "name": "stdout",
     "output_type": "stream",
     "text": [
      "numbers1 =  [[2, 4, 6], [1, 3, 5]]\n",
      "numbers2 =  [[2, 4, 6], [1, 3, 5]]\n",
      "True\n"
     ]
    }
   ],
   "source": [
    "print('numbers1 = ', numbers1)\n",
    "print('numbers2 = ', numbers2)\n",
    "print(numbers1 == numbers2)"
   ]
  },
  {
   "cell_type": "markdown",
   "metadata": {},
   "source": [
    "## Aliasing and Methods\n",
    "This is extremely important, but it's not often covered in many courses.  What goes on underneath the hood in Python could have unintended consequences in your code!"
   ]
  },
  {
   "cell_type": "markdown",
   "metadata": {},
   "source": [
    "### id() Function in Python - id(object)\n",
    "\n",
    "Two objects with non-overlapping lifetimes may have the same id() value. If we relate this to C, then they are actually the memory address, here in Python it is the unique id. This function is generally used internally in Python."
   ]
  },
  {
   "cell_type": "code",
   "execution_count": 34,
   "metadata": {},
   "outputs": [
    {
     "name": "stdout",
     "output_type": "stream",
     "text": [
      "2077319195144\n",
      "2077319218568\n"
     ]
    }
   ],
   "source": [
    "# test to compare the object id's of both lists\n",
    "\n",
    "print(id(numbers1))\n",
    "print(id(numbers2))\n"
   ]
  },
  {
   "cell_type": "code",
   "execution_count": 35,
   "metadata": {},
   "outputs": [
    {
     "data": {
      "text/plain": [
       "False"
      ]
     },
     "execution_count": 35,
     "metadata": {},
     "output_type": "execute_result"
    }
   ],
   "source": [
    "id(numbers1) == id(numbers2)"
   ]
  },
  {
   "cell_type": "markdown",
   "metadata": {},
   "source": [
    "<b>Why does this matter?</b> -- <b>Lists are mutable!</b>\n",
    "Consider this operation:"
   ]
  },
  {
   "cell_type": "code",
   "execution_count": 36,
   "metadata": {},
   "outputs": [
    {
     "name": "stdout",
     "output_type": "stream",
     "text": [
      "[2, 4, 6]\n",
      "[2, 4, 6, 8]\n"
     ]
    }
   ],
   "source": [
    "print(evens)\n",
    "\n",
    "#DO NOT WRITE evens = evens.append(8)\n",
    "evens.append(8)\n",
    "\n",
    "print(evens)"
   ]
  },
  {
   "cell_type": "markdown",
   "metadata": {},
   "source": [
    "We were able to append an 8 to the list! But what happens to <b>numbers1</b> and <b>numbers2</b>?"
   ]
  },
  {
   "cell_type": "code",
   "execution_count": 37,
   "metadata": {},
   "outputs": [
    {
     "name": "stdout",
     "output_type": "stream",
     "text": [
      "numbers1 =  [[2, 4, 6, 8], [1, 3, 5]]\n",
      "numbers2 =  [[2, 4, 6], [1, 3, 5]]\n"
     ]
    }
   ],
   "source": [
    "print('numbers1 = ',numbers1)\n",
    "print('numbers2 = ',numbers2)"
   ]
  },
  {
   "cell_type": "markdown",
   "metadata": {},
   "source": [
    "There are two distinct paths to the lists above.  One is through the list <b>evens</b> and the other is through <b>numbers1</b> which it is bound to.  The affects of mutating one will be visible in the other. Be careful!  Unintentional aliasing leads to programing errors that are often enormously hard to track down! "
   ]
  },
  {
   "cell_type": "code",
   "execution_count": 38,
   "metadata": {},
   "outputs": [
    {
     "name": "stdout",
     "output_type": "stream",
     "text": [
      "[2, 4, 6, 8]\n",
      "[1, 3, 5]\n"
     ]
    }
   ],
   "source": [
    "for num in numbers1:\n",
    "    print (num)"
   ]
  },
  {
   "cell_type": "markdown",
   "metadata": {},
   "source": [
    "### Using List Methods\n",
    "Python has a set of built-in methods that you can use to manipulate lists. "
   ]
  },
  {
   "cell_type": "markdown",
   "metadata": {},
   "source": [
    "Adding lists with the <b>+</b> sign. "
   ]
  },
  {
   "cell_type": "code",
   "execution_count": 39,
   "metadata": {},
   "outputs": [
    {
     "name": "stdout",
     "output_type": "stream",
     "text": [
      "[1, 3, 5]\n",
      "[2, 4, 6, 8]\n",
      "\n",
      "[1, 3, 5, 2, 4, 6, 8]\n"
     ]
    }
   ],
   "source": [
    "odds_and_evens = odds + evens\n",
    "\n",
    "print(odds)\n",
    "print(evens)\n",
    "print('')\n",
    "print(odds_and_evens)"
   ]
  },
  {
   "cell_type": "markdown",
   "metadata": {},
   "source": [
    "Adding lists with <b>extend</b>:  Adds contents to List2 to the end of List1"
   ]
  },
  {
   "cell_type": "code",
   "execution_count": 40,
   "metadata": {},
   "outputs": [
    {
     "name": "stdout",
     "output_type": "stream",
     "text": [
      "[1, 3, 5, 2, 4, 6, 8]\n"
     ]
    }
   ],
   "source": [
    "odds.extend(evens)\n",
    "\n",
    "print(odds)"
   ]
  },
  {
   "cell_type": "markdown",
   "metadata": {},
   "source": [
    "Adding lists with <b>append</b>:  Used for appending and adding elements to List"
   ]
  },
  {
   "cell_type": "code",
   "execution_count": 41,
   "metadata": {},
   "outputs": [
    {
     "name": "stdout",
     "output_type": "stream",
     "text": [
      "[1, 3, 5, 2, 4, 6, 8, [2, 4, 6, 8]]\n"
     ]
    }
   ],
   "source": [
    "odds.append(evens)\n",
    "\n",
    "print(odds)"
   ]
  },
  {
   "cell_type": "markdown",
   "metadata": {},
   "source": [
    "Reversing the order of lists using <b>reverse</b>."
   ]
  },
  {
   "cell_type": "code",
   "execution_count": 49,
   "metadata": {},
   "outputs": [
    {
     "name": "stdout",
     "output_type": "stream",
     "text": [
      "[[8, 6, 4, 2], 8, 6, 4, 2, 5, 3, 1]\n"
     ]
    }
   ],
   "source": [
    "odds.reverse()\n",
    "print(odds)"
   ]
  },
  {
   "cell_type": "markdown",
   "metadata": {},
   "source": [
    "Sorting a list using <b>sort</b>:  Used for sorting the elements of a list in ascending order."
   ]
  },
  {
   "cell_type": "code",
   "execution_count": 53,
   "metadata": {},
   "outputs": [
    {
     "name": "stdout",
     "output_type": "stream",
     "text": [
      "[8, 6, 4, 2]\n",
      "[8, 6, 4, 2]\n"
     ]
    }
   ],
   "source": [
    "print(evens)\n",
    "evens.sort(reverse=True)\n",
    "print(evens)"
   ]
  },
  {
   "cell_type": "markdown",
   "metadata": {},
   "source": [
    "### Other List Methods"
   ]
  },
  {
   "cell_type": "markdown",
   "metadata": {},
   "source": [
    "- <b>L.append(e)</b> adds the object e to the end of L.\n",
    "- <b>L.count(e)</b> returns the numbre of times that e occurs in L. \n",
    "- <b>L.insert(i,e)</b> inserts the object e into L at index i. \n",
    "- <b>L.extend(L1)</b> adds the items in list L1 to the end of L. \n",
    "- <b>L.remove(e)</b> deletes the first occurance of e from L.\n",
    "- <b>L.index(e)</b> returns the index of the first occurence of e in L, raises an exception if e is not in L. \n",
    "- <b>L.pop(i)</b> removes and returns the item at index i in L, raises an exception if L is empty.  If i is omitted, it defaults to -1, to remove and return the last element of L.\n",
    "- <b>L.sort()</b> sorts the elements of L in ascending order. \n",
    "- <b>L.reverse()</b> reverses the order of the elements in L.\n"
   ]
  },
  {
   "cell_type": "markdown",
   "metadata": {},
   "source": [
    "### List Comprehension\n",
    "<b>List Comprehension</b> provides a concise way to apply an operation to the values in a squence.  It creates a new list in which each element is the result of applying a given operation to a value from a sequence (e.g. the elements in an other list.)"
   ]
  },
  {
   "cell_type": "markdown",
   "metadata": {},
   "source": [
    "This code computes the square of every integer in the range 1 to 7. The values are assigned to a list named <b>list_of_squares</b>."
   ]
  },
  {
   "cell_type": "markdown",
   "metadata": {},
   "source": [
    "<b>List appended using a for loop, using 3 lines of code.</b>"
   ]
  },
  {
   "cell_type": "code",
   "execution_count": 61,
   "metadata": {},
   "outputs": [
    {
     "name": "stdout",
     "output_type": "stream",
     "text": [
      "[1, 2, 3, 4, 5, 6]\n"
     ]
    }
   ],
   "source": [
    "list_of_squares = []\n",
    "\n",
    "for x in range (1,7):\n",
    "    list_of_squares.append(x)\n",
    "    \n",
    "print(list_of_squares)\n"
   ]
  },
  {
   "cell_type": "markdown",
   "metadata": {},
   "source": [
    "<b> List appended using List Comprehension, using 1 line of code</b>"
   ]
  },
  {
   "cell_type": "code",
   "execution_count": 63,
   "metadata": {},
   "outputs": [
    {
     "name": "stdout",
     "output_type": "stream",
     "text": [
      "[1, 4, 9, 16, 25, 36]\n"
     ]
    }
   ],
   "source": [
    "list_of_squares = [x**2 for x in range (1,7)]\n",
    "\n",
    "print(list_of_squares)"
   ]
  },
  {
   "cell_type": "markdown",
   "metadata": {},
   "source": [
    "<b>Using List Comprehension to Find Common Values in Two Lists"
   ]
  },
  {
   "cell_type": "code",
   "execution_count": 64,
   "metadata": {},
   "outputs": [],
   "source": [
    "list_A = ['A','B','C','D',  'E','F','G']\n",
    "list_B = ['A','B','C','D',  'X','Y','Z']"
   ]
  },
  {
   "cell_type": "code",
   "execution_count": 66,
   "metadata": {},
   "outputs": [
    {
     "data": {
      "text/plain": [
       "['A', 'B', 'C', 'D']"
      ]
     },
     "execution_count": 66,
     "metadata": {},
     "output_type": "execute_result"
    }
   ],
   "source": [
    "list_C = [letter for letter in list_A if letter in list_B]\n",
    "list_C"
   ]
  },
  {
   "cell_type": "markdown",
   "metadata": {},
   "source": [
    "<b>Using List Comprehension to Find Uncommon Values in Two Lists"
   ]
  },
  {
   "cell_type": "code",
   "execution_count": 69,
   "metadata": {},
   "outputs": [
    {
     "name": "stdout",
     "output_type": "stream",
     "text": [
      "['E', 'F', 'G']\n",
      "['X', 'Y', 'Z']\n"
     ]
    }
   ],
   "source": [
    "list_D = [letter for letter in list_A if letter not in list_B]\n",
    "list_E = [letter for letter in list_B if letter not in list_A]\n",
    "\n",
    "print(list_D)\n",
    "print(list_E)"
   ]
  },
  {
   "cell_type": "markdown",
   "metadata": {},
   "source": [
    "### Creating a New List of Squares From a List of Mixed Types of Variables\n",
    "This code squares the integers in the list if they are of type int. The list is called <b>mixed</b> and it has a string value in single quotes of the value <b>a</b>."
   ]
  },
  {
   "cell_type": "code",
   "execution_count": 71,
   "metadata": {},
   "outputs": [
    {
     "data": {
      "text/plain": [
       "[1, 4, 9]"
      ]
     },
     "execution_count": 71,
     "metadata": {},
     "output_type": "execute_result"
    }
   ],
   "source": [
    "mixed = [1, 2, 'a', 3, 4.0]\n",
    "squared_mixed = [x**2 for x in mixed if type(x) == int]\n",
    "squared_mixed"
   ]
  },
  {
   "cell_type": "markdown",
   "metadata": {},
   "source": [
    "## Dictionaries\n",
    "\n",
    "Objects of type <b>dict</b> (short for dictionary) are like lists except that we index them using <b>keys</b>.  Think of a dictionary as set of key/value pairs.  Literals of type dict are enclosed in curly braces, and each element is written as a key followed by a colon followed by a value.  \n",
    "\n",
    "<b>PLEASE NOTE:</b> Unlike lists, the entries in a <b>dict</b> are unordered and cannot be accessed with an index.  That's why <b>month_numbers[1]</b> unanbiguously refers to the entry with the key 1 rather than the second entry.  "
   ]
  },
  {
   "cell_type": "markdown",
   "metadata": {},
   "source": [
    "Creating a dictionary with values."
   ]
  },
  {
   "cell_type": "code",
   "execution_count": 72,
   "metadata": {},
   "outputs": [],
   "source": [
    "month_numbers = {'Jan':1, 'Feb':2, 'Mar':3, 'Apr':4, 'May':5,\n",
    "                1:'Jan', 2:'Feb', 3:'Mar', 4:'Apr', 5:'May'}"
   ]
  },
  {
   "cell_type": "markdown",
   "metadata": {},
   "source": [
    "Accessing an item by name in the dictionary"
   ]
  },
  {
   "cell_type": "code",
   "execution_count": 92,
   "metadata": {},
   "outputs": [
    {
     "name": "stdout",
     "output_type": "stream",
     "text": [
      "The third month is Mar\n"
     ]
    }
   ],
   "source": [
    "print('The third month is ' + month_numbers[3])"
   ]
  },
  {
   "cell_type": "markdown",
   "metadata": {},
   "source": [
    "Accessing the integer items by name in the diciotnary. "
   ]
  },
  {
   "cell_type": "code",
   "execution_count": 93,
   "metadata": {},
   "outputs": [
    {
     "name": "stdout",
     "output_type": "stream",
     "text": [
      "Apr and Jan are 3 months apart\n"
     ]
    }
   ],
   "source": [
    "\n",
    "dist = month_numbers['Apr'] - month_numbers['Jan']\n",
    "print('Apr and Jan are', dist, 'months apart')"
   ]
  },
  {
   "cell_type": "markdown",
   "metadata": {},
   "source": [
    "### For Loops and Dictionaries"
   ]
  },
  {
   "cell_type": "markdown",
   "metadata": {},
   "source": [
    "Using the for loop to print the keys in a dictionary"
   ]
  },
  {
   "cell_type": "code",
   "execution_count": 94,
   "metadata": {},
   "outputs": [
    {
     "name": "stdout",
     "output_type": "stream",
     "text": [
      "Jan\n",
      "Feb\n",
      "Mar\n",
      "Apr\n",
      "May\n",
      "1\n",
      "2\n",
      "3\n",
      "4\n",
      "5\n"
     ]
    }
   ],
   "source": [
    "for key in month_numbers:\n",
    "    print(key)"
   ]
  },
  {
   "cell_type": "markdown",
   "metadata": {},
   "source": [
    "Using a for loop to print the values contained in each key of the dictionary. "
   ]
  },
  {
   "cell_type": "code",
   "execution_count": 97,
   "metadata": {},
   "outputs": [
    {
     "name": "stdout",
     "output_type": "stream",
     "text": [
      "1\n",
      "2\n",
      "3\n",
      "4\n",
      "5\n",
      "Jan\n",
      "Feb\n",
      "Mar\n",
      "Apr\n",
      "May\n"
     ]
    }
   ],
   "source": [
    "for key in month_numbers:\n",
    "    \n",
    "    value = month_numbers[key]\n",
    "    print(value)"
   ]
  },
  {
   "cell_type": "markdown",
   "metadata": {},
   "source": [
    "### Dictionary Methods"
   ]
  },
  {
   "cell_type": "markdown",
   "metadata": {},
   "source": [
    "- <b>len(d)</b> returns the number of items in d.\n",
    "- <b>d.keys()</b> returns a view of the keys in d. \n",
    "- <b>d.values()</b> returns a view of the values in d. \n",
    "- <b>k in d</b> returns True if key k is in d. \n",
    "- <b>d[k]</b> returns the item in d with key k.\n",
    "- <b>d.get(k,v)</b> returns d[k] if k is in d, and v otherwise. \n",
    "- <b>d[k] = V</b> v associates the value v with the key k in d.  If there is already a value associated with k, that value is replaced. \n",
    "- <b>del d[k]</b> removes the key k from d. \n",
    "- <b>for k in d</b> iterates over the keys in d."
   ]
  },
  {
   "cell_type": "markdown",
   "metadata": {},
   "source": [
    "## Tuples\n",
    "A tuple is a squence of elements which is ordered and <b>unchangeable, like strings.  However, unlike strings, they need not be characters.</b> In Python literals of type tuple are written with round brackets enclosing a comma-separated list of elements."
   ]
  },
  {
   "cell_type": "code",
   "execution_count": 109,
   "metadata": {},
   "outputs": [],
   "source": [
    "\n",
    "tuple1 = ('Ben', 'Gonzales')\n",
    "tuple2 = ('Past','President')\n",
    "tuple3 = ('and') \n",
    "tuple4 = ('Founder') \n",
    "tuple5 = ('of')\n",
    "tuple6 = ('AIA', 'Global')\n"
   ]
  },
  {
   "cell_type": "code",
   "execution_count": 114,
   "metadata": {},
   "outputs": [
    {
     "name": "stdout",
     "output_type": "stream",
     "text": [
      "('Ben', 'Gonzales') ('Past', 'President') and Founder of ('AIA', 'Global')\n"
     ]
    }
   ],
   "source": [
    "print(tuple1,tuple2,tuple3,tuple4,tuple5,tuple6)"
   ]
  },
  {
   "cell_type": "markdown",
   "metadata": {},
   "source": [
    "Notice from the print statement above, that the values <b>and</b> , <b>Founder </b> , and <b>of</b> were evaluated as strings and not tuples.  If you have less than two items in the round brackets, Python will evaluate to the type of that item, as the following code also demonstrates using the <b>type</b> command."
   ]
  },
  {
   "cell_type": "code",
   "execution_count": 120,
   "metadata": {},
   "outputs": [
    {
     "name": "stdout",
     "output_type": "stream",
     "text": [
      "<class 'tuple'>\n",
      "<class 'str'>\n"
     ]
    }
   ],
   "source": [
    "print(type(tuple1))\n",
    "print(type(tuple3))\n"
   ]
  },
  {
   "cell_type": "markdown",
   "metadata": {},
   "source": [
    "<b>Combining tules:</b> We can create two tuples within a tuple. "
   ]
  },
  {
   "cell_type": "code",
   "execution_count": 121,
   "metadata": {},
   "outputs": [
    {
     "name": "stdout",
     "output_type": "stream",
     "text": [
      "(('Ben', 'Gonzales'), ('Past', 'President'))\n"
     ]
    }
   ],
   "source": [
    "combined_tuple=(tuple1,tuple2)\n",
    "\n",
    "print(combined_tuple)"
   ]
  },
  {
   "cell_type": "markdown",
   "metadata": {},
   "source": [
    "### Indexing with Tuples"
   ]
  },
  {
   "cell_type": "markdown",
   "metadata": {},
   "source": [
    "Indexing with tuples is similar to lists. You have to access each item in the list. Just like lists of lists, you could drill down further as well. "
   ]
  },
  {
   "cell_type": "markdown",
   "metadata": {},
   "source": [
    "Find the first item in the tuple, which is another tuple. "
   ]
  },
  {
   "cell_type": "code",
   "execution_count": 122,
   "metadata": {},
   "outputs": [
    {
     "data": {
      "text/plain": [
       "('Ben', 'Gonzales')"
      ]
     },
     "execution_count": 122,
     "metadata": {},
     "output_type": "execute_result"
    }
   ],
   "source": [
    "combined_tuple[0]"
   ]
  },
  {
   "cell_type": "markdown",
   "metadata": {},
   "source": [
    "Find the second item in the tuple, which is another tuple."
   ]
  },
  {
   "cell_type": "code",
   "execution_count": 129,
   "metadata": {},
   "outputs": [
    {
     "data": {
      "text/plain": [
       "('Past', 'President')"
      ]
     },
     "execution_count": 129,
     "metadata": {},
     "output_type": "execute_result"
    }
   ],
   "source": [
    "combined_tuple[1]"
   ]
  },
  {
   "cell_type": "markdown",
   "metadata": {},
   "source": [
    "His first name is the first item in the first item in the combined tuple.  It's of type string or <b>str</b>."
   ]
  },
  {
   "cell_type": "code",
   "execution_count": 135,
   "metadata": {},
   "outputs": [
    {
     "name": "stdout",
     "output_type": "stream",
     "text": [
      "Ben\n",
      "<class 'str'>\n"
     ]
    }
   ],
   "source": [
    "first_name = combined_tuple[0][0]\n",
    "\n",
    "print(first_name)\n",
    "print(type(first_name))"
   ]
  },
  {
   "cell_type": "markdown",
   "metadata": {},
   "source": [
    "His last name is the second item in the first item of the combined tuple. It's also of type string or <b>str</b>."
   ]
  },
  {
   "cell_type": "code",
   "execution_count": 136,
   "metadata": {},
   "outputs": [
    {
     "name": "stdout",
     "output_type": "stream",
     "text": [
      "Gonzales\n",
      "<class 'str'>\n"
     ]
    }
   ],
   "source": [
    "last_name = combined_tuple[0][1]\n",
    "\n",
    "print(last_name)\n",
    "print(type(last_name))"
   ]
  },
  {
   "cell_type": "markdown",
   "metadata": {},
   "source": [
    "Now we can create a new string called <b>full_name</b> that has Ben's full name.  We can print it, and it's also of type string. "
   ]
  },
  {
   "cell_type": "code",
   "execution_count": 138,
   "metadata": {},
   "outputs": [
    {
     "name": "stdout",
     "output_type": "stream",
     "text": [
      "Ben Gonzales\n",
      "<class 'str'>\n"
     ]
    }
   ],
   "source": [
    "full_name = combined_tuple[0][0]+' '+combined_tuple[0][1]\n",
    "\n",
    "print(full_name)\n",
    "print(type(full_name))"
   ]
  },
  {
   "cell_type": "markdown",
   "metadata": {},
   "source": [
    "### Multiple Assignment With Tuples\n",
    "Python makes it easy to assign multple variables at the same time."
   ]
  },
  {
   "cell_type": "code",
   "execution_count": 140,
   "metadata": {},
   "outputs": [
    {
     "name": "stdout",
     "output_type": "stream",
     "text": [
      "1\n",
      "2\n",
      "3\n"
     ]
    }
   ],
   "source": [
    "x, y, z = (1, 2, 3)\n",
    "\n",
    "print(x)\n",
    "print(y)\n",
    "print(z)"
   ]
  },
  {
   "cell_type": "markdown",
   "metadata": {},
   "source": [
    "### For Loop on Tuples"
   ]
  },
  {
   "cell_type": "code",
   "execution_count": 141,
   "metadata": {},
   "outputs": [
    {
     "name": "stdout",
     "output_type": "stream",
     "text": [
      "('Ben', 'Gonzales')\n",
      "('Past', 'President')\n"
     ]
    }
   ],
   "source": [
    "for item in combined_tuple:\n",
    "    print(item)"
   ]
  },
  {
   "cell_type": "markdown",
   "metadata": {},
   "source": [
    "### Nexted For Loop to Extact Each Item in the Tuple"
   ]
  },
  {
   "cell_type": "code",
   "execution_count": 142,
   "metadata": {},
   "outputs": [
    {
     "name": "stdout",
     "output_type": "stream",
     "text": [
      "Ben\n",
      "Gonzales\n",
      "Past\n",
      "President\n"
     ]
    }
   ],
   "source": [
    "for item in combined_tuple:\n",
    "    for name in item:\n",
    "        print(name)"
   ]
  }
 ],
 "metadata": {
  "kernelspec": {
   "display_name": "Python 3",
   "language": "python",
   "name": "python3"
  },
  "language_info": {
   "codemirror_mode": {
    "name": "ipython",
    "version": 3
   },
   "file_extension": ".py",
   "mimetype": "text/x-python",
   "name": "python",
   "nbconvert_exporter": "python",
   "pygments_lexer": "ipython3",
   "version": "3.7.6"
  }
 },
 "nbformat": 4,
 "nbformat_minor": 4
}
